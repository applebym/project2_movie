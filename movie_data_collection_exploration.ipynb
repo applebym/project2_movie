{
 "cells": [
  {
   "cell_type": "markdown",
   "metadata": {},
   "source": [
    "# Movie Data Collection, Pre-Processing and Feature Engineering"
   ]
  },
  {
   "cell_type": "code",
   "execution_count": 3,
   "metadata": {
    "collapsed": false
   },
   "outputs": [],
   "source": [
    "import requests\n",
    "from bs4 import BeautifulSoup\n",
    "import re\n",
    "import pandas as pd\n",
    "from collections import defaultdict\n",
    "import dateutil.parser\n",
    "from pprint import pprint\n",
    "import pandas\n",
    "import numpy as np\n",
    "import pickle\n",
    "import matplotlib.pyplot as plt\n",
    "from scipy.stats import gaussian_kde\n",
    "from copy import deepcopy\n",
    "import seaborn as sns\n",
    "import urllib2, sys\n",
    "import string\n",
    "import gevent.monkey\n",
    "gevent.monkey.patch_socket()\n",
    "from gevent.pool import Pool\n",
    "%matplotlib inline"
   ]
  },
  {
   "cell_type": "markdown",
   "metadata": {},
   "source": [
    "### Helper methods for BeautifulSoup"
   ]
  },
  {
   "cell_type": "code",
   "execution_count": 4,
   "metadata": {
    "collapsed": true
   },
   "outputs": [],
   "source": [
    "def get_soup_ps(prefix, suffix):\n",
    "    \"\"\"Returns BeautifulSoup object given a prefix and suffix or a URL\"\"\"\n",
    "    response = requests.get(prefix + suffix)   \n",
    "    page = response.text\n",
    "    soup = BeautifulSoup(page, 'html.parser')\n",
    "    return soup\n",
    "\n",
    "def get_soup_url(url):\n",
    "    \"\"\"Returns BeautifulSoup object given a URL\"\"\"\n",
    "    response = requests.get(url)\n",
    "    page = response.text\n",
    "    soup = BeautifulSoup(page, 'html.parser')\n",
    "    return soup"
   ]
  },
  {
   "cell_type": "markdown",
   "metadata": {},
   "source": [
    "### Helper methods to parse HTML and clean text"
   ]
  },
  {
   "cell_type": "code",
   "execution_count": 8,
   "metadata": {
    "collapsed": true
   },
   "outputs": [],
   "source": [
    "def get_movie_value(soup, field_name):\n",
    "    '''Grab a value from boxofficemojo HTML\n",
    "    \n",
    "    Takes a string attribute of a movie on the page and\n",
    "    returns the string in the next sibling object\n",
    "    (the value for that attribute)\n",
    "    or None if nothing is found.\n",
    "    '''\n",
    "    obj = soup.find(text=re.compile(field_name))\n",
    "    if not obj: \n",
    "        return None\n",
    "    next_sibling = obj.findNextSibling()\n",
    "    if next_sibling:\n",
    "        return next_sibling.text \n",
    "    else:\n",
    "        next_sibling = obj.find_parent().findNextSibling()\n",
    "        return next_sibling\n",
    "\n",
    "    \n",
    "def get_movie_values_odd(soup, field_name):\n",
    "    '''Grabs value from boxofficemojo HTML in \n",
    "    Domestic Summary box\n",
    "    \n",
    "    Takes a string attribute of a movie on the page and\n",
    "    returns the string in the next sibling object\n",
    "    (the value for that attribute)\n",
    "    or None if nothing is found.\n",
    "    '''\n",
    "    try:\n",
    "        div_with_stats = soup.find_all('div',class_='mp_box_content')[1]\n",
    "        flag = False\n",
    "        obj = ''\n",
    "        for element in div_with_stats.find_all('td'):\n",
    "            if flag:\n",
    "                obj = element.text\n",
    "                return obj\n",
    "            if field_name in str(element):\n",
    "                flag = True\n",
    "    except:\n",
    "        return None\n",
    "\n",
    "            \n",
    "def get_weekly_rev(soup):\n",
    "    '''Retrieves weekly revenue for given movie\n",
    "    \n",
    "    Returns a list of the weekly revenue,\n",
    "    ordered by week since release\n",
    "    '''\n",
    "    try:\n",
    "        weekly_rev_list = []\n",
    "        for element in soup.find_all('center')[1]:\n",
    "            box = element.find_all('font')\n",
    "            for thing in box:\n",
    "                if '$' in thing.text:\n",
    "                    clean_num = money_to_int(thing.text)\n",
    "                    weekly_rev_list.append(clean_num)\n",
    "        if weekly_rev_list[0] == weekly_rev_list[1]:\n",
    "            return weekly_rev_list[3::3]\n",
    "        else:\n",
    "            return weekly_rev_list[1::3]\n",
    "    except:\n",
    "        return None\n",
    "    \n",
    "\n",
    "def to_date(datestring):\n",
    "    try:\n",
    "        date = dateutil.parser.parse(datestring)\n",
    "        return date\n",
    "    except:\n",
    "        return datestring\n",
    "    \n",
    "\n",
    "def money_to_int(moneystring):\n",
    "    try:\n",
    "        moneystring = moneystring.replace('$', '').replace(',', '')\n",
    "        if 'mil' in moneystring:\n",
    "            moneystring_digits = moneystring.split(' ')[0].strip()\n",
    "            return int(moneystring_digits) * 1000000\n",
    "        return int(moneystring)\n",
    "    except:\n",
    "        return None\n",
    "    \n",
    "    \n",
    "def runtime_to_minutes(runtimestring):\n",
    "    try:\n",
    "        runtime = runtimestring.split()\n",
    "        minutes = int(runtime[0])*60 + int(runtime[2])\n",
    "        return minutes\n",
    "    except:\n",
    "        return None\n",
    "\n",
    "    \n",
    "def theaters_to_int(theaterstring):\n",
    "    try:\n",
    "        theaters = int(str(theaterstring.split()[0]).replace(',',''))\n",
    "        return theaters\n",
    "    except:\n",
    "        return None\n",
    "\n",
    "\n",
    "def release_time_to_days(releasestring):\n",
    "    try:\n",
    "        days = int(releasestring.split()[0])\n",
    "        return days\n",
    "    except:\n",
    "        return None"
   ]
  },
  {
   "cell_type": "markdown",
   "metadata": {},
   "source": [
    "## Scrape Movie Data from BoxOfficeMojo.com"
   ]
  },
  {
   "cell_type": "markdown",
   "metadata": {},
   "source": [
    "First, get a list of all of the links to individual movie pages from the 'Top Movies of All Time' list on Box Office Mojo."
   ]
  },
  {
   "cell_type": "code",
   "execution_count": 6,
   "metadata": {
    "collapsed": false,
    "scrolled": true
   },
   "outputs": [],
   "source": [
    "movie_prefix = 'http://www.boxofficemojo.com/alltime/domestic.htm?page=' \n",
    "partial_movie_suffix = '&p=.htm'\n",
    "top_movie_links = set()\n",
    "\n",
    "for page in range(1,41):\n",
    "    full_movie_suffix = str(page) + partial_movie_suffix\n",
    "    soup = get_soup_ps(movie_prefix, full_movie_suffix)\n",
    "    for element in soup.find_all('a'):\n",
    "        link = element.get('href')\n",
    "        if link.startswith('/movies/?id'):\n",
    "            top_movie_links.add(link)\n",
    "    # Fix edge case\n",
    "    if '/movies/?id=michelledarnell.htm' in top_movie_links:\n",
    "        top_movie_links.remove('/movies/?id=michelledarnell.htm')"
   ]
  },
  {
   "cell_type": "markdown",
   "metadata": {},
   "source": [
    "Number of movie links"
   ]
  },
  {
   "cell_type": "code",
   "execution_count": 7,
   "metadata": {
    "collapsed": false
   },
   "outputs": [
    {
     "name": "stdout",
     "output_type": "stream",
     "text": [
      "3903\n"
     ]
    }
   ],
   "source": [
    "len(top_movie_links)"
   ]
  },
  {
   "cell_type": "markdown",
   "metadata": {},
   "source": [
    "Extract relevant info from each movie page and store in a nested dictionary"
   ]
  },
  {
   "cell_type": "code",
   "execution_count": null,
   "metadata": {
    "collapsed": false,
    "scrolled": true
   },
   "outputs": [],
   "source": [
    "headers = ['movieid','movie title', 'domestic total gross',\n",
    "           'release date', 'runtime (mins)', 'rating', \n",
    "           'genre', 'production budget', 'distributor',\n",
    "            'opening weekend revenue', 'number of theaters',\n",
    "            'time in theaters (days)']\n",
    "\n",
    "base_url = 'http://www.boxofficemojo.com/'\n",
    "\n",
    "movie_data = []\n",
    "rev_data = {}\n",
    "missing_links = []\n",
    "\n",
    "counter = 1\n",
    "\n",
    "for movie in list(top_movie_links):\n",
    "    try:\n",
    "        # Create a movieid\n",
    "        movieid = counter\n",
    "        counter += 1\n",
    "\n",
    "        # Create dictionary of movieid to list of weekly revenues\n",
    "        movie_link_split = movie.split('?')\n",
    "        weekly_suffix = movie_link_split[0] + '?page=weekly&' + movie_link_split[1]\n",
    "        weekly_soup = get_soup_ps(base_url, weekly_suffix)\n",
    "\n",
    "        weekly_revenue = get_weekly_rev(weekly_soup)\n",
    "\n",
    "        rev_data[movieid] = weekly_revenue\n",
    "\n",
    "\n",
    "        # Create list of movie data dictionarys\n",
    "        soup = get_soup_ps(base_url, movie)\n",
    "        adj_soup = get_soup_ps(base_url, movie + '&adjust_yr=2016&p=.htm')\n",
    "        # Title\n",
    "        raw_title_string = soup.find('title').text\n",
    "        title = raw_title_string.split('(')[0].strip()\n",
    "        # Release Date\n",
    "        raw_release_date = get_movie_value(soup,'Release Date')\n",
    "        release_date = to_date(raw_release_date)\n",
    "        # Total Domestic Gross Revenue\n",
    "        raw_domestic_total_gross = get_movie_value(adj_soup,'Domestic Total')\n",
    "        domestic_total_gross = money_to_int(raw_domestic_total_gross)\n",
    "        # Runtime\n",
    "        raw_runtime = get_movie_value(soup,'Runtime')\n",
    "        runtime = runtime_to_minutes(raw_runtime)\n",
    "        # Rating\n",
    "        rating = get_movie_value(soup,'MPAA Rating')\n",
    "        # Genre\n",
    "        genre = get_movie_value(soup, 'Genre:')\n",
    "        # Production Budget\n",
    "        raw_prod_budget = get_movie_value(soup, 'Production Budget')\n",
    "        prod_budget = money_to_int(raw_prod_budget)\n",
    "        # Distributor\n",
    "        distributor = get_movie_value(soup, 'Distributor:')\n",
    "        # Opening Weekend Revenue\n",
    "        raw_opening_weekend = get_movie_values_odd(adj_soup, 'Opening')\n",
    "        opening_weekend = money_to_int(raw_opening_weekend)\n",
    "        # Number of Theaters at Widest Release\n",
    "        raw_widest_release = get_movie_values_odd(soup, 'Widest')\n",
    "        widest_release = theaters_to_int(raw_widest_release)\n",
    "        # Number of Days in Theaters\n",
    "        raw_realease_time = get_movie_values_odd(soup, 'In Release')\n",
    "        release_time = release_time_to_days(raw_realease_time)\n",
    "        # Close Date\n",
    "        raw_close_date = get_movie_values_odd(soup, 'Close')\n",
    "        close_date = to_date(raw_close_date)\n",
    "\n",
    "        # Calculate days in theaters if not given\n",
    "        if release_time == None and close_date != None:\n",
    "            day_diff = close_date - release_date\n",
    "            release_time = release_time_to_days(str(day_diff))\n",
    "        elif release_time == None and close_date == None and weekly_revenue != None:\n",
    "            num_weeks = len(weekly_revenue)\n",
    "            release_time = num_weeks * 7\n",
    "\n",
    "\n",
    "        movie_dict = dict(zip(headers, [movieid, \n",
    "                                        title,\n",
    "                                        domestic_total_gross,\n",
    "                                        release_date,\n",
    "                                        runtime,\n",
    "                                        rating,\n",
    "                                        genre,\n",
    "                                        prod_budget,\n",
    "                                        distributor,\n",
    "                                        opening_weekend,\n",
    "                                        widest_release,\n",
    "                                        release_time]))\n",
    "\n",
    "        movie_data.append(movie_dict) \n",
    "    \n",
    "    except:\n",
    "        print 'ChunkedEncodingError'\n",
    "        missing_links.append(movie)"
   ]
  },
  {
   "cell_type": "markdown",
   "metadata": {},
   "source": [
    "Here is a sample of the output. **rev_data** is a dictionary where the key is a movie's id and the value is that movies weekly box office revenue. **movie_data** is a list of dictionary where each dictionary contains information on a single movie."
   ]
  },
  {
   "cell_type": "code",
   "execution_count": 27,
   "metadata": {
    "collapsed": false,
    "scrolled": true
   },
   "outputs": [
    {
     "name": "stdout",
     "output_type": "stream",
     "text": [
      "{1: [4934, 5692, 5092, 3050, 2618, 1822, 1592, 1251], 2: [10639, 9349, 9011, 7849, 5817, 4080, 3556, 2798, 1903, 1726], 3: [5325, 2944, 1842, 1211, 759, 763, 607, 465, 430, 397, 420, 485, 691, 480, 421], 4: [6324, 3495, 2855, 1455, 1200, 1055, 650, 605, 580], 5: [7924, 5851, 3130, 2759, 4243, 3014, 2248, 1730, 1349, 1196], 6: [43292, 41573, 5905, 4385, 3507, 3075, 2329], 7: [7709, 4813, 2411, 1659, 1120, 930, 794, 659, 2182, 1192, 1008, 1519, 1022, 1548], 8: [2181, 2530, 1190, 1172], 9: [7463, 6550, 7799, 5877, 3927, 2917, 2316, 1860, 1667], 10: [12665, 7955, 4965, 2985, 2017, 1999, 1181, 1037]}\n",
      "[{'rating': u'PG', 'time in theaters (days)': 56, 'movieid': 1, 'production budget': None, 'domestic total gross': 90944400, 'number of theaters': 1515, 'opening weekend revenue': 8129500, 'distributor': u'Orion Pictures', 'movie title': u'Dirty Rotten Scoundrels', 'genre': u'Comedy', 'release date': datetime.datetime(1988, 12, 16, 0, 0), 'runtime (mins)': 110}, {'rating': u'R', 'time in theaters (days)': 70, 'movieid': 2, 'production budget': 30000000, 'domestic total gross': 252358600, 'number of theaters': 2169, 'opening weekend revenue': 30088300, 'distributor': u'Fox', 'movie title': u'Speed', 'genre': u'Action Thriller', 'release date': datetime.datetime(1994, 6, 10, 0, 0), 'runtime (mins)': 116}, {'rating': u'PG-13', 'time in theaters (days)': 105, 'movieid': 3, 'production budget': 75000000, 'domestic total gross': 48884600, 'number of theaters': 2128, 'opening weekend revenue': 14084800, 'distributor': u'Paramount', 'movie title': u'The Out-of-Towners', 'genre': u'Comedy', 'release date': datetime.datetime(1999, 4, 2, 0, 0), 'runtime (mins)': 90}, {'rating': u'R', 'time in theaters (days)': 63, 'movieid': 4, 'production budget': 57000000, 'domestic total gross': 39263600, 'number of theaters': 1612, 'opening weekend revenue': 11081500, 'distributor': u'Universal', 'movie title': u\"Captain Corelli's Mandolin\", 'genre': u'War Romance', 'release date': datetime.datetime(2001, 8, 17, 0, 0), 'runtime (mins)': 129}, {'rating': u'R', 'time in theaters (days)': 70, 'movieid': 5, 'production budget': None, 'domestic total gross': 108640100, 'number of theaters': 1684, 'opening weekend revenue': 15596500, 'distributor': u'Paramount', 'movie title': u'Planes, Trains and Automobiles', 'genre': u'Comedy', 'release date': datetime.datetime(1987, 11, 25, 0, 0), 'runtime (mins)': 92}, {'rating': u'R', 'time in theaters (days)': 49, 'movieid': 6, 'production budget': None, 'domestic total gross': 32374700, 'number of theaters': 635, 'opening weekend revenue': None, 'distributor': u'Triumph', 'movie title': u'Avalon', 'genre': u'Period Drama', 'release date': datetime.datetime(1990, 10, 5, 0, 0), 'runtime (mins)': 128}, {'rating': u'PG-13', 'time in theaters (days)': 112, 'movieid': 7, 'production budget': None, 'domestic total gross': 55006600, 'number of theaters': 2256, 'opening weekend revenue': 19482600, 'distributor': u'DreamWorks', 'movie title': u'Head of State', 'genre': u'Comedy', 'release date': datetime.datetime(2003, 3, 28, 0, 0), 'runtime (mins)': 95}, {'rating': u'PG', 'time in theaters (days)': 28, 'movieid': 8, 'production budget': None, 'domestic total gross': 39524000, 'number of theaters': 2419, 'opening weekend revenue': 8285700, 'distributor': u'Universal', 'movie title': u'Flipper', 'genre': u'Family Adventure', 'release date': datetime.datetime(1996, 5, 17, 0, 0), 'runtime (mins)': 97}, {'rating': u'R', 'time in theaters (days)': 63, 'movieid': 9, 'production budget': None, 'domestic total gross': 94767400, 'number of theaters': 989, 'opening weekend revenue': 9133000, 'distributor': u'Fox', 'movie title': u'Wall Street', 'genre': u'Drama', 'release date': datetime.datetime(1987, 12, 11, 0, 0), 'runtime (mins)': 125}, {'rating': u'PG-13', 'time in theaters (days)': 56, 'movieid': 10, 'production budget': 55000000, 'domestic total gross': 122476400, 'number of theaters': 1866, 'opening weekend revenue': 25388000, 'distributor': u'Universal', 'movie title': u'Death Becomes Her', 'genre': u'Horror Comedy', 'release date': datetime.datetime(1992, 7, 31, 0, 0), 'runtime (mins)': 103}]\n"
     ]
    }
   ],
   "source": [
    "test_rev_data = {k: rev_data[k] for k in rev_data.keys()[:10]}\n",
    "print (test_rev_data)\n",
    "print (movie_data[:10])"
   ]
  },
  {
   "cell_type": "markdown",
   "metadata": {},
   "source": [
    "Pickle if necessary"
   ]
  },
  {
   "cell_type": "code",
   "execution_count": null,
   "metadata": {
    "collapsed": false
   },
   "outputs": [],
   "source": [
    "with open('movie_data.pickle', 'wb') as handle:\n",
    "    pickle.dump(movie_data, handle)\n",
    "\n",
    "with open('rev_data.pickle', 'wb') as handle:\n",
    "    pickle.dump(movie_data, handle)"
   ]
  },
  {
   "cell_type": "markdown",
   "metadata": {},
   "source": [
    "## Clean movie data and create / select features"
   ]
  },
  {
   "cell_type": "markdown",
   "metadata": {},
   "source": [
    "Add movie data to pandas dataframe"
   ]
  },
  {
   "cell_type": "code",
   "execution_count": 32,
   "metadata": {
    "collapsed": false
   },
   "outputs": [],
   "source": [
    "moviedf = pd.DataFrame(movie_data)"
   ]
  },
  {
   "cell_type": "markdown",
   "metadata": {},
   "source": [
    "Check data types"
   ]
  },
  {
   "cell_type": "code",
   "execution_count": 33,
   "metadata": {
    "collapsed": false
   },
   "outputs": [
    {
     "name": "stdout",
     "output_type": "stream",
     "text": [
      "distributor                        object\n",
      "domestic total gross              float64\n",
      "genre                              object\n",
      "movie title                        object\n",
      "movieid                             int64\n",
      "number of theaters                float64\n",
      "opening weekend revenue           float64\n",
      "production budget                 float64\n",
      "rating                             object\n",
      "release date               datetime64[ns]\n",
      "runtime (mins)                    float64\n",
      "time in theaters (days)           float64\n",
      "dtype: object\n"
     ]
    }
   ],
   "source": [
    "moviedf.dtypes"
   ]
  },
  {
   "cell_type": "markdown",
   "metadata": {},
   "source": [
    "Count number of non-zero entries for each feature"
   ]
  },
  {
   "cell_type": "code",
   "execution_count": 34,
   "metadata": {
    "collapsed": false
   },
   "outputs": [
    {
     "data": {
      "text/plain": [
       "distributor                3900\n",
       "domestic total gross       3900\n",
       "genre                      3900\n",
       "movie title                3903\n",
       "movieid                    3903\n",
       "number of theaters         3632\n",
       "opening weekend revenue    3297\n",
       "production budget          2025\n",
       "rating                     3900\n",
       "release date               3900\n",
       "runtime (mins)             3899\n",
       "time in theaters (days)    3654\n",
       "dtype: int64"
      ]
     },
     "execution_count": 34,
     "metadata": {},
     "output_type": "execute_result"
    }
   ],
   "source": [
    "moviedf.count(axis=0)"
   ]
  },
  {
   "cell_type": "markdown",
   "metadata": {},
   "source": [
    "Look at description of numerical features"
   ]
  },
  {
   "cell_type": "code",
   "execution_count": 36,
   "metadata": {
    "collapsed": false
   },
   "outputs": [
    {
     "data": {
      "text/html": [
       "<div>\n",
       "<table border=\"1\" class=\"dataframe\">\n",
       "  <thead>\n",
       "    <tr style=\"text-align: right;\">\n",
       "      <th></th>\n",
       "      <th>domestic total gross</th>\n",
       "      <th>movieid</th>\n",
       "      <th>number of theaters</th>\n",
       "      <th>opening weekend revenue</th>\n",
       "      <th>production budget</th>\n",
       "      <th>runtime (mins)</th>\n",
       "      <th>time in theaters (days)</th>\n",
       "    </tr>\n",
       "  </thead>\n",
       "  <tbody>\n",
       "    <tr>\n",
       "      <th>count</th>\n",
       "      <td>3.900000e+03</td>\n",
       "      <td>3903.000000</td>\n",
       "      <td>3632.000000</td>\n",
       "      <td>3.297000e+03</td>\n",
       "      <td>2.025000e+03</td>\n",
       "      <td>3899.000000</td>\n",
       "      <td>3654.000000</td>\n",
       "    </tr>\n",
       "    <tr>\n",
       "      <th>mean</th>\n",
       "      <td>9.625383e+07</td>\n",
       "      <td>1952.000000</td>\n",
       "      <td>2230.817181</td>\n",
       "      <td>2.354510e+07</td>\n",
       "      <td>5.487065e+07</td>\n",
       "      <td>108.427289</td>\n",
       "      <td>93.705255</td>\n",
       "    </tr>\n",
       "    <tr>\n",
       "      <th>std</th>\n",
       "      <td>9.894027e+07</td>\n",
       "      <td>1126.843379</td>\n",
       "      <td>933.700176</td>\n",
       "      <td>2.306523e+07</td>\n",
       "      <td>4.632437e+07</td>\n",
       "      <td>19.376241</td>\n",
       "      <td>175.692769</td>\n",
       "    </tr>\n",
       "    <tr>\n",
       "      <th>min</th>\n",
       "      <td>1.263930e+07</td>\n",
       "      <td>1.000000</td>\n",
       "      <td>2.000000</td>\n",
       "      <td>4.960000e+04</td>\n",
       "      <td>1.500000e+04</td>\n",
       "      <td>38.000000</td>\n",
       "      <td>0.000000</td>\n",
       "    </tr>\n",
       "    <tr>\n",
       "      <th>25%</th>\n",
       "      <td>3.758938e+07</td>\n",
       "      <td>976.500000</td>\n",
       "      <td>1489.750000</td>\n",
       "      <td>1.054660e+07</td>\n",
       "      <td>2.200000e+07</td>\n",
       "      <td>95.000000</td>\n",
       "      <td>42.000000</td>\n",
       "    </tr>\n",
       "    <tr>\n",
       "      <th>50%</th>\n",
       "      <td>6.257970e+07</td>\n",
       "      <td>1952.000000</td>\n",
       "      <td>2292.500000</td>\n",
       "      <td>1.649820e+07</td>\n",
       "      <td>4.000000e+07</td>\n",
       "      <td>106.000000</td>\n",
       "      <td>77.000000</td>\n",
       "    </tr>\n",
       "    <tr>\n",
       "      <th>75%</th>\n",
       "      <td>1.153584e+08</td>\n",
       "      <td>2927.500000</td>\n",
       "      <td>2950.000000</td>\n",
       "      <td>2.766540e+07</td>\n",
       "      <td>7.500000e+07</td>\n",
       "      <td>118.000000</td>\n",
       "      <td>112.000000</td>\n",
       "    </tr>\n",
       "    <tr>\n",
       "      <th>max</th>\n",
       "      <td>1.239014e+09</td>\n",
       "      <td>3903.000000</td>\n",
       "      <td>4468.000000</td>\n",
       "      <td>2.479667e+08</td>\n",
       "      <td>3.000000e+08</td>\n",
       "      <td>227.000000</td>\n",
       "      <td>4697.000000</td>\n",
       "    </tr>\n",
       "  </tbody>\n",
       "</table>\n",
       "</div>"
      ],
      "text/plain": [
       "       domestic total gross      movieid  number of theaters  \\\n",
       "count          3.900000e+03  3903.000000         3632.000000   \n",
       "mean           9.625383e+07  1952.000000         2230.817181   \n",
       "std            9.894027e+07  1126.843379          933.700176   \n",
       "min            1.263930e+07     1.000000            2.000000   \n",
       "25%            3.758938e+07   976.500000         1489.750000   \n",
       "50%            6.257970e+07  1952.000000         2292.500000   \n",
       "75%            1.153584e+08  2927.500000         2950.000000   \n",
       "max            1.239014e+09  3903.000000         4468.000000   \n",
       "\n",
       "       opening weekend revenue  production budget  runtime (mins)  \\\n",
       "count             3.297000e+03       2.025000e+03     3899.000000   \n",
       "mean              2.354510e+07       5.487065e+07      108.427289   \n",
       "std               2.306523e+07       4.632437e+07       19.376241   \n",
       "min               4.960000e+04       1.500000e+04       38.000000   \n",
       "25%               1.054660e+07       2.200000e+07       95.000000   \n",
       "50%               1.649820e+07       4.000000e+07      106.000000   \n",
       "75%               2.766540e+07       7.500000e+07      118.000000   \n",
       "max               2.479667e+08       3.000000e+08      227.000000   \n",
       "\n",
       "       time in theaters (days)  \n",
       "count              3654.000000  \n",
       "mean                 93.705255  \n",
       "std                 175.692769  \n",
       "min                   0.000000  \n",
       "25%                  42.000000  \n",
       "50%                  77.000000  \n",
       "75%                 112.000000  \n",
       "max                4697.000000  "
      ]
     },
     "execution_count": 36,
     "metadata": {},
     "output_type": "execute_result"
    }
   ],
   "source": [
    "moviedf.describe()"
   ]
  },
  {
   "cell_type": "markdown",
   "metadata": {},
   "source": [
    "Rename columns"
   ]
  },
  {
   "cell_type": "code",
   "execution_count": null,
   "metadata": {
    "collapsed": true
   },
   "outputs": [],
   "source": [
    "moviedf = moviedf.rename(columns={'distributor':'dist', 'domestic total gross': 'dom_tot_gross',\n",
    "                        'movie title': 'title', 'number of theaters': 'num_theaters',\n",
    "                        'opening weekend revenue': 'open_rev', 'production budget': \n",
    "                        'budget', 'release date': 'release', 'runtime (mins)': 'runtime',\n",
    "                        'time in theaters (days)': 'time_theaters', 'release month': 'month',\n",
    "                        'decay rate': 'decay'})"
   ]
  },
  {
   "cell_type": "markdown",
   "metadata": {},
   "source": [
    "Notice how 'time in theaters' contains some abnormally large numbers. Checking which movies were in theaters for over 500 days shows us these are mostly IMAX movies, likely showing in special theaters (i.e. at museums)."
   ]
  },
  {
   "cell_type": "code",
   "execution_count": 37,
   "metadata": {
    "collapsed": false
   },
   "outputs": [
    {
     "data": {
      "text/html": [
       "<div>\n",
       "<table border=\"1\" class=\"dataframe\">\n",
       "  <thead>\n",
       "    <tr style=\"text-align: right;\">\n",
       "      <th></th>\n",
       "      <th>distributor</th>\n",
       "      <th>domestic total gross</th>\n",
       "      <th>genre</th>\n",
       "      <th>movie title</th>\n",
       "      <th>movieid</th>\n",
       "      <th>number of theaters</th>\n",
       "      <th>opening weekend revenue</th>\n",
       "      <th>production budget</th>\n",
       "      <th>rating</th>\n",
       "      <th>release date</th>\n",
       "      <th>runtime (mins)</th>\n",
       "      <th>time in theaters (days)</th>\n",
       "    </tr>\n",
       "  </thead>\n",
       "  <tbody>\n",
       "    <tr>\n",
       "      <th>28</th>\n",
       "      <td>Warner Bros.</td>\n",
       "      <td>40405900.0</td>\n",
       "      <td>IMAX</td>\n",
       "      <td>Under the Sea 3D</td>\n",
       "      <td>29</td>\n",
       "      <td>108.0</td>\n",
       "      <td>771100.0</td>\n",
       "      <td>NaN</td>\n",
       "      <td>G</td>\n",
       "      <td>2009-02-13</td>\n",
       "      <td>40.0</td>\n",
       "      <td>2310.0</td>\n",
       "    </tr>\n",
       "    <tr>\n",
       "      <th>490</th>\n",
       "      <td>Sony Classics</td>\n",
       "      <td>22447900.0</td>\n",
       "      <td>IMAX</td>\n",
       "      <td>Across the Sea of Time</td>\n",
       "      <td>491</td>\n",
       "      <td>2.0</td>\n",
       "      <td>NaN</td>\n",
       "      <td>NaN</td>\n",
       "      <td>G</td>\n",
       "      <td>1995-10-20</td>\n",
       "      <td>51.0</td>\n",
       "      <td>3142.0</td>\n",
       "    </tr>\n",
       "    <tr>\n",
       "      <th>666</th>\n",
       "      <td>Warner Bros.</td>\n",
       "      <td>15663600.0</td>\n",
       "      <td>IMAX</td>\n",
       "      <td>To the Arctic</td>\n",
       "      <td>667</td>\n",
       "      <td>52.0</td>\n",
       "      <td>289500.0</td>\n",
       "      <td>NaN</td>\n",
       "      <td>G</td>\n",
       "      <td>2012-04-20</td>\n",
       "      <td>40.0</td>\n",
       "      <td>1127.0</td>\n",
       "    </tr>\n",
       "    <tr>\n",
       "      <th>792</th>\n",
       "      <td>IMAX</td>\n",
       "      <td>126001600.0</td>\n",
       "      <td>IMAX</td>\n",
       "      <td>Space Station 3-D</td>\n",
       "      <td>793</td>\n",
       "      <td>64.0</td>\n",
       "      <td>733000.0</td>\n",
       "      <td>NaN</td>\n",
       "      <td>Unrated</td>\n",
       "      <td>2002-04-19</td>\n",
       "      <td>46.0</td>\n",
       "      <td>4697.0</td>\n",
       "    </tr>\n",
       "    <tr>\n",
       "      <th>1105</th>\n",
       "      <td>Sony Classics</td>\n",
       "      <td>24348500.0</td>\n",
       "      <td>IMAX</td>\n",
       "      <td>Cirque du Soleil: Journey of Man</td>\n",
       "      <td>1106</td>\n",
       "      <td>22.0</td>\n",
       "      <td>80400.0</td>\n",
       "      <td>NaN</td>\n",
       "      <td>G</td>\n",
       "      <td>2000-05-05</td>\n",
       "      <td>38.0</td>\n",
       "      <td>1402.0</td>\n",
       "    </tr>\n",
       "    <tr>\n",
       "      <th>1187</th>\n",
       "      <td>WGB.</td>\n",
       "      <td>23353700.0</td>\n",
       "      <td>IMAX</td>\n",
       "      <td>Shackleton's Antarctic Adventure</td>\n",
       "      <td>1188</td>\n",
       "      <td>26.0</td>\n",
       "      <td>NaN</td>\n",
       "      <td>NaN</td>\n",
       "      <td>G</td>\n",
       "      <td>2001-02-10</td>\n",
       "      <td>40.0</td>\n",
       "      <td>1034.0</td>\n",
       "    </tr>\n",
       "    <tr>\n",
       "      <th>1229</th>\n",
       "      <td>IMAX</td>\n",
       "      <td>82589700.0</td>\n",
       "      <td>IMAX</td>\n",
       "      <td>T-Rex: Back to the Cretaceous</td>\n",
       "      <td>1230</td>\n",
       "      <td>38.0</td>\n",
       "      <td>NaN</td>\n",
       "      <td>NaN</td>\n",
       "      <td>Unrated</td>\n",
       "      <td>1998-10-23</td>\n",
       "      <td>45.0</td>\n",
       "      <td>3234.0</td>\n",
       "    </tr>\n",
       "    <tr>\n",
       "      <th>1317</th>\n",
       "      <td>IMAX</td>\n",
       "      <td>26204200.0</td>\n",
       "      <td>IMAX</td>\n",
       "      <td>Galapagos</td>\n",
       "      <td>1318</td>\n",
       "      <td>14.0</td>\n",
       "      <td>NaN</td>\n",
       "      <td>NaN</td>\n",
       "      <td>Unrated</td>\n",
       "      <td>1999-10-29</td>\n",
       "      <td>40.0</td>\n",
       "      <td>3794.0</td>\n",
       "    </tr>\n",
       "    <tr>\n",
       "      <th>1621</th>\n",
       "      <td>Buena Vista</td>\n",
       "      <td>24491000.0</td>\n",
       "      <td>IMAX</td>\n",
       "      <td>Ghosts of the Abyss</td>\n",
       "      <td>1622</td>\n",
       "      <td>97.0</td>\n",
       "      <td>2032100.0</td>\n",
       "      <td>NaN</td>\n",
       "      <td>G</td>\n",
       "      <td>2003-04-11</td>\n",
       "      <td>61.0</td>\n",
       "      <td>917.0</td>\n",
       "    </tr>\n",
       "    <tr>\n",
       "      <th>1664</th>\n",
       "      <td>Warner Bros.</td>\n",
       "      <td>57619400.0</td>\n",
       "      <td>IMAX</td>\n",
       "      <td>Deep Sea 3D</td>\n",
       "      <td>1665</td>\n",
       "      <td>47.0</td>\n",
       "      <td>930100.0</td>\n",
       "      <td>NaN</td>\n",
       "      <td>G</td>\n",
       "      <td>2006-03-03</td>\n",
       "      <td>40.0</td>\n",
       "      <td>2842.0</td>\n",
       "    </tr>\n",
       "    <tr>\n",
       "      <th>2021</th>\n",
       "      <td>Warner Bros.</td>\n",
       "      <td>30148400.0</td>\n",
       "      <td>IMAX</td>\n",
       "      <td>NASCAR 3D: The IMAX Experience</td>\n",
       "      <td>2022</td>\n",
       "      <td>73.0</td>\n",
       "      <td>2035100.0</td>\n",
       "      <td>NaN</td>\n",
       "      <td>PG</td>\n",
       "      <td>2004-03-12</td>\n",
       "      <td>40.0</td>\n",
       "      <td>644.0</td>\n",
       "    </tr>\n",
       "    <tr>\n",
       "      <th>2110</th>\n",
       "      <td>IMAX</td>\n",
       "      <td>19086900.0</td>\n",
       "      <td>IMAX</td>\n",
       "      <td>Extreme</td>\n",
       "      <td>2111</td>\n",
       "      <td>21.0</td>\n",
       "      <td>NaN</td>\n",
       "      <td>NaN</td>\n",
       "      <td>Unrated</td>\n",
       "      <td>1999-04-02</td>\n",
       "      <td>40.0</td>\n",
       "      <td>1525.0</td>\n",
       "    </tr>\n",
       "    <tr>\n",
       "      <th>2383</th>\n",
       "      <td>IMAX</td>\n",
       "      <td>43220300.0</td>\n",
       "      <td>IMAX</td>\n",
       "      <td>Magnificent Desolation</td>\n",
       "      <td>2384</td>\n",
       "      <td>82.0</td>\n",
       "      <td>650900.0</td>\n",
       "      <td>NaN</td>\n",
       "      <td>Unrated</td>\n",
       "      <td>2005-09-23</td>\n",
       "      <td>40.0</td>\n",
       "      <td>2296.0</td>\n",
       "    </tr>\n",
       "    <tr>\n",
       "      <th>2403</th>\n",
       "      <td>SK Films</td>\n",
       "      <td>25652500.0</td>\n",
       "      <td>IMAX</td>\n",
       "      <td>Bugs!</td>\n",
       "      <td>2404</td>\n",
       "      <td>33.0</td>\n",
       "      <td>NaN</td>\n",
       "      <td>NaN</td>\n",
       "      <td>Unrated</td>\n",
       "      <td>2003-03-12</td>\n",
       "      <td>40.0</td>\n",
       "      <td>1621.0</td>\n",
       "    </tr>\n",
       "    <tr>\n",
       "      <th>2535</th>\n",
       "      <td>IMAX</td>\n",
       "      <td>68713900.0</td>\n",
       "      <td>IMAX</td>\n",
       "      <td>Mysteries of Egypt</td>\n",
       "      <td>2536</td>\n",
       "      <td>27.0</td>\n",
       "      <td>NaN</td>\n",
       "      <td>NaN</td>\n",
       "      <td>Unrated</td>\n",
       "      <td>1998-08-21</td>\n",
       "      <td>38.0</td>\n",
       "      <td>871.0</td>\n",
       "    </tr>\n",
       "    <tr>\n",
       "      <th>2824</th>\n",
       "      <td>National Geographic Entertainment</td>\n",
       "      <td>28824300.0</td>\n",
       "      <td>IMAX</td>\n",
       "      <td>Sea Monsters: A Prehistoric Adventure</td>\n",
       "      <td>2825</td>\n",
       "      <td>252.0</td>\n",
       "      <td>766000.0</td>\n",
       "      <td>NaN</td>\n",
       "      <td>Unrated</td>\n",
       "      <td>2007-10-05</td>\n",
       "      <td>40.0</td>\n",
       "      <td>1437.0</td>\n",
       "    </tr>\n",
       "    <tr>\n",
       "      <th>2852</th>\n",
       "      <td>N Wave</td>\n",
       "      <td>21683200.0</td>\n",
       "      <td>IMAX</td>\n",
       "      <td>Wild Safari 3D</td>\n",
       "      <td>2853</td>\n",
       "      <td>21.0</td>\n",
       "      <td>NaN</td>\n",
       "      <td>NaN</td>\n",
       "      <td>Unrated</td>\n",
       "      <td>2005-04-08</td>\n",
       "      <td>45.0</td>\n",
       "      <td>1210.0</td>\n",
       "    </tr>\n",
       "    <tr>\n",
       "      <th>2908</th>\n",
       "      <td>Sony Classics</td>\n",
       "      <td>27881800.0</td>\n",
       "      <td>IMAX</td>\n",
       "      <td>Thrill Ride</td>\n",
       "      <td>2909</td>\n",
       "      <td>81.0</td>\n",
       "      <td>NaN</td>\n",
       "      <td>NaN</td>\n",
       "      <td>G</td>\n",
       "      <td>1997-07-11</td>\n",
       "      <td>38.0</td>\n",
       "      <td>2361.0</td>\n",
       "    </tr>\n",
       "    <tr>\n",
       "      <th>2910</th>\n",
       "      <td>Sony Classics</td>\n",
       "      <td>21721100.0</td>\n",
       "      <td>IMAX</td>\n",
       "      <td>Wings of Courage</td>\n",
       "      <td>2911</td>\n",
       "      <td>11.0</td>\n",
       "      <td>NaN</td>\n",
       "      <td>NaN</td>\n",
       "      <td>G</td>\n",
       "      <td>1995-04-21</td>\n",
       "      <td>40.0</td>\n",
       "      <td>630.0</td>\n",
       "    </tr>\n",
       "    <tr>\n",
       "      <th>2978</th>\n",
       "      <td>Heliograph</td>\n",
       "      <td>20065600.0</td>\n",
       "      <td>IMAX</td>\n",
       "      <td>Solarmax</td>\n",
       "      <td>2979</td>\n",
       "      <td>6.0</td>\n",
       "      <td>NaN</td>\n",
       "      <td>NaN</td>\n",
       "      <td>Unrated</td>\n",
       "      <td>2000-09-15</td>\n",
       "      <td>38.0</td>\n",
       "      <td>822.0</td>\n",
       "    </tr>\n",
       "    <tr>\n",
       "      <th>3098</th>\n",
       "      <td>Warner Bros.</td>\n",
       "      <td>26677800.0</td>\n",
       "      <td>IMAX</td>\n",
       "      <td>Born to Be Wild</td>\n",
       "      <td>3099</td>\n",
       "      <td>208.0</td>\n",
       "      <td>940700.0</td>\n",
       "      <td>NaN</td>\n",
       "      <td>G</td>\n",
       "      <td>2011-04-08</td>\n",
       "      <td>40.0</td>\n",
       "      <td>1512.0</td>\n",
       "    </tr>\n",
       "    <tr>\n",
       "      <th>3212</th>\n",
       "      <td>Sony Classics</td>\n",
       "      <td>54523100.0</td>\n",
       "      <td>Period Drama</td>\n",
       "      <td>Howards End</td>\n",
       "      <td>3213</td>\n",
       "      <td>547.0</td>\n",
       "      <td>110200.0</td>\n",
       "      <td>NaN</td>\n",
       "      <td>PG</td>\n",
       "      <td>1992-03-13</td>\n",
       "      <td>140.0</td>\n",
       "      <td>580.0</td>\n",
       "    </tr>\n",
       "    <tr>\n",
       "      <th>3314</th>\n",
       "      <td>N Wave</td>\n",
       "      <td>18493800.0</td>\n",
       "      <td>IMAX</td>\n",
       "      <td>Haunted Castle</td>\n",
       "      <td>3315</td>\n",
       "      <td>10.0</td>\n",
       "      <td>NaN</td>\n",
       "      <td>NaN</td>\n",
       "      <td>PG</td>\n",
       "      <td>2001-02-23</td>\n",
       "      <td>38.0</td>\n",
       "      <td>2837.0</td>\n",
       "    </tr>\n",
       "    <tr>\n",
       "      <th>3491</th>\n",
       "      <td>Warner Bros.</td>\n",
       "      <td>55999500.0</td>\n",
       "      <td>IMAX</td>\n",
       "      <td>Hubble 3D</td>\n",
       "      <td>3492</td>\n",
       "      <td>151.0</td>\n",
       "      <td>452500.0</td>\n",
       "      <td>NaN</td>\n",
       "      <td>G</td>\n",
       "      <td>2010-03-19</td>\n",
       "      <td>43.0</td>\n",
       "      <td>1946.0</td>\n",
       "    </tr>\n",
       "  </tbody>\n",
       "</table>\n",
       "</div>"
      ],
      "text/plain": [
       "                            distributor  domestic total gross         genre  \\\n",
       "28                         Warner Bros.            40405900.0          IMAX   \n",
       "490                       Sony Classics            22447900.0          IMAX   \n",
       "666                        Warner Bros.            15663600.0          IMAX   \n",
       "792                                IMAX           126001600.0          IMAX   \n",
       "1105                      Sony Classics            24348500.0          IMAX   \n",
       "1187                               WGB.            23353700.0          IMAX   \n",
       "1229                               IMAX            82589700.0          IMAX   \n",
       "1317                               IMAX            26204200.0          IMAX   \n",
       "1621                        Buena Vista            24491000.0          IMAX   \n",
       "1664                       Warner Bros.            57619400.0          IMAX   \n",
       "2021                       Warner Bros.            30148400.0          IMAX   \n",
       "2110                               IMAX            19086900.0          IMAX   \n",
       "2383                               IMAX            43220300.0          IMAX   \n",
       "2403                           SK Films            25652500.0          IMAX   \n",
       "2535                               IMAX            68713900.0          IMAX   \n",
       "2824  National Geographic Entertainment            28824300.0          IMAX   \n",
       "2852                             N Wave            21683200.0          IMAX   \n",
       "2908                      Sony Classics            27881800.0          IMAX   \n",
       "2910                      Sony Classics            21721100.0          IMAX   \n",
       "2978                         Heliograph            20065600.0          IMAX   \n",
       "3098                       Warner Bros.            26677800.0          IMAX   \n",
       "3212                      Sony Classics            54523100.0  Period Drama   \n",
       "3314                             N Wave            18493800.0          IMAX   \n",
       "3491                       Warner Bros.            55999500.0          IMAX   \n",
       "\n",
       "                                movie title  movieid  number of theaters  \\\n",
       "28                         Under the Sea 3D       29               108.0   \n",
       "490                  Across the Sea of Time      491                 2.0   \n",
       "666                           To the Arctic      667                52.0   \n",
       "792                       Space Station 3-D      793                64.0   \n",
       "1105       Cirque du Soleil: Journey of Man     1106                22.0   \n",
       "1187       Shackleton's Antarctic Adventure     1188                26.0   \n",
       "1229          T-Rex: Back to the Cretaceous     1230                38.0   \n",
       "1317                              Galapagos     1318                14.0   \n",
       "1621                    Ghosts of the Abyss     1622                97.0   \n",
       "1664                            Deep Sea 3D     1665                47.0   \n",
       "2021         NASCAR 3D: The IMAX Experience     2022                73.0   \n",
       "2110                                Extreme     2111                21.0   \n",
       "2383                 Magnificent Desolation     2384                82.0   \n",
       "2403                                  Bugs!     2404                33.0   \n",
       "2535                     Mysteries of Egypt     2536                27.0   \n",
       "2824  Sea Monsters: A Prehistoric Adventure     2825               252.0   \n",
       "2852                         Wild Safari 3D     2853                21.0   \n",
       "2908                            Thrill Ride     2909                81.0   \n",
       "2910                       Wings of Courage     2911                11.0   \n",
       "2978                               Solarmax     2979                 6.0   \n",
       "3098                        Born to Be Wild     3099               208.0   \n",
       "3212                            Howards End     3213               547.0   \n",
       "3314                         Haunted Castle     3315                10.0   \n",
       "3491                              Hubble 3D     3492               151.0   \n",
       "\n",
       "      opening weekend revenue  production budget   rating release date  \\\n",
       "28                   771100.0                NaN        G   2009-02-13   \n",
       "490                       NaN                NaN        G   1995-10-20   \n",
       "666                  289500.0                NaN        G   2012-04-20   \n",
       "792                  733000.0                NaN  Unrated   2002-04-19   \n",
       "1105                  80400.0                NaN        G   2000-05-05   \n",
       "1187                      NaN                NaN        G   2001-02-10   \n",
       "1229                      NaN                NaN  Unrated   1998-10-23   \n",
       "1317                      NaN                NaN  Unrated   1999-10-29   \n",
       "1621                2032100.0                NaN        G   2003-04-11   \n",
       "1664                 930100.0                NaN        G   2006-03-03   \n",
       "2021                2035100.0                NaN       PG   2004-03-12   \n",
       "2110                      NaN                NaN  Unrated   1999-04-02   \n",
       "2383                 650900.0                NaN  Unrated   2005-09-23   \n",
       "2403                      NaN                NaN  Unrated   2003-03-12   \n",
       "2535                      NaN                NaN  Unrated   1998-08-21   \n",
       "2824                 766000.0                NaN  Unrated   2007-10-05   \n",
       "2852                      NaN                NaN  Unrated   2005-04-08   \n",
       "2908                      NaN                NaN        G   1997-07-11   \n",
       "2910                      NaN                NaN        G   1995-04-21   \n",
       "2978                      NaN                NaN  Unrated   2000-09-15   \n",
       "3098                 940700.0                NaN        G   2011-04-08   \n",
       "3212                 110200.0                NaN       PG   1992-03-13   \n",
       "3314                      NaN                NaN       PG   2001-02-23   \n",
       "3491                 452500.0                NaN        G   2010-03-19   \n",
       "\n",
       "      runtime (mins)  time in theaters (days)  \n",
       "28              40.0                   2310.0  \n",
       "490             51.0                   3142.0  \n",
       "666             40.0                   1127.0  \n",
       "792             46.0                   4697.0  \n",
       "1105            38.0                   1402.0  \n",
       "1187            40.0                   1034.0  \n",
       "1229            45.0                   3234.0  \n",
       "1317            40.0                   3794.0  \n",
       "1621            61.0                    917.0  \n",
       "1664            40.0                   2842.0  \n",
       "2021            40.0                    644.0  \n",
       "2110            40.0                   1525.0  \n",
       "2383            40.0                   2296.0  \n",
       "2403            40.0                   1621.0  \n",
       "2535            38.0                    871.0  \n",
       "2824            40.0                   1437.0  \n",
       "2852            45.0                   1210.0  \n",
       "2908            38.0                   2361.0  \n",
       "2910            40.0                    630.0  \n",
       "2978            38.0                    822.0  \n",
       "3098            40.0                   1512.0  \n",
       "3212           140.0                    580.0  \n",
       "3314            38.0                   2837.0  \n",
       "3491            43.0                   1946.0  "
      ]
     },
     "execution_count": 37,
     "metadata": {},
     "output_type": "execute_result"
    }
   ],
   "source": [
    "moviedf[moviedf['time in theaters (days)'] > 500]"
   ]
  },
  {
   "cell_type": "markdown",
   "metadata": {},
   "source": [
    "Flatten the genres into only 8 genre buckets"
   ]
  },
  {
   "cell_type": "code",
   "execution_count": 51,
   "metadata": {
    "collapsed": true
   },
   "outputs": [],
   "source": [
    "genre_dict = {'War Romance':'Drama', 'Horror Thriller':'Horror / Thriller', 'Period Drama':'Drama',\n",
    "              'Music Drama':'Drama','Romantic Comedy':'Comedy', 'Action Drama':'Drama',\n",
    "              'Sci-Fi Action': 'Action', 'Action / Adventure': 'Action', 'Fantasy': 'Sci-Fi',\n",
    "              'Drama / Thriller': 'Drama', 'Sports Drama':'Drama', 'Horror': 'Horror / Thriller',\n",
    "              'Action Thriller': 'Action', 'Action Comedy':'Comedy','Family Adventure':'Family', \n",
    "              'War':'Drama', 'Crime Comedy':'Comedy', 'Family Comedy':'Family', 'Comedy / Drama': 'Comedy',\n",
    "              'Romantic Thriller':'Horror / Thriller', 'Thriller':'Horror / Thriller', \n",
    "              'Fantasy Comedy':'Comedy','Sci-Fi Horror':'Horror / Thriller', 'Fantasy Drama':'Drama', \n",
    "              'Sports Comedy':'Comedy', 'Sci-Fi Thriller':'Sci-Fi','Comedy Thriller':'Comedy', 'Horror Comedy':'Comedy',\n",
    "              'Romance':'Drama', 'Period Action':'Action','Foreign / Action':'Action', 'IMAX':'Documentary', \n",
    "              'War Drama':'Drama', 'Crime Drama':'Drama', 'Action Horror':'Horror / Thriller', 'Western':'Action', \n",
    "              'Musical':'Drama', 'Sci-Fi Adventure':'Sci-Fi', 'Action / Crime':'Action', 'Crime Thriller':'Horror / Thriller',\n",
    "              'Period Adventure':'Drama', 'Historical Drama':'Drama', 'Sci-Fi Comedy':'Comedy', 'Western Comedy':'Comedy',\n",
    "              'Foreign / Horror':'Horror / Thriller', 'Action Fantasy':'Action', 'Crime':'Drama', 'Sports Action':'Action',\n",
    "              'Period Horror':'Horror / Thriller', 'Historical Epic':'Drama', 'Adventure Comedy':'Comedy',\n",
    "              'Adventure':'Action', 'Foreign':'Drama', 'Period Comedy':'Comedy', 'Romantic Adventure':'Drama', \n",
    "              'Concert':'Documentary', 'Sci-Fi Fantasy': 'Sci-Fi'}"
   ]
  },
  {
   "cell_type": "code",
   "execution_count": 52,
   "metadata": {
    "collapsed": true
   },
   "outputs": [],
   "source": [
    "moviedf = moviedf.replace({'genre' : genre_dict})"
   ]
  },
  {
   "cell_type": "markdown",
   "metadata": {},
   "source": [
    "### Add features"
   ]
  },
  {
   "cell_type": "markdown",
   "metadata": {},
   "source": [
    "Create a column containing only the release month instead of the entire date"
   ]
  },
  {
   "cell_type": "code",
   "execution_count": 38,
   "metadata": {
    "collapsed": false
   },
   "outputs": [],
   "source": [
    "moviedf['release month'] = moviedf['release date'].dt.month"
   ]
  },
  {
   "cell_type": "code",
   "execution_count": 39,
   "metadata": {
    "collapsed": false
   },
   "outputs": [
    {
     "data": {
      "text/html": [
       "<div>\n",
       "<table border=\"1\" class=\"dataframe\">\n",
       "  <thead>\n",
       "    <tr style=\"text-align: right;\">\n",
       "      <th></th>\n",
       "      <th>distributor</th>\n",
       "      <th>domestic total gross</th>\n",
       "      <th>genre</th>\n",
       "      <th>movie title</th>\n",
       "      <th>movieid</th>\n",
       "      <th>number of theaters</th>\n",
       "      <th>opening weekend revenue</th>\n",
       "      <th>production budget</th>\n",
       "      <th>rating</th>\n",
       "      <th>release date</th>\n",
       "      <th>runtime (mins)</th>\n",
       "      <th>time in theaters (days)</th>\n",
       "      <th>release month</th>\n",
       "    </tr>\n",
       "  </thead>\n",
       "  <tbody>\n",
       "    <tr>\n",
       "      <th>0</th>\n",
       "      <td>Orion Pictures</td>\n",
       "      <td>90944400.0</td>\n",
       "      <td>Comedy</td>\n",
       "      <td>Dirty Rotten Scoundrels</td>\n",
       "      <td>1</td>\n",
       "      <td>1515.0</td>\n",
       "      <td>8129500.0</td>\n",
       "      <td>NaN</td>\n",
       "      <td>PG</td>\n",
       "      <td>1988-12-16</td>\n",
       "      <td>110.0</td>\n",
       "      <td>56.0</td>\n",
       "      <td>12.0</td>\n",
       "    </tr>\n",
       "    <tr>\n",
       "      <th>1</th>\n",
       "      <td>Fox</td>\n",
       "      <td>252358600.0</td>\n",
       "      <td>Action Thriller</td>\n",
       "      <td>Speed</td>\n",
       "      <td>2</td>\n",
       "      <td>2169.0</td>\n",
       "      <td>30088300.0</td>\n",
       "      <td>30000000.0</td>\n",
       "      <td>R</td>\n",
       "      <td>1994-06-10</td>\n",
       "      <td>116.0</td>\n",
       "      <td>70.0</td>\n",
       "      <td>6.0</td>\n",
       "    </tr>\n",
       "    <tr>\n",
       "      <th>2</th>\n",
       "      <td>Paramount</td>\n",
       "      <td>48884600.0</td>\n",
       "      <td>Comedy</td>\n",
       "      <td>The Out-of-Towners</td>\n",
       "      <td>3</td>\n",
       "      <td>2128.0</td>\n",
       "      <td>14084800.0</td>\n",
       "      <td>75000000.0</td>\n",
       "      <td>PG-13</td>\n",
       "      <td>1999-04-02</td>\n",
       "      <td>90.0</td>\n",
       "      <td>105.0</td>\n",
       "      <td>4.0</td>\n",
       "    </tr>\n",
       "    <tr>\n",
       "      <th>3</th>\n",
       "      <td>Universal</td>\n",
       "      <td>39263600.0</td>\n",
       "      <td>War Romance</td>\n",
       "      <td>Captain Corelli's Mandolin</td>\n",
       "      <td>4</td>\n",
       "      <td>1612.0</td>\n",
       "      <td>11081500.0</td>\n",
       "      <td>57000000.0</td>\n",
       "      <td>R</td>\n",
       "      <td>2001-08-17</td>\n",
       "      <td>129.0</td>\n",
       "      <td>63.0</td>\n",
       "      <td>8.0</td>\n",
       "    </tr>\n",
       "    <tr>\n",
       "      <th>4</th>\n",
       "      <td>Paramount</td>\n",
       "      <td>108640100.0</td>\n",
       "      <td>Comedy</td>\n",
       "      <td>Planes, Trains and Automobiles</td>\n",
       "      <td>5</td>\n",
       "      <td>1684.0</td>\n",
       "      <td>15596500.0</td>\n",
       "      <td>NaN</td>\n",
       "      <td>R</td>\n",
       "      <td>1987-11-25</td>\n",
       "      <td>92.0</td>\n",
       "      <td>70.0</td>\n",
       "      <td>11.0</td>\n",
       "    </tr>\n",
       "  </tbody>\n",
       "</table>\n",
       "</div>"
      ],
      "text/plain": [
       "      distributor  domestic total gross            genre  \\\n",
       "0  Orion Pictures            90944400.0           Comedy   \n",
       "1             Fox           252358600.0  Action Thriller   \n",
       "2       Paramount            48884600.0           Comedy   \n",
       "3       Universal            39263600.0      War Romance   \n",
       "4       Paramount           108640100.0           Comedy   \n",
       "\n",
       "                      movie title  movieid  number of theaters  \\\n",
       "0         Dirty Rotten Scoundrels        1              1515.0   \n",
       "1                           Speed        2              2169.0   \n",
       "2              The Out-of-Towners        3              2128.0   \n",
       "3      Captain Corelli's Mandolin        4              1612.0   \n",
       "4  Planes, Trains and Automobiles        5              1684.0   \n",
       "\n",
       "   opening weekend revenue  production budget rating release date  \\\n",
       "0                8129500.0                NaN     PG   1988-12-16   \n",
       "1               30088300.0         30000000.0      R   1994-06-10   \n",
       "2               14084800.0         75000000.0  PG-13   1999-04-02   \n",
       "3               11081500.0         57000000.0      R   2001-08-17   \n",
       "4               15596500.0                NaN      R   1987-11-25   \n",
       "\n",
       "   runtime (mins)  time in theaters (days)  release month  \n",
       "0           110.0                     56.0           12.0  \n",
       "1           116.0                     70.0            6.0  \n",
       "2            90.0                    105.0            4.0  \n",
       "3           129.0                     63.0            8.0  \n",
       "4            92.0                     70.0           11.0  "
      ]
     },
     "execution_count": 39,
     "metadata": {},
     "output_type": "execute_result"
    }
   ],
   "source": [
    "moviedf.head()"
   ]
  },
  {
   "cell_type": "markdown",
   "metadata": {},
   "source": [
    "## Clean revenue data and add features"
   ]
  },
  {
   "cell_type": "markdown",
   "metadata": {},
   "source": [
    "Add revenue data to a pandas dataframe"
   ]
  },
  {
   "cell_type": "code",
   "execution_count": 4,
   "metadata": {
    "collapsed": false
   },
   "outputs": [],
   "source": [
    "with open('pickles/rev_data3.pickle', 'rb') as handle:\n",
    "    rev_data = pickle.load(handle)"
   ]
  },
  {
   "cell_type": "code",
   "execution_count": 5,
   "metadata": {
    "collapsed": false
   },
   "outputs": [],
   "source": [
    "revdf = pd.DataFrame.from_dict({k : pd.Series(v) for k,v in rev_data.items()}, \n",
    "                                     orient='index')"
   ]
  },
  {
   "cell_type": "code",
   "execution_count": 6,
   "metadata": {
    "collapsed": false
   },
   "outputs": [
    {
     "data": {
      "text/html": [
       "<div>\n",
       "<table border=\"1\" class=\"dataframe\">\n",
       "  <thead>\n",
       "    <tr style=\"text-align: right;\">\n",
       "      <th></th>\n",
       "      <th>0</th>\n",
       "      <th>1</th>\n",
       "      <th>2</th>\n",
       "      <th>3</th>\n",
       "      <th>4</th>\n",
       "      <th>5</th>\n",
       "      <th>6</th>\n",
       "      <th>7</th>\n",
       "      <th>8</th>\n",
       "      <th>9</th>\n",
       "      <th>...</th>\n",
       "      <th>661</th>\n",
       "      <th>662</th>\n",
       "      <th>663</th>\n",
       "      <th>664</th>\n",
       "      <th>665</th>\n",
       "      <th>666</th>\n",
       "      <th>667</th>\n",
       "      <th>668</th>\n",
       "      <th>669</th>\n",
       "      <th>670</th>\n",
       "    </tr>\n",
       "  </thead>\n",
       "  <tbody>\n",
       "    <tr>\n",
       "      <th>1</th>\n",
       "      <td>4934</td>\n",
       "      <td>5692.0</td>\n",
       "      <td>5092.0</td>\n",
       "      <td>3050.0</td>\n",
       "      <td>2618.0</td>\n",
       "      <td>1822.0</td>\n",
       "      <td>1592.0</td>\n",
       "      <td>1251.0</td>\n",
       "      <td>NaN</td>\n",
       "      <td>NaN</td>\n",
       "      <td>...</td>\n",
       "      <td>NaN</td>\n",
       "      <td>NaN</td>\n",
       "      <td>NaN</td>\n",
       "      <td>NaN</td>\n",
       "      <td>NaN</td>\n",
       "      <td>NaN</td>\n",
       "      <td>NaN</td>\n",
       "      <td>NaN</td>\n",
       "      <td>NaN</td>\n",
       "      <td>NaN</td>\n",
       "    </tr>\n",
       "    <tr>\n",
       "      <th>2</th>\n",
       "      <td>10639</td>\n",
       "      <td>9349.0</td>\n",
       "      <td>9011.0</td>\n",
       "      <td>7849.0</td>\n",
       "      <td>5817.0</td>\n",
       "      <td>4080.0</td>\n",
       "      <td>3556.0</td>\n",
       "      <td>2798.0</td>\n",
       "      <td>1903.0</td>\n",
       "      <td>1726.0</td>\n",
       "      <td>...</td>\n",
       "      <td>NaN</td>\n",
       "      <td>NaN</td>\n",
       "      <td>NaN</td>\n",
       "      <td>NaN</td>\n",
       "      <td>NaN</td>\n",
       "      <td>NaN</td>\n",
       "      <td>NaN</td>\n",
       "      <td>NaN</td>\n",
       "      <td>NaN</td>\n",
       "      <td>NaN</td>\n",
       "    </tr>\n",
       "    <tr>\n",
       "      <th>3</th>\n",
       "      <td>5325</td>\n",
       "      <td>2944.0</td>\n",
       "      <td>1842.0</td>\n",
       "      <td>1211.0</td>\n",
       "      <td>759.0</td>\n",
       "      <td>763.0</td>\n",
       "      <td>607.0</td>\n",
       "      <td>465.0</td>\n",
       "      <td>430.0</td>\n",
       "      <td>397.0</td>\n",
       "      <td>...</td>\n",
       "      <td>NaN</td>\n",
       "      <td>NaN</td>\n",
       "      <td>NaN</td>\n",
       "      <td>NaN</td>\n",
       "      <td>NaN</td>\n",
       "      <td>NaN</td>\n",
       "      <td>NaN</td>\n",
       "      <td>NaN</td>\n",
       "      <td>NaN</td>\n",
       "      <td>NaN</td>\n",
       "    </tr>\n",
       "    <tr>\n",
       "      <th>4</th>\n",
       "      <td>6324</td>\n",
       "      <td>3495.0</td>\n",
       "      <td>2855.0</td>\n",
       "      <td>1455.0</td>\n",
       "      <td>1200.0</td>\n",
       "      <td>1055.0</td>\n",
       "      <td>650.0</td>\n",
       "      <td>605.0</td>\n",
       "      <td>580.0</td>\n",
       "      <td>NaN</td>\n",
       "      <td>...</td>\n",
       "      <td>NaN</td>\n",
       "      <td>NaN</td>\n",
       "      <td>NaN</td>\n",
       "      <td>NaN</td>\n",
       "      <td>NaN</td>\n",
       "      <td>NaN</td>\n",
       "      <td>NaN</td>\n",
       "      <td>NaN</td>\n",
       "      <td>NaN</td>\n",
       "      <td>NaN</td>\n",
       "    </tr>\n",
       "    <tr>\n",
       "      <th>5</th>\n",
       "      <td>7924</td>\n",
       "      <td>5851.0</td>\n",
       "      <td>3130.0</td>\n",
       "      <td>2759.0</td>\n",
       "      <td>4243.0</td>\n",
       "      <td>3014.0</td>\n",
       "      <td>2248.0</td>\n",
       "      <td>1730.0</td>\n",
       "      <td>1349.0</td>\n",
       "      <td>1196.0</td>\n",
       "      <td>...</td>\n",
       "      <td>NaN</td>\n",
       "      <td>NaN</td>\n",
       "      <td>NaN</td>\n",
       "      <td>NaN</td>\n",
       "      <td>NaN</td>\n",
       "      <td>NaN</td>\n",
       "      <td>NaN</td>\n",
       "      <td>NaN</td>\n",
       "      <td>NaN</td>\n",
       "      <td>NaN</td>\n",
       "    </tr>\n",
       "  </tbody>\n",
       "</table>\n",
       "<p>5 rows × 671 columns</p>\n",
       "</div>"
      ],
      "text/plain": [
       "     0       1       2       3       4       5       6       7       8    \\\n",
       "1   4934  5692.0  5092.0  3050.0  2618.0  1822.0  1592.0  1251.0     NaN   \n",
       "2  10639  9349.0  9011.0  7849.0  5817.0  4080.0  3556.0  2798.0  1903.0   \n",
       "3   5325  2944.0  1842.0  1211.0   759.0   763.0   607.0   465.0   430.0   \n",
       "4   6324  3495.0  2855.0  1455.0  1200.0  1055.0   650.0   605.0   580.0   \n",
       "5   7924  5851.0  3130.0  2759.0  4243.0  3014.0  2248.0  1730.0  1349.0   \n",
       "\n",
       "      9   ...   661  662  663  664  665  666  667  668  669  670  \n",
       "1     NaN ...   NaN  NaN  NaN  NaN  NaN  NaN  NaN  NaN  NaN  NaN  \n",
       "2  1726.0 ...   NaN  NaN  NaN  NaN  NaN  NaN  NaN  NaN  NaN  NaN  \n",
       "3   397.0 ...   NaN  NaN  NaN  NaN  NaN  NaN  NaN  NaN  NaN  NaN  \n",
       "4     NaN ...   NaN  NaN  NaN  NaN  NaN  NaN  NaN  NaN  NaN  NaN  \n",
       "5  1196.0 ...   NaN  NaN  NaN  NaN  NaN  NaN  NaN  NaN  NaN  NaN  \n",
       "\n",
       "[5 rows x 671 columns]"
      ]
     },
     "execution_count": 6,
     "metadata": {},
     "output_type": "execute_result"
    }
   ],
   "source": [
    "revdf.head()"
   ]
  },
  {
   "cell_type": "markdown",
   "metadata": {},
   "source": [
    "Convert all the revenue numbers to floats"
   ]
  },
  {
   "cell_type": "code",
   "execution_count": null,
   "metadata": {
    "collapsed": true
   },
   "outputs": [],
   "source": [
    "rev_list = []\n",
    "iterator = revdf.iterrows()\n",
    "for item in iterator:\n",
    "    num_list = []\n",
    "    for num in item[1]:\n",
    "        money = money_to_int(str(num))\n",
    "        num_list.append(money)\n",
    "    rev_list.append(num_list)"
   ]
  },
  {
   "cell_type": "code",
   "execution_count": 11,
   "metadata": {
    "collapsed": false
   },
   "outputs": [],
   "source": [
    "revdf = pd.DataFrame(rev_list, index=revdf.index)"
   ]
  },
  {
   "cell_type": "markdown",
   "metadata": {},
   "source": [
    "Get rid of all movies with no data"
   ]
  },
  {
   "cell_type": "code",
   "execution_count": null,
   "metadata": {
    "collapsed": false
   },
   "outputs": [],
   "source": [
    "revdf = revdf[revdf.isnull().all(axis=1)]"
   ]
  },
  {
   "cell_type": "markdown",
   "metadata": {},
   "source": [
    "Get the movieid's for the remaining movies and remove any movies that had no revenue data from the movie dataframe"
   ]
  },
  {
   "cell_type": "code",
   "execution_count": null,
   "metadata": {
    "collapsed": true
   },
   "outputs": [],
   "source": [
    "movieid_list = revdf.index.tolist()\n",
    "moviedf = moviedf[moviedf.index.isin(index_list)]"
   ]
  },
  {
   "cell_type": "markdown",
   "metadata": {},
   "source": [
    "Calculate the decay rate of weekly revenue for each movie. Decay rate is defined as follows:<br/>\n",
    "decay rate = ( ln(last week's revenue) - ln(max revenue) ) / num_weeks_btw_last_and_max"
   ]
  },
  {
   "cell_type": "code",
   "execution_count": 91,
   "metadata": {
    "collapsed": false
   },
   "outputs": [],
   "source": [
    "ittr = revdf.iterrows()\n",
    "\n",
    "decay_rates = []\n",
    "for row in ittr:\n",
    "    rev_series = row[1]\n",
    "    # Use the maximum \n",
    "    a = rev_series.max()\n",
    "    a_index = rev_series.idxmax()\n",
    "    num_weeks = rev_series.count()\n",
    "    t = rev_series.count() - a_index - 1\n",
    "    y = rev_series[num_weeks - 1]\n",
    "    k = (np.log(y) - np.log(a)) / t\n",
    "    decay_rates.append(k)"
   ]
  },
  {
   "cell_type": "code",
   "execution_count": 92,
   "metadata": {
    "collapsed": false
   },
   "outputs": [
    {
     "name": "stdout",
     "output_type": "stream",
     "text": [
      "[-0.25251974145713846, -0.20207998909699912, -0.18125251120680325, -0.29863488684861217, -0.21010149703420725, -0.48708814492178271, -0.12349420786996841, -0.38475380579230434, -0.25716165276328384, -0.35750147917232106]\n"
     ]
    }
   ],
   "source": [
    "print decay_rates[:10]"
   ]
  },
  {
   "cell_type": "markdown",
   "metadata": {},
   "source": [
    "Add decay rates to revenue dataframe"
   ]
  },
  {
   "cell_type": "code",
   "execution_count": 93,
   "metadata": {
    "collapsed": false
   },
   "outputs": [],
   "source": [
    "revdf['decay rate'] = np.asarray(decay_rates)"
   ]
  },
  {
   "cell_type": "code",
   "execution_count": 94,
   "metadata": {
    "collapsed": false
   },
   "outputs": [
    {
     "data": {
      "text/html": [
       "<div>\n",
       "<table border=\"1\" class=\"dataframe\">\n",
       "  <thead>\n",
       "    <tr style=\"text-align: right;\">\n",
       "      <th></th>\n",
       "      <th>0</th>\n",
       "      <th>1</th>\n",
       "      <th>2</th>\n",
       "      <th>3</th>\n",
       "      <th>4</th>\n",
       "      <th>5</th>\n",
       "      <th>6</th>\n",
       "      <th>7</th>\n",
       "      <th>8</th>\n",
       "      <th>9</th>\n",
       "      <th>...</th>\n",
       "      <th>662</th>\n",
       "      <th>663</th>\n",
       "      <th>664</th>\n",
       "      <th>665</th>\n",
       "      <th>666</th>\n",
       "      <th>667</th>\n",
       "      <th>668</th>\n",
       "      <th>669</th>\n",
       "      <th>670</th>\n",
       "      <th>decay rate</th>\n",
       "    </tr>\n",
       "  </thead>\n",
       "  <tbody>\n",
       "    <tr>\n",
       "      <th>1</th>\n",
       "      <td>4934</td>\n",
       "      <td>5692.0</td>\n",
       "      <td>5092.0</td>\n",
       "      <td>3050.0</td>\n",
       "      <td>2618.0</td>\n",
       "      <td>1822.0</td>\n",
       "      <td>1592.0</td>\n",
       "      <td>1251.0</td>\n",
       "      <td>NaN</td>\n",
       "      <td>NaN</td>\n",
       "      <td>...</td>\n",
       "      <td>NaN</td>\n",
       "      <td>NaN</td>\n",
       "      <td>NaN</td>\n",
       "      <td>NaN</td>\n",
       "      <td>NaN</td>\n",
       "      <td>NaN</td>\n",
       "      <td>NaN</td>\n",
       "      <td>NaN</td>\n",
       "      <td>NaN</td>\n",
       "      <td>-0.252520</td>\n",
       "    </tr>\n",
       "    <tr>\n",
       "      <th>2</th>\n",
       "      <td>10639</td>\n",
       "      <td>9349.0</td>\n",
       "      <td>9011.0</td>\n",
       "      <td>7849.0</td>\n",
       "      <td>5817.0</td>\n",
       "      <td>4080.0</td>\n",
       "      <td>3556.0</td>\n",
       "      <td>2798.0</td>\n",
       "      <td>1903.0</td>\n",
       "      <td>1726.0</td>\n",
       "      <td>...</td>\n",
       "      <td>NaN</td>\n",
       "      <td>NaN</td>\n",
       "      <td>NaN</td>\n",
       "      <td>NaN</td>\n",
       "      <td>NaN</td>\n",
       "      <td>NaN</td>\n",
       "      <td>NaN</td>\n",
       "      <td>NaN</td>\n",
       "      <td>NaN</td>\n",
       "      <td>-0.202080</td>\n",
       "    </tr>\n",
       "    <tr>\n",
       "      <th>3</th>\n",
       "      <td>5325</td>\n",
       "      <td>2944.0</td>\n",
       "      <td>1842.0</td>\n",
       "      <td>1211.0</td>\n",
       "      <td>759.0</td>\n",
       "      <td>763.0</td>\n",
       "      <td>607.0</td>\n",
       "      <td>465.0</td>\n",
       "      <td>430.0</td>\n",
       "      <td>397.0</td>\n",
       "      <td>...</td>\n",
       "      <td>NaN</td>\n",
       "      <td>NaN</td>\n",
       "      <td>NaN</td>\n",
       "      <td>NaN</td>\n",
       "      <td>NaN</td>\n",
       "      <td>NaN</td>\n",
       "      <td>NaN</td>\n",
       "      <td>NaN</td>\n",
       "      <td>NaN</td>\n",
       "      <td>-0.181253</td>\n",
       "    </tr>\n",
       "    <tr>\n",
       "      <th>4</th>\n",
       "      <td>6324</td>\n",
       "      <td>3495.0</td>\n",
       "      <td>2855.0</td>\n",
       "      <td>1455.0</td>\n",
       "      <td>1200.0</td>\n",
       "      <td>1055.0</td>\n",
       "      <td>650.0</td>\n",
       "      <td>605.0</td>\n",
       "      <td>580.0</td>\n",
       "      <td>NaN</td>\n",
       "      <td>...</td>\n",
       "      <td>NaN</td>\n",
       "      <td>NaN</td>\n",
       "      <td>NaN</td>\n",
       "      <td>NaN</td>\n",
       "      <td>NaN</td>\n",
       "      <td>NaN</td>\n",
       "      <td>NaN</td>\n",
       "      <td>NaN</td>\n",
       "      <td>NaN</td>\n",
       "      <td>-0.298635</td>\n",
       "    </tr>\n",
       "    <tr>\n",
       "      <th>5</th>\n",
       "      <td>7924</td>\n",
       "      <td>5851.0</td>\n",
       "      <td>3130.0</td>\n",
       "      <td>2759.0</td>\n",
       "      <td>4243.0</td>\n",
       "      <td>3014.0</td>\n",
       "      <td>2248.0</td>\n",
       "      <td>1730.0</td>\n",
       "      <td>1349.0</td>\n",
       "      <td>1196.0</td>\n",
       "      <td>...</td>\n",
       "      <td>NaN</td>\n",
       "      <td>NaN</td>\n",
       "      <td>NaN</td>\n",
       "      <td>NaN</td>\n",
       "      <td>NaN</td>\n",
       "      <td>NaN</td>\n",
       "      <td>NaN</td>\n",
       "      <td>NaN</td>\n",
       "      <td>NaN</td>\n",
       "      <td>-0.210101</td>\n",
       "    </tr>\n",
       "  </tbody>\n",
       "</table>\n",
       "<p>5 rows × 672 columns</p>\n",
       "</div>"
      ],
      "text/plain": [
       "       0       1       2       3       4       5       6       7       8  \\\n",
       "1   4934  5692.0  5092.0  3050.0  2618.0  1822.0  1592.0  1251.0     NaN   \n",
       "2  10639  9349.0  9011.0  7849.0  5817.0  4080.0  3556.0  2798.0  1903.0   \n",
       "3   5325  2944.0  1842.0  1211.0   759.0   763.0   607.0   465.0   430.0   \n",
       "4   6324  3495.0  2855.0  1455.0  1200.0  1055.0   650.0   605.0   580.0   \n",
       "5   7924  5851.0  3130.0  2759.0  4243.0  3014.0  2248.0  1730.0  1349.0   \n",
       "\n",
       "        9     ...      662  663  664  665  666  667  668  669  670  decay rate  \n",
       "1     NaN     ...      NaN  NaN  NaN  NaN  NaN  NaN  NaN  NaN  NaN   -0.252520  \n",
       "2  1726.0     ...      NaN  NaN  NaN  NaN  NaN  NaN  NaN  NaN  NaN   -0.202080  \n",
       "3   397.0     ...      NaN  NaN  NaN  NaN  NaN  NaN  NaN  NaN  NaN   -0.181253  \n",
       "4     NaN     ...      NaN  NaN  NaN  NaN  NaN  NaN  NaN  NaN  NaN   -0.298635  \n",
       "5  1196.0     ...      NaN  NaN  NaN  NaN  NaN  NaN  NaN  NaN  NaN   -0.210101  \n",
       "\n",
       "[5 rows x 672 columns]"
      ]
     },
     "execution_count": 94,
     "metadata": {},
     "output_type": "execute_result"
    }
   ],
   "source": [
    "revdf.head()"
   ]
  },
  {
   "cell_type": "markdown",
   "metadata": {},
   "source": [
    "Next, I chose to remove movies where there are over 100 weeks of revenue as these are outliers and may skew the outcome"
   ]
  },
  {
   "cell_type": "code",
   "execution_count": 13,
   "metadata": {
    "collapsed": false
   },
   "outputs": [],
   "source": [
    "revdf = revdf[revdf.count(axis=1) < 100]"
   ]
  },
  {
   "cell_type": "markdown",
   "metadata": {},
   "source": [
    "Now add the decay rate to the movie data frame to use as our independant variable"
   ]
  },
  {
   "cell_type": "code",
   "execution_count": 96,
   "metadata": {
    "collapsed": false
   },
   "outputs": [
    {
     "data": {
      "text/html": [
       "<div>\n",
       "<table border=\"1\" class=\"dataframe\">\n",
       "  <thead>\n",
       "    <tr style=\"text-align: right;\">\n",
       "      <th></th>\n",
       "      <th>decay rate</th>\n",
       "    </tr>\n",
       "  </thead>\n",
       "  <tbody>\n",
       "    <tr>\n",
       "      <th>1</th>\n",
       "      <td>-0.252520</td>\n",
       "    </tr>\n",
       "    <tr>\n",
       "      <th>2</th>\n",
       "      <td>-0.202080</td>\n",
       "    </tr>\n",
       "    <tr>\n",
       "      <th>3</th>\n",
       "      <td>-0.181253</td>\n",
       "    </tr>\n",
       "    <tr>\n",
       "      <th>4</th>\n",
       "      <td>-0.298635</td>\n",
       "    </tr>\n",
       "    <tr>\n",
       "      <th>5</th>\n",
       "      <td>-0.210101</td>\n",
       "    </tr>\n",
       "  </tbody>\n",
       "</table>\n",
       "</div>"
      ],
      "text/plain": [
       "   decay rate\n",
       "1   -0.252520\n",
       "2   -0.202080\n",
       "3   -0.181253\n",
       "4   -0.298635\n",
       "5   -0.210101"
      ]
     },
     "execution_count": 96,
     "metadata": {},
     "output_type": "execute_result"
    }
   ],
   "source": [
    "decaydf = pd.DataFrame(revdf['decay rate'], index=revdf.index)\n",
    "decaydf.head()"
   ]
  },
  {
   "cell_type": "code",
   "execution_count": 109,
   "metadata": {
    "collapsed": false
   },
   "outputs": [
    {
     "data": {
      "text/html": [
       "<div>\n",
       "<table border=\"1\" class=\"dataframe\">\n",
       "  <thead>\n",
       "    <tr style=\"text-align: right;\">\n",
       "      <th></th>\n",
       "      <th>dist</th>\n",
       "      <th>dom_tot_gross</th>\n",
       "      <th>genre</th>\n",
       "      <th>title</th>\n",
       "      <th>movieid</th>\n",
       "      <th>num_theaters</th>\n",
       "      <th>open_rev</th>\n",
       "      <th>budget</th>\n",
       "      <th>rating</th>\n",
       "      <th>release</th>\n",
       "      <th>runtime</th>\n",
       "      <th>time_theaters</th>\n",
       "      <th>month</th>\n",
       "      <th>meta_rating</th>\n",
       "      <th>rating_bin</th>\n",
       "      <th>decay rate</th>\n",
       "    </tr>\n",
       "  </thead>\n",
       "  <tbody>\n",
       "    <tr>\n",
       "      <th>0</th>\n",
       "      <td>Orion Pictures</td>\n",
       "      <td>90944400.0</td>\n",
       "      <td>Comedy</td>\n",
       "      <td>Dirty Rotten Scoundrels</td>\n",
       "      <td>1</td>\n",
       "      <td>1515.0</td>\n",
       "      <td>8129500.0</td>\n",
       "      <td>NaN</td>\n",
       "      <td>PG</td>\n",
       "      <td>1988-12-16</td>\n",
       "      <td>110.0</td>\n",
       "      <td>56.0</td>\n",
       "      <td>12.0</td>\n",
       "      <td>68</td>\n",
       "      <td>(60.4, 80.2]</td>\n",
       "      <td>-0.252520</td>\n",
       "    </tr>\n",
       "    <tr>\n",
       "      <th>1</th>\n",
       "      <td>Fox</td>\n",
       "      <td>252358600.0</td>\n",
       "      <td>Action</td>\n",
       "      <td>Speed</td>\n",
       "      <td>2</td>\n",
       "      <td>2169.0</td>\n",
       "      <td>30088300.0</td>\n",
       "      <td>30000000.0</td>\n",
       "      <td>R</td>\n",
       "      <td>1994-06-10</td>\n",
       "      <td>116.0</td>\n",
       "      <td>70.0</td>\n",
       "      <td>6.0</td>\n",
       "      <td>78</td>\n",
       "      <td>(60.4, 80.2]</td>\n",
       "      <td>-0.202080</td>\n",
       "    </tr>\n",
       "    <tr>\n",
       "      <th>2</th>\n",
       "      <td>Paramount</td>\n",
       "      <td>48884600.0</td>\n",
       "      <td>Comedy</td>\n",
       "      <td>The Out-of-Towners</td>\n",
       "      <td>3</td>\n",
       "      <td>2128.0</td>\n",
       "      <td>14084800.0</td>\n",
       "      <td>75000000.0</td>\n",
       "      <td>PG-13</td>\n",
       "      <td>1999-04-02</td>\n",
       "      <td>90.0</td>\n",
       "      <td>105.0</td>\n",
       "      <td>4.0</td>\n",
       "      <td>33</td>\n",
       "      <td>(20.8, 40.6]</td>\n",
       "      <td>-0.181253</td>\n",
       "    </tr>\n",
       "    <tr>\n",
       "      <th>3</th>\n",
       "      <td>Universal</td>\n",
       "      <td>39263600.0</td>\n",
       "      <td>Drama</td>\n",
       "      <td>Captain Corelli's Mandolin</td>\n",
       "      <td>4</td>\n",
       "      <td>1612.0</td>\n",
       "      <td>11081500.0</td>\n",
       "      <td>57000000.0</td>\n",
       "      <td>R</td>\n",
       "      <td>2001-08-17</td>\n",
       "      <td>129.0</td>\n",
       "      <td>63.0</td>\n",
       "      <td>8.0</td>\n",
       "      <td>36</td>\n",
       "      <td>(20.8, 40.6]</td>\n",
       "      <td>-0.298635</td>\n",
       "    </tr>\n",
       "    <tr>\n",
       "      <th>4</th>\n",
       "      <td>DreamWorks</td>\n",
       "      <td>55006600.0</td>\n",
       "      <td>Comedy</td>\n",
       "      <td>Head of State</td>\n",
       "      <td>7</td>\n",
       "      <td>2256.0</td>\n",
       "      <td>19482600.0</td>\n",
       "      <td>NaN</td>\n",
       "      <td>PG-13</td>\n",
       "      <td>2003-03-28</td>\n",
       "      <td>95.0</td>\n",
       "      <td>112.0</td>\n",
       "      <td>3.0</td>\n",
       "      <td>44</td>\n",
       "      <td>(40.6, 60.4]</td>\n",
       "      <td>-0.123494</td>\n",
       "    </tr>\n",
       "  </tbody>\n",
       "</table>\n",
       "</div>"
      ],
      "text/plain": [
       "             dist  dom_tot_gross   genre                       title  movieid  \\\n",
       "0  Orion Pictures     90944400.0  Comedy     Dirty Rotten Scoundrels        1   \n",
       "1             Fox    252358600.0  Action                       Speed        2   \n",
       "2       Paramount     48884600.0  Comedy          The Out-of-Towners        3   \n",
       "3       Universal     39263600.0   Drama  Captain Corelli's Mandolin        4   \n",
       "4      DreamWorks     55006600.0  Comedy               Head of State        7   \n",
       "\n",
       "   num_theaters    open_rev      budget rating     release  runtime  \\\n",
       "0        1515.0   8129500.0         NaN     PG  1988-12-16    110.0   \n",
       "1        2169.0  30088300.0  30000000.0      R  1994-06-10    116.0   \n",
       "2        2128.0  14084800.0  75000000.0  PG-13  1999-04-02     90.0   \n",
       "3        1612.0  11081500.0  57000000.0      R  2001-08-17    129.0   \n",
       "4        2256.0  19482600.0         NaN  PG-13  2003-03-28     95.0   \n",
       "\n",
       "   time_theaters  month  meta_rating    rating_bin  decay rate  \n",
       "0           56.0   12.0           68  (60.4, 80.2]   -0.252520  \n",
       "1           70.0    6.0           78  (60.4, 80.2]   -0.202080  \n",
       "2          105.0    4.0           33  (20.8, 40.6]   -0.181253  \n",
       "3           63.0    8.0           36  (20.8, 40.6]   -0.298635  \n",
       "4          112.0    3.0           44  (40.6, 60.4]   -0.123494  "
      ]
     },
     "execution_count": 109,
     "metadata": {},
     "output_type": "execute_result"
    }
   ],
   "source": [
    "moviedf = pd.merge(moviedf, decaydf, left_on='movieid', right_index=True, how='inner')\n",
    "moviedf.head()"
   ]
  },
  {
   "cell_type": "markdown",
   "metadata": {},
   "source": [
    "Get rid of movies where decay rate is above 0"
   ]
  },
  {
   "cell_type": "code",
   "execution_count": 54,
   "metadata": {
    "collapsed": false
   },
   "outputs": [],
   "source": [
    "moviedf = moviedf[moviedf['decay rate'] < 0]"
   ]
  },
  {
   "cell_type": "markdown",
   "metadata": {},
   "source": [
    "## Scrape MetaCritic data\n",
    "With a goal of predicting the decay rate of a movie's box office revenue, it seemed important to include a feature that measured the quality of the movie. I chose to scrape MetaCritic for movie ratings (1-100). <br/><br/>\n",
    "Below are some helper functions. Note that all of them may not be used. "
   ]
  },
  {
   "cell_type": "code",
   "execution_count": 4,
   "metadata": {
    "collapsed": true
   },
   "outputs": [],
   "source": [
    "def get_meta_url_list():\n",
    "    \"\"\"\n",
    "    Finds the URL of the movie page for all movies on MetaCritis and\n",
    "    returns the URL's as a list.\n",
    "    \"\"\"\n",
    "    url_list = []\n",
    "    meta_base = 'http://www.metacritic.com/browse/movies/title/dvd' \n",
    "    alpha = [''] + list(string.ascii_lowercase)\n",
    "    for letter in alpha:\n",
    "        url = meta_base + '/' + letter + '?view=condensed'\n",
    "        url_list.append(url)\n",
    "        pages = np.arange(1,20)\n",
    "        for pg in pages: \n",
    "            url = meta_base + '/' + letter + '?view=condensed&page=' + str(pg)\n",
    "            url_list.append(url)\n",
    "    return url_list\n",
    "\n",
    "def get_soup_url(url):\n",
    "    \"\"\"\n",
    "    Given a URL, returns a soup object using 'requests.'\n",
    "    \"\"\"\n",
    "    hdr = {'User-Agent': 'Mozilla/5.0'}\n",
    "    response = requests.get(url, headers=hdr)\n",
    "    page = response.text\n",
    "    soup = BeautifulSoup(page, 'xml')\n",
    "    return soup\n",
    "\n",
    "def get_soup_meta(url):\n",
    "    \"\"\"\n",
    "    Given a URL, returns a soup objects using 'urllib2.'\n",
    "    \"\"\"\n",
    "    hdr = {'User-Agent': 'Mozilla/5.0'}\n",
    "    req = urllib2.Request(url,headers=hdr)\n",
    "    page = urllib2.urlopen(req)\n",
    "    soup = BeautifulSoup(page)\n",
    "    return soup\n",
    "\n",
    "def get_soups(url_list):\n",
    "    \"\"\"\n",
    "    Given a list of URL's, returns a list of soups using gevent's pool\n",
    "    for increased speed.\n",
    "    \"\"\"\n",
    "    pool = Pool(25)\n",
    "    soup_list = []\n",
    "    faulty_url_list = []\n",
    "    for link in url_list:\n",
    "        soup_list.append(pool.spawn(get_soup_url, link))\n",
    "    pool.join()\n",
    "    return soup_list\n",
    "\n",
    "def get_meta_rating_moviepg(soup):\n",
    "    \"\"\"\n",
    "    Given a soup, finds the title and rating of the movie.\n",
    "    \"\"\"\n",
    "    name_not_found = True\n",
    "    for item in soup.find_all('span'): \n",
    "        if item.get('itemprop') == 'ratingValue':\n",
    "            rating = item.text.strip()\n",
    "        if item.get('itemprop') == 'name' and (name_not_found):\n",
    "            title = item.text.strip()\n",
    "            name_not_found = False\n",
    "    return title, rating"
   ]
  },
  {
   "cell_type": "markdown",
   "metadata": {},
   "source": [
    "Test code for a single movie page"
   ]
  },
  {
   "cell_type": "code",
   "execution_count": 5,
   "metadata": {
    "collapsed": false
   },
   "outputs": [
    {
     "name": "stdout",
     "output_type": "stream",
     "text": [
      "Philadelphia 66\n"
     ]
    },
    {
     "name": "stderr",
     "output_type": "stream",
     "text": [
      "/Users/MelanieAppleby/anaconda/envs/benson/lib/python2.7/site-packages/bs4/__init__.py:166: UserWarning: No parser was explicitly specified, so I'm using the best available HTML parser for this system (\"lxml\"). This usually isn't a problem, but if you run this code on another system, or in a different virtual environment, it may use a different parser and behave differently.\n",
      "\n",
      "To get rid of this warning, change this:\n",
      "\n",
      " BeautifulSoup([your markup])\n",
      "\n",
      "to this:\n",
      "\n",
      " BeautifulSoup([your markup], \"lxml\")\n",
      "\n",
      "  markup_type=markup_type))\n"
     ]
    }
   ],
   "source": [
    "meta_url = 'http://www.metacritic.com/movie/philadelphia'\n",
    "soup = get_soup_meta(meta_url)\n",
    "title, rating = get_meta_rating_moviepg(soup)\n",
    "print title, rating"
   ]
  },
  {
   "cell_type": "markdown",
   "metadata": {},
   "source": [
    "Retrieve the list of all movie URLs on MetaCritic"
   ]
  },
  {
   "cell_type": "code",
   "execution_count": null,
   "metadata": {
    "collapsed": true
   },
   "outputs": [],
   "source": [
    "url_list = get_meta_url_list()"
   ]
  },
  {
   "cell_type": "markdown",
   "metadata": {},
   "source": [
    "Get the soups for each URL"
   ]
  },
  {
   "cell_type": "code",
   "execution_count": null,
   "metadata": {
    "collapsed": true
   },
   "outputs": [],
   "source": [
    "soup_list = []\n",
    "for url in url_list:\n",
    "    soup = get_soup_meta(url)\n",
    "    soup_list.append(soup)"
   ]
  },
  {
   "cell_type": "markdown",
   "metadata": {},
   "source": [
    "Find the title and rating of a movie given its soup"
   ]
  },
  {
   "cell_type": "code",
   "execution_count": null,
   "metadata": {
    "collapsed": true
   },
   "outputs": [],
   "source": [
    "meta_ratings_dict = {}\n",
    "\n",
    "for soup in soup_list:\n",
    "    for movie in soup.find_all('div', class_='basic_stat product_score brief_metascore'):\n",
    "        rating = movie.text.strip()\n",
    "        parent = movie.find_parent('div')\n",
    "        title = parent.find(class_='basic_stat product_title').text.strip()\n",
    "        meta_ratings_dict[title] = rating"
   ]
  },
  {
   "cell_type": "markdown",
   "metadata": {},
   "source": [
    "Add this dictionary to a pandas series "
   ]
  },
  {
   "cell_type": "code",
   "execution_count": 22,
   "metadata": {
    "collapsed": false
   },
   "outputs": [
    {
     "data": {
      "text/plain": [
       "#Horror    42\n",
       "$9.99      68\n",
       "$pent      34\n",
       "'71        83\n",
       "'R Xmas    55\n",
       "dtype: object"
      ]
     },
     "execution_count": 22,
     "metadata": {},
     "output_type": "execute_result"
    }
   ],
   "source": [
    "ratings = pd.Series(meta_ratings_dict)\n",
    "ratings.head()"
   ]
  },
  {
   "cell_type": "markdown",
   "metadata": {},
   "source": [
    "And then add it to a dataframe, using the movie title as the index"
   ]
  },
  {
   "cell_type": "code",
   "execution_count": 26,
   "metadata": {
    "collapsed": false
   },
   "outputs": [
    {
     "data": {
      "text/html": [
       "<div>\n",
       "<table border=\"1\" class=\"dataframe\">\n",
       "  <thead>\n",
       "    <tr style=\"text-align: right;\">\n",
       "      <th></th>\n",
       "      <th>meta_rating</th>\n",
       "    </tr>\n",
       "  </thead>\n",
       "  <tbody>\n",
       "    <tr>\n",
       "      <th>#Horror</th>\n",
       "      <td>42</td>\n",
       "    </tr>\n",
       "    <tr>\n",
       "      <th>$9.99</th>\n",
       "      <td>68</td>\n",
       "    </tr>\n",
       "    <tr>\n",
       "      <th>$pent</th>\n",
       "      <td>34</td>\n",
       "    </tr>\n",
       "    <tr>\n",
       "      <th>'71</th>\n",
       "      <td>83</td>\n",
       "    </tr>\n",
       "    <tr>\n",
       "      <th>'R Xmas</th>\n",
       "      <td>55</td>\n",
       "    </tr>\n",
       "  </tbody>\n",
       "</table>\n",
       "</div>"
      ],
      "text/plain": [
       "        meta_rating\n",
       "#Horror          42\n",
       "$9.99            68\n",
       "$pent            34\n",
       "'71              83\n",
       "'R Xmas          55"
      ]
     },
     "execution_count": 26,
     "metadata": {},
     "output_type": "execute_result"
    }
   ],
   "source": [
    "ratingsdf = pd.DataFrame(ratings, index=ratings.index, columns = ['meta_rating'])\n",
    "ratingsdf.head()"
   ]
  },
  {
   "cell_type": "markdown",
   "metadata": {},
   "source": [
    "Add this rating data to the main moviedf"
   ]
  },
  {
   "cell_type": "code",
   "execution_count": null,
   "metadata": {
    "collapsed": true
   },
   "outputs": [],
   "source": [
    "moviedf = pd.merge(moviedf, ratingsdf, left_on='movie title', right_index=True, how='left')"
   ]
  },
  {
   "cell_type": "markdown",
   "metadata": {},
   "source": [
    "Get rid of any movies where the Metacritic rating is null and then check the counts of all the features"
   ]
  },
  {
   "cell_type": "code",
   "execution_count": 38,
   "metadata": {
    "collapsed": false
   },
   "outputs": [
    {
     "data": {
      "text/plain": [
       "distributor                2475\n",
       "domestic total gross       2475\n",
       "genre                      2475\n",
       "movie title                2475\n",
       "movieid                    2475\n",
       "number of theaters         2469\n",
       "opening weekend revenue    2183\n",
       "production budget          1703\n",
       "rating                     2475\n",
       "release date               2475\n",
       "runtime (mins)             2474\n",
       "time in theaters (days)    2475\n",
       "release month              2475\n",
       "decay rate                 2475\n",
       "meta_rating                2475\n",
       "dtype: int64"
      ]
     },
     "execution_count": 38,
     "metadata": {},
     "output_type": "execute_result"
    }
   ],
   "source": [
    "moviedf = moviedf[pd.notnull(moviedf['meta_rating'])]\n",
    "moviedf.count(axis=0)"
   ]
  },
  {
   "cell_type": "markdown",
   "metadata": {},
   "source": [
    "Create a column that bins the MetaCritic rating into 5 bins. "
   ]
  },
  {
   "cell_type": "code",
   "execution_count": null,
   "metadata": {
    "collapsed": true
   },
   "outputs": [],
   "source": [
    "ratings_bin, bins = pd.cut(moviedf['meta_rating'], 5, retbins=True)\n",
    "moviedf['rating_bin'] = ratings_bin"
   ]
  },
  {
   "cell_type": "markdown",
   "metadata": {},
   "source": [
    "## Visualize Data"
   ]
  },
  {
   "cell_type": "markdown",
   "metadata": {},
   "source": [
    "First, let's look at the distribution of each numerical feature using KDE"
   ]
  },
  {
   "cell_type": "code",
   "execution_count": 15,
   "metadata": {
    "collapsed": true
   },
   "outputs": [],
   "source": [
    "def plot_kde(df, category):\n",
    "    \"\"\"Given a dataframe and column name, plots the kernal density estimation\"\"\"\n",
    "    dropped = df[category].dropna()\n",
    "    density = gaussian_kde(dropped)\n",
    "    xs = np.linspace(dropped.min(),dropped.max(),300)\n",
    "    ys = density(xs)\n",
    "    plt.plot(xs, ys)\n",
    "    plt.title('PDF of ' + category)\n",
    "    plt.ylabel('Probability')\n",
    "    plt.xlabel(category)"
   ]
  },
  {
   "cell_type": "code",
   "execution_count": 21,
   "metadata": {
    "collapsed": false
   },
   "outputs": [
    {
     "data": {
      "image/png": "[encoded data removed]",
      "text/plain": [
       "<matplotlib.figure.Figure at 0x10baa6fd0>"
      ]
     },
     "metadata": {},
     "output_type": "display_data"
    }
   ],
   "source": [
    "plot_kde(moviedf, 'dom_tot_gross')"
   ]
  },
  {
   "cell_type": "code",
   "execution_count": 22,
   "metadata": {
    "collapsed": false
   },
   "outputs": [
    {
     "data": {
      "image/png": "[encoded data removed]",
      "text/plain": [
       "<matplotlib.figure.Figure at 0x10bc1c550>"
      ]
     },
     "metadata": {},
     "output_type": "display_data"
    }
   ],
   "source": [
    "plot_kde(moviedf, 'num_theaters')"
   ]
  },
  {
   "cell_type": "code",
   "execution_count": 23,
   "metadata": {
    "collapsed": false
   },
   "outputs": [
    {
     "data": {
      "image/png": "[encoded data removed]",
      "text/plain": [
       "<matplotlib.figure.Figure at 0x10b88b990>"
      ]
     },
     "metadata": {},
     "output_type": "display_data"
    }
   ],
   "source": [
    "plot_kde(moviedf, 'open_rev')"
   ]
  },
  {
   "cell_type": "code",
   "execution_count": 24,
   "metadata": {
    "collapsed": false
   },
   "outputs": [
    {
     "data": {
      "image/png": "[encoded data removed]",
      "text/plain": [
       "<matplotlib.figure.Figure at 0x10babfc90>"
      ]
     },
     "metadata": {},
     "output_type": "display_data"
    }
   ],
   "source": [
    "plot_kde(moviedf, 'budget')"
   ]
  },
  {
   "cell_type": "code",
   "execution_count": 25,
   "metadata": {
    "collapsed": false
   },
   "outputs": [
    {
     "data": {
      "image/png": "[encoded data removed]",
      "text/plain": [
       "<matplotlib.figure.Figure at 0x10c442290>"
      ]
     },
     "metadata": {},
     "output_type": "display_data"
    }
   ],
   "source": [
    "plot_kde(moviedf, 'runtime')"
   ]
  },
  {
   "cell_type": "code",
   "execution_count": 26,
   "metadata": {
    "collapsed": false
   },
   "outputs": [
    {
     "data": {
      "image/png": "[encoded data removed]",
      "text/plain": [
       "<matplotlib.figure.Figure at 0x10b8c7050>"
      ]
     },
     "metadata": {},
     "output_type": "display_data"
    }
   ],
   "source": [
    "plot_kde(moviedf, 'time_theaters')"
   ]
  },
  {
   "cell_type": "code",
   "execution_count": 28,
   "metadata": {
    "collapsed": false
   },
   "outputs": [
    {
     "data": {
      "image/png": "[encoded data removed]",
      "text/plain": [
       "<matplotlib.figure.Figure at 0x10c7d0590>"
      ]
     },
     "metadata": {},
     "output_type": "display_data"
    }
   ],
   "source": [
    "plot_kde(moviedf, 'month')"
   ]
  },
  {
   "cell_type": "code",
   "execution_count": 30,
   "metadata": {
    "collapsed": false
   },
   "outputs": [
    {
     "data": {
      "image/png": "[encoded data removed]",
      "text/plain": [
       "<matplotlib.figure.Figure at 0x10ca1d210>"
      ]
     },
     "metadata": {},
     "output_type": "display_data"
    }
   ],
   "source": [
    "plot_kde(moviedf, 'decay rate')"
   ]
  },
  {
   "cell_type": "markdown",
   "metadata": {},
   "source": [
    "Next, let's look at the distribution of categorical features using histograms"
   ]
  },
  {
   "cell_type": "code",
   "execution_count": 33,
   "metadata": {
    "collapsed": false
   },
   "outputs": [],
   "source": [
    "def plot_bar(df, column):\n",
    "    ys = df[column].value_counts(normalize=True, sort=False)\n",
    "    xs = np.arange(len(ys))\n",
    "    plt.figure(figsize=(18,5))\n",
    "    plt.bar(xs, ys.values)\n",
    "    plt.xticks(xs, ys.index, rotation=45, size=17)"
   ]
  },
  {
   "cell_type": "code",
   "execution_count": 34,
   "metadata": {
    "collapsed": false
   },
   "outputs": [
    {
     "data": {
      "image/png": "[encoded data removed]",
      "text/plain": [
       "<matplotlib.figure.Figure at 0x10b5bfed0>"
      ]
     },
     "metadata": {},
     "output_type": "display_data"
    }
   ],
   "source": [
    "plot_bar(moviedf, 'genre')"
   ]
  },
  {
   "cell_type": "code",
   "execution_count": 35,
   "metadata": {
    "collapsed": false
   },
   "outputs": [
    {
     "data": {
      "image/png": "[encoded data removed]",
      "text/plain": [
       "<matplotlib.figure.Figure at 0x10b18fad0>"
      ]
     },
     "metadata": {},
     "output_type": "display_data"
    }
   ],
   "source": [
    "plot_bar(moviedf, 'rating')"
   ]
  },
  {
   "cell_type": "code",
   "execution_count": 37,
   "metadata": {
    "collapsed": false
   },
   "outputs": [
    {
     "data": {
      "image/png": "[encoded data removed]",
      "text/plain": [
       "<matplotlib.figure.Figure at 0x10bddfd90>"
      ]
     },
     "metadata": {},
     "output_type": "display_data"
    }
   ],
   "source": [
    "plot_bar(moviedf, 'dist')"
   ]
  },
  {
   "cell_type": "markdown",
   "metadata": {},
   "source": [
    "Next, let's look at a scatter plot of all of the features vs. our independent variable, decay rate"
   ]
  },
  {
   "cell_type": "code",
   "execution_count": 38,
   "metadata": {
    "collapsed": true
   },
   "outputs": [],
   "source": [
    "def plot_scatter(df, category):\n",
    "    xs = df[category]\n",
    "    ys = df['decay rate']\n",
    "    plt.scatter(xs, ys)\n",
    "    plt.savefig('img/scatter'+category+'.png')"
   ]
  },
  {
   "cell_type": "code",
   "execution_count": 39,
   "metadata": {
    "collapsed": false
   },
   "outputs": [
    {
     "data": {
      "image/png": "[encoded data removed]",
      "text/plain": [
       "<matplotlib.figure.Figure at 0x10bddf210>"
      ]
     },
     "metadata": {},
     "output_type": "display_data"
    }
   ],
   "source": [
    "plot_scatter(moviedf, 'dom_tot_gross')"
   ]
  },
  {
   "cell_type": "code",
   "execution_count": 40,
   "metadata": {
    "collapsed": false
   },
   "outputs": [
    {
     "data": {
      "image/png": "[encoded data removed]",
      "text/plain": [
       "<matplotlib.figure.Figure at 0x10bf3a590>"
      ]
     },
     "metadata": {},
     "output_type": "display_data"
    }
   ],
   "source": [
    "plot_scatter(moviedf, 'num_theaters')"
   ]
  },
  {
   "cell_type": "code",
   "execution_count": 42,
   "metadata": {
    "collapsed": false
   },
   "outputs": [
    {
     "data": {
      "image/png": "[encoded data removed]",
      "text/plain": [
       "<matplotlib.figure.Figure at 0x10bd12350>"
      ]
     },
     "metadata": {},
     "output_type": "display_data"
    }
   ],
   "source": [
    "plot_scatter(moviedf, 'open_rev')"
   ]
  },
  {
   "cell_type": "code",
   "execution_count": 43,
   "metadata": {
    "collapsed": false
   },
   "outputs": [
    {
     "data": {
      "image/png": "[encoded data removed]",
      "text/plain": [
       "<matplotlib.figure.Figure at 0x10c1d5cd0>"
      ]
     },
     "metadata": {},
     "output_type": "display_data"
    }
   ],
   "source": [
    "plot_scatter(moviedf, 'budget')"
   ]
  },
  {
   "cell_type": "code",
   "execution_count": 44,
   "metadata": {
    "collapsed": false
   },
   "outputs": [
    {
     "data": {
      "image/png": "[encoded data removed]",
      "text/plain": [
       "<matplotlib.figure.Figure at 0x10c219690>"
      ]
     },
     "metadata": {},
     "output_type": "display_data"
    }
   ],
   "source": [
    "plot_scatter(moviedf, 'runtime')"
   ]
  },
  {
   "cell_type": "code",
   "execution_count": 46,
   "metadata": {
    "collapsed": false
   },
   "outputs": [
    {
     "data": {
      "image/png": "[encoded data removed]",
      "text/plain": [
       "<matplotlib.figure.Figure at 0x10ac11bd0>"
      ]
     },
     "metadata": {},
     "output_type": "display_data"
    }
   ],
   "source": [
    "plot_scatter(moviedf, 'time_theaters')"
   ]
  },
  {
   "cell_type": "code",
   "execution_count": 45,
   "metadata": {
    "collapsed": false
   },
   "outputs": [
    {
     "data": {
      "image/png": "[encoded data removed]",
      "text/plain": [
       "<matplotlib.figure.Figure at 0x10bc44990>"
      ]
     },
     "metadata": {},
     "output_type": "display_data"
    }
   ],
   "source": [
    "plot_scatter(moviedf, 'month')"
   ]
  },
  {
   "cell_type": "markdown",
   "metadata": {},
   "source": [
    "Now let's look at a scatter plot for all the categorical features"
   ]
  },
  {
   "cell_type": "code",
   "execution_count": 47,
   "metadata": {
    "collapsed": true
   },
   "outputs": [],
   "source": [
    "def plot_scatter_categorical(df, category):\n",
    "    d = {}\n",
    "    i = 0\n",
    "    for c in df[category].unique():\n",
    "        d[c] = i\n",
    "        i += 1\n",
    "    copy = df.copy(deep=True)\n",
    "    copy[category + '_cat'] = copy[category].map(d)\n",
    "    xs = copy[category + '_cat']\n",
    "    ys = copy['decay rate']\n",
    "    plt.scatter(xs, ys)"
   ]
  },
  {
   "cell_type": "code",
   "execution_count": 48,
   "metadata": {
    "collapsed": false
   },
   "outputs": [
    {
     "data": {
      "image/png": "[encoded data removed]",
      "text/plain": [
       "<matplotlib.figure.Figure at 0x10b6530d0>"
      ]
     },
     "metadata": {},
     "output_type": "display_data"
    }
   ],
   "source": [
    "plot_scatter_categorical(moviedf, 'genre')"
   ]
  },
  {
   "cell_type": "code",
   "execution_count": 49,
   "metadata": {
    "collapsed": false
   },
   "outputs": [
    {
     "data": {
      "image/png": "[encoded data removed]",
      "text/plain": [
       "<matplotlib.figure.Figure at 0x1061df310>"
      ]
     },
     "metadata": {},
     "output_type": "display_data"
    }
   ],
   "source": [
    "plot_scatter_categorical(moviedf, 'rating')"
   ]
  },
  {
   "cell_type": "code",
   "execution_count": 50,
   "metadata": {
    "collapsed": false
   },
   "outputs": [
    {
     "data": {
      "image/png": "[encoded data removed]",
      "text/plain": [
       "<matplotlib.figure.Figure at 0x10b5b92d0>"
      ]
     },
     "metadata": {},
     "output_type": "display_data"
    }
   ],
   "source": [
    "plot_scatter_categorical(moviedf, 'dist')"
   ]
  }
 ],
 "metadata": {
  "kernelspec": {
   "display_name": "Python 2",
   "language": "python",
   "name": "python2"
  },
  "language_info": {
   "codemirror_mode": {
    "name": "ipython",
    "version": 2
   },
   "file_extension": ".py",
   "mimetype": "text/x-python",
   "name": "python",
   "nbconvert_exporter": "python",
   "pygments_lexer": "ipython2",
   "version": "2.7.11"
  }
 },
 "nbformat": 4,
 "nbformat_minor": 0
}
