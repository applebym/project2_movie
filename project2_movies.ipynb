{
 "cells": [
  {
   "cell_type": "code",
   "execution_count": 228,
   "metadata": {
    "collapsed": false
   },
   "outputs": [],
   "source": [
    "import requests\n",
    "from bs4 import BeautifulSoup\n",
    "import re\n",
    "import pandas as pd\n",
    "from collections import defaultdict\n",
    "import dateutil.parser\n",
    "from pprint import pprint\n",
    "import pandas\n",
    "import numpy as np\n",
    "import pickle\n",
    "import matplotlib.pyplot as plt\n",
    "from scipy.stats import gaussian_kde\n",
    "from copy import deepcopy\n",
    "\n",
    "%matplotlib inline"
   ]
  },
  {
   "cell_type": "markdown",
   "metadata": {},
   "source": [
    "### Helper methods for BeautifulSoup ###"
   ]
  },
  {
   "cell_type": "code",
   "execution_count": 2,
   "metadata": {
    "collapsed": true
   },
   "outputs": [],
   "source": [
    "def get_soup_ps(prefix, suffix):\n",
    "    response = requests.get(prefix + suffix)   \n",
    "    page = response.text\n",
    "    soup = BeautifulSoup(page, 'html.parser')\n",
    "    return soup\n",
    "\n",
    "def get_soup_url(url):\n",
    "    response = requests.get(url)\n",
    "    page = response.text\n",
    "    soup = BeautifulSoup(page, 'html.parser')\n",
    "    return soup"
   ]
  },
  {
   "cell_type": "markdown",
   "metadata": {},
   "source": [
    "## Gather the links to the top movies of all time ##"
   ]
  },
  {
   "cell_type": "code",
   "execution_count": 3,
   "metadata": {
    "collapsed": false,
    "scrolled": true
   },
   "outputs": [],
   "source": [
    "movie_prefix = 'http://www.boxofficemojo.com/alltime/domestic.htm?page=' \n",
    "partial_movie_suffix = '&p=.htm'\n",
    "top_movie_links = set()\n",
    "\n",
    "for page in range(1,41):\n",
    "    full_movie_suffix = str(page) + partial_movie_suffix\n",
    "    soup = get_soup_ps(movie_prefix, full_movie_suffix)\n",
    "    for element in soup.find_all('a'):\n",
    "        link = element.get('href')\n",
    "        if link.startswith('/movies/?id'):\n",
    "            top_movie_links.add(link)\n",
    "    if '/movies/?id=michelledarnell.htm' in top_movie_links:\n",
    "        top_movie_links.remove('/movies/?id=michelledarnell.htm')"
   ]
  },
  {
   "cell_type": "code",
   "execution_count": 4,
   "metadata": {
    "collapsed": false
   },
   "outputs": [
    {
     "name": "stdout",
     "output_type": "stream",
     "text": [
      "3902\n"
     ]
    }
   ],
   "source": [
    "# Number of movies in database\n",
    "print len(top_movie_links)"
   ]
  },
  {
   "cell_type": "code",
   "execution_count": null,
   "metadata": {
    "collapsed": false
   },
   "outputs": [],
   "source": [
    "# Smaller set of movies to test data collection on\n",
    "test_movie_links = {x for x in top_movie_links if 'horse' in x}\n",
    "print test_movie_links"
   ]
  },
  {
   "cell_type": "markdown",
   "metadata": {},
   "source": [
    "### Helper methods to gather data on given movie ###"
   ]
  },
  {
   "cell_type": "code",
   "execution_count": 5,
   "metadata": {
    "collapsed": true
   },
   "outputs": [],
   "source": [
    "def get_movie_value(soup, field_name):\n",
    "    '''Grab a value from boxofficemojo HTML\n",
    "    \n",
    "    Takes a string attribute of a movie on the page and\n",
    "    returns the string in the next sibling object\n",
    "    (the value for that attribute)\n",
    "    or None if nothing is found.\n",
    "    '''\n",
    "    obj = soup.find(text=re.compile(field_name))\n",
    "    if not obj: \n",
    "        return None\n",
    "    # this works for most of the values\n",
    "    next_sibling = obj.findNextSibling()\n",
    "    if next_sibling:\n",
    "        return next_sibling.text \n",
    "    else:\n",
    "        next_sibling = obj.find_parent().findNextSibling()\n",
    "        return next_sibling\n",
    "\n",
    "    \n",
    "def get_movie_values_odd(soup, field_name):\n",
    "    '''Grabs value from boxofficemojo HTML in \n",
    "    Domestic Summary box\n",
    "    \n",
    "    Takes a string attribute of a movie on the page and\n",
    "    returns the string in the next sibling object\n",
    "    (the value for that attribute)\n",
    "    or None if nothing is found.\n",
    "    '''\n",
    "    try:\n",
    "        div_with_stats = soup.find_all('div',class_='mp_box_content')[1]\n",
    "        flag = False\n",
    "        obj = ''\n",
    "        for element in div_with_stats.find_all('td'):\n",
    "            if flag:\n",
    "                obj = element.text\n",
    "                return obj\n",
    "            if field_name in str(element):\n",
    "                flag = True\n",
    "    except:\n",
    "        return None\n",
    "\n",
    "            \n",
    "def get_weekly_rev(soup):\n",
    "    '''Retrieves weekly revenue for given movie\n",
    "    \n",
    "    Returns a list of the weekly revenue,\n",
    "    ordered by week since release\n",
    "    '''\n",
    "    try:\n",
    "        weekly_rev_list = []\n",
    "        for element in soup.find_all('center')[1]:\n",
    "            box = element.find_all('font')\n",
    "            for thing in box:\n",
    "                if '$' in thing.text:\n",
    "                    weekly_rev_list.append(thing.text)\n",
    "        return weekly_rev_list[0::3]\n",
    "    except:\n",
    "        return None\n",
    "\n",
    "\n",
    "def to_date(datestring):\n",
    "    try:\n",
    "        date = dateutil.parser.parse(datestring)\n",
    "        return date\n",
    "    except:\n",
    "        return datestring\n",
    "    \n",
    "\n",
    "def money_to_int(moneystring):\n",
    "    try:\n",
    "        moneystring = moneystring.replace('$', '').replace(',', '')\n",
    "        if 'mil' in moneystring:\n",
    "            moneystring_digits = moneystring.split(' ')[0].strip()\n",
    "            return int(moneystring_digits) * 1000000\n",
    "        return int(moneystring)\n",
    "    except:\n",
    "        return None\n",
    "    \n",
    "    \n",
    "def runtime_to_minutes(runtimestring):\n",
    "    try:\n",
    "        runtime = runtimestring.split()\n",
    "        minutes = int(runtime[0])*60 + int(runtime[2])\n",
    "        return minutes\n",
    "    except:\n",
    "        return None\n",
    "\n",
    "    \n",
    "def theaters_to_int(theaterstring):\n",
    "    try:\n",
    "        theaters = int(str(theaterstring.split()[0]).replace(',',''))\n",
    "        return theaters\n",
    "    except:\n",
    "        return None\n",
    "\n",
    "\n",
    "def release_time_to_days(releasestring):\n",
    "    try:\n",
    "        days = int(releasestring.split()[0])\n",
    "        return days\n",
    "    except:\n",
    "        return None"
   ]
  },
  {
   "cell_type": "markdown",
   "metadata": {},
   "source": [
    "## Collect data from BoxOfficeMojo ##"
   ]
  },
  {
   "cell_type": "markdown",
   "metadata": {},
   "source": [
    "Output is a list of dictionaries containing all data for a single movie"
   ]
  },
  {
   "cell_type": "code",
   "execution_count": 13,
   "metadata": {
    "collapsed": false,
    "scrolled": true
   },
   "outputs": [
    {
     "name": "stdout",
     "output_type": "stream",
     "text": [
      "0\n",
      "50\n",
      "100\n",
      "150\n",
      "200\n",
      "250\n",
      "300\n",
      "350\n",
      "400\n",
      "450\n",
      "500\n",
      "550\n",
      "600\n",
      "650\n",
      "700\n",
      "750\n",
      "800\n",
      "850\n",
      "900\n",
      "950\n",
      "1000\n",
      "1050\n",
      "1100\n",
      "1150\n",
      "1200\n",
      "1250\n",
      "1300\n",
      "1350\n",
      "1400\n",
      "1450\n",
      "1500\n",
      "1550\n",
      "1600\n",
      "1650\n",
      "1700\n",
      "1750\n",
      "1800\n",
      "1850\n",
      "1900\n",
      "1950\n",
      "2000\n",
      "2050\n",
      "2100\n",
      "2150\n",
      "2200\n",
      "2250\n",
      "2300\n",
      "2350\n",
      "2400\n",
      "2450\n",
      "ChunkedEncodingError\n",
      "2500\n",
      "2550\n",
      "2600\n",
      "2650\n",
      "2700\n",
      "2750\n",
      "2800\n",
      "2850\n",
      "2900\n",
      "2950\n",
      "3000\n",
      "3050\n",
      "3100\n",
      "3150\n",
      "3200\n",
      "3250\n",
      "3300\n",
      "3350\n",
      "3400\n",
      "3450\n",
      "3500\n",
      "3550\n",
      "3600\n",
      "3650\n",
      "3700\n",
      "3750\n",
      "3800\n",
      "3850\n",
      "3900\n"
     ]
    }
   ],
   "source": [
    "headers = ['movieid','movie title', 'domestic total gross',\n",
    "           'release date', 'runtime (mins)', 'rating', \n",
    "           'genre', 'production budget', 'distributor',\n",
    "            'opening weekend revenue', 'number of theaters',\n",
    "            'time in theaters (days)']\n",
    "\n",
    "base_url = 'http://www.boxofficemojo.com/'\n",
    "\n",
    "movie_data = []\n",
    "rev_data = {}\n",
    "missing_links = []\n",
    "\n",
    "counter = 1\n",
    "\n",
    "time_count = 0\n",
    "\n",
    "for movie in top_movie_links:\n",
    "    try:\n",
    "        if time_count % 50 == 0: print time_count\n",
    "        time_count += 1\n",
    "\n",
    "        # Create a movieid\n",
    "        movieid = counter\n",
    "        counter += 1\n",
    "\n",
    "\n",
    "        # Create dictionary of movieid to list of weekly revenues\n",
    "        movie_link_split = movie.split('?')\n",
    "        weekly_suffix = movie_link_split[0] + '?page=weekly&' + movie_link_split[1]\n",
    "        weekly_soup = get_soup_ps(base_url, weekly_suffix)\n",
    "\n",
    "        weekly_revenue = get_weekly_rev(weekly_soup)\n",
    "\n",
    "        rev_data[movieid] = weekly_revenue\n",
    "\n",
    "\n",
    "        # Create list of movie data dictionarys\n",
    "        soup = get_soup_ps(base_url, movie)\n",
    "        adj_soup = get_soup_ps(base_url, movie + '&adjust_yr=2016&p=.htm')\n",
    "\n",
    "        raw_title_string = soup.find('title').text\n",
    "        title = raw_title_string.split('(')[0].strip()\n",
    "\n",
    "        raw_release_date = get_movie_value(soup,'Release Date')\n",
    "        release_date = to_date(raw_release_date)\n",
    "\n",
    "        raw_domestic_total_gross = get_movie_value(adj_soup,'Domestic Total')\n",
    "        domestic_total_gross = money_to_int(raw_domestic_total_gross)\n",
    "\n",
    "        raw_runtime = get_movie_value(soup,'Runtime')\n",
    "        runtime = runtime_to_minutes(raw_runtime)\n",
    "\n",
    "        rating = get_movie_value(soup,'MPAA Rating')\n",
    "\n",
    "        genre = get_movie_value(soup, 'Genre:')\n",
    "\n",
    "        raw_prod_budget = get_movie_value(soup, 'Production Budget')\n",
    "        prod_budget = money_to_int(raw_prod_budget)\n",
    "\n",
    "        distributor = get_movie_value(soup, 'Distributor:')\n",
    "\n",
    "        raw_opening_weekend = get_movie_values_odd(adj_soup, 'Opening')\n",
    "        opening_weekend = money_to_int(raw_opening_weekend)\n",
    "\n",
    "        raw_widest_release = get_movie_values_odd(soup, 'Widest')\n",
    "        widest_release = theaters_to_int(raw_widest_release)\n",
    "\n",
    "        raw_realease_time = get_movie_values_odd(soup, 'In Release')\n",
    "        release_time = release_time_to_days(raw_realease_time)\n",
    "\n",
    "        raw_close_date = get_movie_values_odd(soup, 'Close')\n",
    "        close_date = to_date(raw_close_date)\n",
    "\n",
    "        # Calculate days in theaters if not given\n",
    "        if release_time == None and close_date != None:\n",
    "            day_diff = close_date - release_date\n",
    "            release_time = release_time_to_days(str(day_diff))\n",
    "        elif release_time == None and close_date == None and weekly_revenue != None:\n",
    "            num_weeks = len(weekly_revenue)\n",
    "            release_time = num_weeks * 7\n",
    "\n",
    "\n",
    "\n",
    "        movie_dict = dict(zip(headers, [movieid, \n",
    "                                        title,\n",
    "                                        domestic_total_gross,\n",
    "                                        release_date,\n",
    "                                        runtime,\n",
    "                                        rating,\n",
    "                                        genre,\n",
    "                                        prod_budget,\n",
    "                                        distributor,\n",
    "                                        opening_weekend,\n",
    "                                        widest_release,\n",
    "                                        release_time]))\n",
    "\n",
    "        movie_data.append(movie_dict) \n",
    "    \n",
    "    except:\n",
    "        print 'ChunkedEncodingError'\n",
    "        missing_links.append(movie)"
   ]
  },
  {
   "cell_type": "code",
   "execution_count": 18,
   "metadata": {
    "collapsed": false
   },
   "outputs": [
    {
     "name": "stdout",
     "output_type": "stream",
     "text": [
      "1\n"
     ]
    }
   ],
   "source": [
    "# print len(missing_links)"
   ]
  },
  {
   "cell_type": "code",
   "execution_count": null,
   "metadata": {
    "collapsed": false
   },
   "outputs": [],
   "source": [
    "# print movie_data"
   ]
  },
  {
   "cell_type": "code",
   "execution_count": 28,
   "metadata": {
    "collapsed": false,
    "scrolled": true
   },
   "outputs": [
    {
     "name": "stdout",
     "output_type": "stream",
     "text": [
      "3901\n",
      "3901\n",
      "671\n"
     ]
    }
   ],
   "source": [
    "# Check that the data is all there\n",
    "print len(rev_data)\n",
    "print len(movie_data)\n",
    "\n",
    "# Sanity check what the longest list is\n",
    "max_count = 0\n",
    "for movid,weekly_list in rev_data.items():\n",
    "    try:\n",
    "        count = len(weekly_list)\n",
    "        if count > max_count:\n",
    "            max_count = count\n",
    "    except:\n",
    "        continue\n",
    "print max_count"
   ]
  },
  {
   "cell_type": "code",
   "execution_count": 29,
   "metadata": {
    "collapsed": false,
    "scrolled": true
   },
   "outputs": [
    {
     "name": "stdout",
     "output_type": "stream",
     "text": [
      "{1: [u'$7,233,595',\n",
      "     u'$8,594,407',\n",
      "     u'$7,693,516',\n",
      "     u'$4,614,709',\n",
      "     u'$3,901,369',\n",
      "     u'$2,760,709',\n",
      "     u'$2,090,672',\n",
      "     u'$1,383,818'],\n",
      " 2: [u'$22,745,474',\n",
      "     u'$20,277,293',\n",
      "     u'$18,949,513',\n",
      "     u'$14,945,444',\n",
      "     u'$11,494,773',\n",
      "     u'$7,763,833',\n",
      "     u'$5,970,181',\n",
      "     u'$4,021,083',\n",
      "     u'$2,683,780',\n",
      "     u'$2,264,631']}\n",
      "None\n"
     ]
    }
   ],
   "source": [
    "# test_rev_data = {k: rev_data[k] for k in rev_data.keys()[:2]}\n",
    "# print pprint(test_rev_data)"
   ]
  },
  {
   "cell_type": "code",
   "execution_count": 30,
   "metadata": {
    "collapsed": false
   },
   "outputs": [],
   "source": [
    "with open('movie_data2.pickle', 'wb') as handle:\n",
    "    pickle.dump(movie_data, handle)\n",
    "\n",
    "with open('rev_data2.pickle', 'wb') as handle:\n",
    "    pickle.dump(movie_data, handle)"
   ]
  },
  {
   "cell_type": "markdown",
   "metadata": {},
   "source": [
    "# Input movie data into pandas DataFrame #"
   ]
  },
  {
   "cell_type": "code",
   "execution_count": 92,
   "metadata": {
    "collapsed": false
   },
   "outputs": [],
   "source": [
    "moviedf = pd.DataFrame(movie_data)"
   ]
  },
  {
   "cell_type": "markdown",
   "metadata": {},
   "source": [
    "### Clean data ###"
   ]
  },
  {
   "cell_type": "code",
   "execution_count": 41,
   "metadata": {
    "collapsed": false
   },
   "outputs": [
    {
     "name": "stdout",
     "output_type": "stream",
     "text": [
      "distributor                        object\n",
      "domestic total gross              float64\n",
      "genre                              object\n",
      "movie title                        object\n",
      "number of theaters                float64\n",
      "opening weekend revenue           float64\n",
      "production budget                 float64\n",
      "rating                             object\n",
      "release date               datetime64[ns]\n",
      "runtime (mins)                    float64\n",
      "time in theaters (days)           float64\n",
      "dtype: object\n"
     ]
    }
   ],
   "source": [
    "print moviedf.dtypes"
   ]
  },
  {
   "cell_type": "code",
   "execution_count": 47,
   "metadata": {
    "collapsed": false
   },
   "outputs": [
    {
     "data": {
      "text/plain": [
       "distributor                3898\n",
       "domestic total gross       3898\n",
       "genre                      3898\n",
       "movie title                3901\n",
       "number of theaters         3630\n",
       "opening weekend revenue    3296\n",
       "production budget          2024\n",
       "rating                     3898\n",
       "release date               3898\n",
       "runtime (mins)             3897\n",
       "time in theaters (days)    3900\n",
       "dtype: int64"
      ]
     },
     "execution_count": 47,
     "metadata": {},
     "output_type": "execute_result"
    }
   ],
   "source": [
    "moviedf.count(axis=0)"
   ]
  },
  {
   "cell_type": "code",
   "execution_count": 140,
   "metadata": {
    "collapsed": false
   },
   "outputs": [],
   "source": [
    "moviedf = moviedf[moviedf['time in theaters (days)'] < 500]\n",
    "# Removed ~10 rows - all but one being IMAX movies"
   ]
  },
  {
   "cell_type": "code",
   "execution_count": 303,
   "metadata": {
    "collapsed": false,
    "scrolled": true
   },
   "outputs": [],
   "source": [
    "# Cell to look at outliers\n",
    "# m = moviedf[moviedf['movieid'] == 792]\n",
    "# print m\n",
    "moviedf = moviedf[moviedf['movie title'] != 'Red Dawn']"
   ]
  },
  {
   "cell_type": "code",
   "execution_count": 342,
   "metadata": {
    "collapsed": false
   },
   "outputs": [
    {
     "data": {
      "text/html": [
       "<div>\n",
       "<table border=\"1\" class=\"dataframe\">\n",
       "  <thead>\n",
       "    <tr style=\"text-align: right;\">\n",
       "      <th></th>\n",
       "      <th>distributor</th>\n",
       "      <th>domestic total gross</th>\n",
       "      <th>genre</th>\n",
       "      <th>movie title</th>\n",
       "      <th>movieid</th>\n",
       "      <th>number of theaters</th>\n",
       "      <th>opening weekend revenue</th>\n",
       "      <th>production budget</th>\n",
       "      <th>rating</th>\n",
       "      <th>release date</th>\n",
       "      <th>runtime (mins)</th>\n",
       "      <th>time in theaters (days)</th>\n",
       "      <th>release month</th>\n",
       "    </tr>\n",
       "  </thead>\n",
       "  <tbody>\n",
       "    <tr>\n",
       "      <th>18</th>\n",
       "      <td>Universal</td>\n",
       "      <td>109237700.0</td>\n",
       "      <td>Sports Comedy</td>\n",
       "      <td>Slap Shot</td>\n",
       "      <td>19</td>\n",
       "      <td>NaN</td>\n",
       "      <td>NaN</td>\n",
       "      <td>NaN</td>\n",
       "      <td>R</td>\n",
       "      <td>1977-02-25</td>\n",
       "      <td>122.0</td>\n",
       "      <td>0.0</td>\n",
       "      <td>2.0</td>\n",
       "    </tr>\n",
       "  </tbody>\n",
       "</table>\n",
       "</div>"
      ],
      "text/plain": [
       "   distributor  domestic total gross          genre movie title  movieid  \\\n",
       "18   Universal           109237700.0  Sports Comedy   Slap Shot       19   \n",
       "\n",
       "    number of theaters  opening weekend revenue  production budget rating  \\\n",
       "18                 NaN                      NaN                NaN      R   \n",
       "\n",
       "   release date  runtime (mins)  time in theaters (days)  release month  \n",
       "18   1977-02-25           122.0                      0.0            2.0  "
      ]
     },
     "execution_count": 342,
     "metadata": {},
     "output_type": "execute_result"
    }
   ],
   "source": [
    "moviedf[18:19]"
   ]
  },
  {
   "cell_type": "code",
   "execution_count": 298,
   "metadata": {
    "collapsed": false
   },
   "outputs": [
    {
     "data": {
      "text/html": [
       "<div>\n",
       "<table border=\"1\" class=\"dataframe\">\n",
       "  <thead>\n",
       "    <tr style=\"text-align: right;\">\n",
       "      <th></th>\n",
       "      <th>domestic total gross</th>\n",
       "      <th>movieid</th>\n",
       "      <th>number of theaters</th>\n",
       "      <th>opening weekend revenue</th>\n",
       "      <th>production budget</th>\n",
       "      <th>runtime (mins)</th>\n",
       "      <th>time in theaters (days)</th>\n",
       "      <th>release month</th>\n",
       "    </tr>\n",
       "  </thead>\n",
       "  <tbody>\n",
       "    <tr>\n",
       "      <th>count</th>\n",
       "      <td>3.874000e+03</td>\n",
       "      <td>3876.000000</td>\n",
       "      <td>3606.000000</td>\n",
       "      <td>3.284000e+03</td>\n",
       "      <td>2.024000e+03</td>\n",
       "      <td>3873.000000</td>\n",
       "      <td>3876.000000</td>\n",
       "      <td>3874.000000</td>\n",
       "    </tr>\n",
       "    <tr>\n",
       "      <th>mean</th>\n",
       "      <td>9.662992e+07</td>\n",
       "      <td>1950.676213</td>\n",
       "      <td>2244.049085</td>\n",
       "      <td>2.359963e+07</td>\n",
       "      <td>5.481129e+07</td>\n",
       "      <td>108.829589</td>\n",
       "      <td>76.900413</td>\n",
       "      <td>7.020909</td>\n",
       "    </tr>\n",
       "    <tr>\n",
       "      <th>std</th>\n",
       "      <td>9.912104e+07</td>\n",
       "      <td>1127.581707</td>\n",
       "      <td>920.533453</td>\n",
       "      <td>2.303013e+07</td>\n",
       "      <td>4.625874e+07</td>\n",
       "      <td>18.741207</td>\n",
       "      <td>52.298004</td>\n",
       "      <td>3.447639</td>\n",
       "    </tr>\n",
       "    <tr>\n",
       "      <th>min</th>\n",
       "      <td>1.263660e+07</td>\n",
       "      <td>1.000000</td>\n",
       "      <td>15.000000</td>\n",
       "      <td>4.960000e+04</td>\n",
       "      <td>1.500000e+04</td>\n",
       "      <td>40.000000</td>\n",
       "      <td>0.000000</td>\n",
       "      <td>1.000000</td>\n",
       "    </tr>\n",
       "    <tr>\n",
       "      <th>25%</th>\n",
       "      <td>3.775238e+07</td>\n",
       "      <td>973.750000</td>\n",
       "      <td>1502.500000</td>\n",
       "      <td>1.061198e+07</td>\n",
       "      <td>2.200000e+07</td>\n",
       "      <td>96.000000</td>\n",
       "      <td>37.750000</td>\n",
       "      <td>4.000000</td>\n",
       "    </tr>\n",
       "    <tr>\n",
       "      <th>50%</th>\n",
       "      <td>6.287815e+07</td>\n",
       "      <td>1948.500000</td>\n",
       "      <td>2307.000000</td>\n",
       "      <td>1.651565e+07</td>\n",
       "      <td>4.000000e+07</td>\n",
       "      <td>106.000000</td>\n",
       "      <td>70.000000</td>\n",
       "      <td>7.000000</td>\n",
       "    </tr>\n",
       "    <tr>\n",
       "      <th>75%</th>\n",
       "      <td>1.159403e+08</td>\n",
       "      <td>2928.250000</td>\n",
       "      <td>2954.500000</td>\n",
       "      <td>2.771868e+07</td>\n",
       "      <td>7.500000e+07</td>\n",
       "      <td>118.000000</td>\n",
       "      <td>108.000000</td>\n",
       "      <td>10.000000</td>\n",
       "    </tr>\n",
       "    <tr>\n",
       "      <th>max</th>\n",
       "      <td>1.239014e+09</td>\n",
       "      <td>3902.000000</td>\n",
       "      <td>4468.000000</td>\n",
       "      <td>2.479667e+08</td>\n",
       "      <td>3.000000e+08</td>\n",
       "      <td>227.000000</td>\n",
       "      <td>469.000000</td>\n",
       "      <td>12.000000</td>\n",
       "    </tr>\n",
       "  </tbody>\n",
       "</table>\n",
       "</div>"
      ],
      "text/plain": [
       "       domestic total gross      movieid  number of theaters  \\\n",
       "count          3.874000e+03  3876.000000         3606.000000   \n",
       "mean           9.662992e+07  1950.676213         2244.049085   \n",
       "std            9.912104e+07  1127.581707          920.533453   \n",
       "min            1.263660e+07     1.000000           15.000000   \n",
       "25%            3.775238e+07   973.750000         1502.500000   \n",
       "50%            6.287815e+07  1948.500000         2307.000000   \n",
       "75%            1.159403e+08  2928.250000         2954.500000   \n",
       "max            1.239014e+09  3902.000000         4468.000000   \n",
       "\n",
       "       opening weekend revenue  production budget  runtime (mins)  \\\n",
       "count             3.284000e+03       2.024000e+03     3873.000000   \n",
       "mean              2.359963e+07       5.481129e+07      108.829589   \n",
       "std               2.303013e+07       4.625874e+07       18.741207   \n",
       "min               4.960000e+04       1.500000e+04       40.000000   \n",
       "25%               1.061198e+07       2.200000e+07       96.000000   \n",
       "50%               1.651565e+07       4.000000e+07      106.000000   \n",
       "75%               2.771868e+07       7.500000e+07      118.000000   \n",
       "max               2.479667e+08       3.000000e+08      227.000000   \n",
       "\n",
       "       time in theaters (days)  release month  \n",
       "count              3876.000000    3874.000000  \n",
       "mean                 76.900413       7.020909  \n",
       "std                  52.298004       3.447639  \n",
       "min                   0.000000       1.000000  \n",
       "25%                  37.750000       4.000000  \n",
       "50%                  70.000000       7.000000  \n",
       "75%                 108.000000      10.000000  \n",
       "max                 469.000000      12.000000  "
      ]
     },
     "execution_count": 298,
     "metadata": {},
     "output_type": "execute_result"
    }
   ],
   "source": [
    "moviedf.describe()"
   ]
  },
  {
   "cell_type": "code",
   "execution_count": 255,
   "metadata": {
    "collapsed": false
   },
   "outputs": [
    {
     "data": {
      "text/html": [
       "<div>\n",
       "<table border=\"1\" class=\"dataframe\">\n",
       "  <thead>\n",
       "    <tr style=\"text-align: right;\">\n",
       "      <th></th>\n",
       "      <th>distributor</th>\n",
       "      <th>domestic total gross</th>\n",
       "      <th>genre</th>\n",
       "      <th>movie title</th>\n",
       "      <th>movieid</th>\n",
       "      <th>number of theaters</th>\n",
       "      <th>opening weekend revenue</th>\n",
       "      <th>production budget</th>\n",
       "      <th>rating</th>\n",
       "      <th>release date</th>\n",
       "      <th>runtime (mins)</th>\n",
       "      <th>time in theaters (days)</th>\n",
       "      <th>release month</th>\n",
       "    </tr>\n",
       "  </thead>\n",
       "  <tbody>\n",
       "    <tr>\n",
       "      <th>0</th>\n",
       "      <td>Orion Pictures</td>\n",
       "      <td>90944400.0</td>\n",
       "      <td>Comedy</td>\n",
       "      <td>Dirty Rotten Scoundrels</td>\n",
       "      <td>1</td>\n",
       "      <td>1515.0</td>\n",
       "      <td>8129500.0</td>\n",
       "      <td>NaN</td>\n",
       "      <td>PG</td>\n",
       "      <td>1988-12-16</td>\n",
       "      <td>110.0</td>\n",
       "      <td>56.0</td>\n",
       "      <td>12.0</td>\n",
       "    </tr>\n",
       "    <tr>\n",
       "      <th>1</th>\n",
       "      <td>Fox</td>\n",
       "      <td>252358600.0</td>\n",
       "      <td>Action Thriller</td>\n",
       "      <td>Speed</td>\n",
       "      <td>2</td>\n",
       "      <td>2169.0</td>\n",
       "      <td>30088300.0</td>\n",
       "      <td>30000000.0</td>\n",
       "      <td>R</td>\n",
       "      <td>1994-06-10</td>\n",
       "      <td>116.0</td>\n",
       "      <td>70.0</td>\n",
       "      <td>6.0</td>\n",
       "    </tr>\n",
       "    <tr>\n",
       "      <th>2</th>\n",
       "      <td>Paramount</td>\n",
       "      <td>48884600.0</td>\n",
       "      <td>Comedy</td>\n",
       "      <td>The Out-of-Towners</td>\n",
       "      <td>3</td>\n",
       "      <td>2128.0</td>\n",
       "      <td>14084800.0</td>\n",
       "      <td>75000000.0</td>\n",
       "      <td>PG-13</td>\n",
       "      <td>1999-04-02</td>\n",
       "      <td>90.0</td>\n",
       "      <td>105.0</td>\n",
       "      <td>4.0</td>\n",
       "    </tr>\n",
       "    <tr>\n",
       "      <th>3</th>\n",
       "      <td>Universal</td>\n",
       "      <td>39263600.0</td>\n",
       "      <td>War Romance</td>\n",
       "      <td>Captain Corelli's Mandolin</td>\n",
       "      <td>4</td>\n",
       "      <td>1612.0</td>\n",
       "      <td>11081500.0</td>\n",
       "      <td>57000000.0</td>\n",
       "      <td>R</td>\n",
       "      <td>2001-08-17</td>\n",
       "      <td>129.0</td>\n",
       "      <td>63.0</td>\n",
       "      <td>8.0</td>\n",
       "    </tr>\n",
       "    <tr>\n",
       "      <th>4</th>\n",
       "      <td>Paramount</td>\n",
       "      <td>108640100.0</td>\n",
       "      <td>Comedy</td>\n",
       "      <td>Planes, Trains and Automobiles</td>\n",
       "      <td>5</td>\n",
       "      <td>1684.0</td>\n",
       "      <td>15596500.0</td>\n",
       "      <td>NaN</td>\n",
       "      <td>R</td>\n",
       "      <td>1987-11-25</td>\n",
       "      <td>92.0</td>\n",
       "      <td>77.0</td>\n",
       "      <td>11.0</td>\n",
       "    </tr>\n",
       "  </tbody>\n",
       "</table>\n",
       "</div>"
      ],
      "text/plain": [
       "      distributor  domestic total gross            genre  \\\n",
       "0  Orion Pictures            90944400.0           Comedy   \n",
       "1             Fox           252358600.0  Action Thriller   \n",
       "2       Paramount            48884600.0           Comedy   \n",
       "3       Universal            39263600.0      War Romance   \n",
       "4       Paramount           108640100.0           Comedy   \n",
       "\n",
       "                      movie title  movieid  number of theaters  \\\n",
       "0         Dirty Rotten Scoundrels        1              1515.0   \n",
       "1                           Speed        2              2169.0   \n",
       "2              The Out-of-Towners        3              2128.0   \n",
       "3      Captain Corelli's Mandolin        4              1612.0   \n",
       "4  Planes, Trains and Automobiles        5              1684.0   \n",
       "\n",
       "   opening weekend revenue  production budget rating release date  \\\n",
       "0                8129500.0                NaN     PG   1988-12-16   \n",
       "1               30088300.0         30000000.0      R   1994-06-10   \n",
       "2               14084800.0         75000000.0  PG-13   1999-04-02   \n",
       "3               11081500.0         57000000.0      R   2001-08-17   \n",
       "4               15596500.0                NaN      R   1987-11-25   \n",
       "\n",
       "   runtime (mins)  time in theaters (days)  release month  \n",
       "0           110.0                     56.0           12.0  \n",
       "1           116.0                     70.0            6.0  \n",
       "2            90.0                    105.0            4.0  \n",
       "3           129.0                     63.0            8.0  \n",
       "4            92.0                     77.0           11.0  "
      ]
     },
     "execution_count": 255,
     "metadata": {},
     "output_type": "execute_result"
    }
   ],
   "source": [
    "moviedf.head()"
   ]
  },
  {
   "cell_type": "markdown",
   "metadata": {},
   "source": [
    "## Adding Additional Features ##"
   ]
  },
  {
   "cell_type": "code",
   "execution_count": 160,
   "metadata": {
    "collapsed": false
   },
   "outputs": [
    {
     "name": "stderr",
     "output_type": "stream",
     "text": [
      "/Users/MelanieAppleby/anaconda/envs/benson/lib/python2.7/site-packages/ipykernel/__main__.py:1: SettingWithCopyWarning: \n",
      "A value is trying to be set on a copy of a slice from a DataFrame.\n",
      "Try using .loc[row_indexer,col_indexer] = value instead\n",
      "\n",
      "See the caveats in the documentation: http://pandas.pydata.org/pandas-docs/stable/indexing.html#indexing-view-versus-copy\n",
      "  if __name__ == '__main__':\n"
     ]
    }
   ],
   "source": [
    "moviedf['release month'] = moviedf['release date'].dt.month"
   ]
  },
  {
   "cell_type": "markdown",
   "metadata": {},
   "source": [
    "### Input revenue data into pandas DataFrame ###"
   ]
  },
  {
   "cell_type": "code",
   "execution_count": 383,
   "metadata": {
    "collapsed": false
   },
   "outputs": [],
   "source": [
    "revdf = pd.DataFrame.from_dict({k : pd.Series(v) for k,v in rev_data.items()}, \n",
    "                                     orient='index')"
   ]
  },
  {
   "cell_type": "code",
   "execution_count": 384,
   "metadata": {
    "collapsed": false
   },
   "outputs": [
    {
     "data": {
      "text/html": [
       "<div>\n",
       "<table border=\"1\" class=\"dataframe\">\n",
       "  <thead>\n",
       "    <tr style=\"text-align: right;\">\n",
       "      <th></th>\n",
       "      <th>0</th>\n",
       "      <th>1</th>\n",
       "      <th>2</th>\n",
       "      <th>3</th>\n",
       "      <th>4</th>\n",
       "      <th>5</th>\n",
       "      <th>6</th>\n",
       "      <th>7</th>\n",
       "      <th>8</th>\n",
       "      <th>9</th>\n",
       "      <th>...</th>\n",
       "      <th>661</th>\n",
       "      <th>662</th>\n",
       "      <th>663</th>\n",
       "      <th>664</th>\n",
       "      <th>665</th>\n",
       "      <th>666</th>\n",
       "      <th>667</th>\n",
       "      <th>668</th>\n",
       "      <th>669</th>\n",
       "      <th>670</th>\n",
       "    </tr>\n",
       "  </thead>\n",
       "  <tbody>\n",
       "    <tr>\n",
       "      <th>1</th>\n",
       "      <td>$7,233,595</td>\n",
       "      <td>$8,594,407</td>\n",
       "      <td>$7,693,516</td>\n",
       "      <td>$4,614,709</td>\n",
       "      <td>$3,901,369</td>\n",
       "      <td>$2,760,709</td>\n",
       "      <td>$2,090,672</td>\n",
       "      <td>$1,383,818</td>\n",
       "      <td>NaN</td>\n",
       "      <td>NaN</td>\n",
       "      <td>...</td>\n",
       "      <td>NaN</td>\n",
       "      <td>NaN</td>\n",
       "      <td>NaN</td>\n",
       "      <td>NaN</td>\n",
       "      <td>NaN</td>\n",
       "      <td>NaN</td>\n",
       "      <td>NaN</td>\n",
       "      <td>NaN</td>\n",
       "      <td>NaN</td>\n",
       "      <td>NaN</td>\n",
       "    </tr>\n",
       "    <tr>\n",
       "      <th>2</th>\n",
       "      <td>$22,745,474</td>\n",
       "      <td>$20,277,293</td>\n",
       "      <td>$18,949,513</td>\n",
       "      <td>$14,945,444</td>\n",
       "      <td>$11,494,773</td>\n",
       "      <td>$7,763,833</td>\n",
       "      <td>$5,970,181</td>\n",
       "      <td>$4,021,083</td>\n",
       "      <td>$2,683,780</td>\n",
       "      <td>$2,264,631</td>\n",
       "      <td>...</td>\n",
       "      <td>NaN</td>\n",
       "      <td>NaN</td>\n",
       "      <td>NaN</td>\n",
       "      <td>NaN</td>\n",
       "      <td>NaN</td>\n",
       "      <td>NaN</td>\n",
       "      <td>NaN</td>\n",
       "      <td>NaN</td>\n",
       "      <td>NaN</td>\n",
       "      <td>NaN</td>\n",
       "    </tr>\n",
       "    <tr>\n",
       "      <th>3</th>\n",
       "      <td>$11,192,311</td>\n",
       "      <td>$6,196,922</td>\n",
       "      <td>$3,903,740</td>\n",
       "      <td>$2,577,108</td>\n",
       "      <td>$1,404,641</td>\n",
       "      <td>$997,065</td>\n",
       "      <td>$719,745</td>\n",
       "      <td>$373,035</td>\n",
       "      <td>$201,881</td>\n",
       "      <td>$137,653</td>\n",
       "      <td>...</td>\n",
       "      <td>NaN</td>\n",
       "      <td>NaN</td>\n",
       "      <td>NaN</td>\n",
       "      <td>NaN</td>\n",
       "      <td>NaN</td>\n",
       "      <td>NaN</td>\n",
       "      <td>NaN</td>\n",
       "      <td>NaN</td>\n",
       "      <td>NaN</td>\n",
       "      <td>NaN</td>\n",
       "    </tr>\n",
       "    <tr>\n",
       "      <th>4</th>\n",
       "      <td>$10,086,280</td>\n",
       "      <td>$5,634,040</td>\n",
       "      <td>$4,602,715</td>\n",
       "      <td>$2,025,360</td>\n",
       "      <td>$1,467,950</td>\n",
       "      <td>$1,163,835</td>\n",
       "      <td>$397,145</td>\n",
       "      <td>$115,500</td>\n",
       "      <td>$51,070</td>\n",
       "      <td>NaN</td>\n",
       "      <td>...</td>\n",
       "      <td>NaN</td>\n",
       "      <td>NaN</td>\n",
       "      <td>NaN</td>\n",
       "      <td>NaN</td>\n",
       "      <td>NaN</td>\n",
       "      <td>NaN</td>\n",
       "      <td>NaN</td>\n",
       "      <td>NaN</td>\n",
       "      <td>NaN</td>\n",
       "      <td>NaN</td>\n",
       "    </tr>\n",
       "    <tr>\n",
       "      <th>5</th>\n",
       "      <td>$3,121,760</td>\n",
       "      <td>$7,924</td>\n",
       "      <td>$5,851</td>\n",
       "      <td>$3,130</td>\n",
       "      <td>$2,759</td>\n",
       "      <td>$4,243</td>\n",
       "      <td>$3,014</td>\n",
       "      <td>$2,248</td>\n",
       "      <td>$1,730</td>\n",
       "      <td>$1,349</td>\n",
       "      <td>...</td>\n",
       "      <td>NaN</td>\n",
       "      <td>NaN</td>\n",
       "      <td>NaN</td>\n",
       "      <td>NaN</td>\n",
       "      <td>NaN</td>\n",
       "      <td>NaN</td>\n",
       "      <td>NaN</td>\n",
       "      <td>NaN</td>\n",
       "      <td>NaN</td>\n",
       "      <td>NaN</td>\n",
       "    </tr>\n",
       "  </tbody>\n",
       "</table>\n",
       "<p>5 rows × 671 columns</p>\n",
       "</div>"
      ],
      "text/plain": [
       "           0            1            2            3            4    \\\n",
       "1   $7,233,595   $8,594,407   $7,693,516   $4,614,709   $3,901,369   \n",
       "2  $22,745,474  $20,277,293  $18,949,513  $14,945,444  $11,494,773   \n",
       "3  $11,192,311   $6,196,922   $3,903,740   $2,577,108   $1,404,641   \n",
       "4  $10,086,280   $5,634,040   $4,602,715   $2,025,360   $1,467,950   \n",
       "5   $3,121,760       $7,924       $5,851       $3,130       $2,759   \n",
       "\n",
       "          5           6           7           8           9   ...   661  662  \\\n",
       "1  $2,760,709  $2,090,672  $1,383,818         NaN         NaN ...   NaN  NaN   \n",
       "2  $7,763,833  $5,970,181  $4,021,083  $2,683,780  $2,264,631 ...   NaN  NaN   \n",
       "3    $997,065    $719,745    $373,035    $201,881    $137,653 ...   NaN  NaN   \n",
       "4  $1,163,835    $397,145    $115,500     $51,070         NaN ...   NaN  NaN   \n",
       "5      $4,243      $3,014      $2,248      $1,730      $1,349 ...   NaN  NaN   \n",
       "\n",
       "   663  664  665  666  667  668  669  670  \n",
       "1  NaN  NaN  NaN  NaN  NaN  NaN  NaN  NaN  \n",
       "2  NaN  NaN  NaN  NaN  NaN  NaN  NaN  NaN  \n",
       "3  NaN  NaN  NaN  NaN  NaN  NaN  NaN  NaN  \n",
       "4  NaN  NaN  NaN  NaN  NaN  NaN  NaN  NaN  \n",
       "5  NaN  NaN  NaN  NaN  NaN  NaN  NaN  NaN  \n",
       "\n",
       "[5 rows x 671 columns]"
      ]
     },
     "execution_count": 384,
     "metadata": {},
     "output_type": "execute_result"
    }
   ],
   "source": [
    "revdf.head()"
   ]
  },
  {
   "cell_type": "code",
   "execution_count": 387,
   "metadata": {
    "collapsed": false
   },
   "outputs": [
    {
     "name": "stdout",
     "output_type": "stream",
     "text": [
      "[1, 2, 3, 4, 5, 6, 7, 8, 9, 10, 11, 12, 13, 14, 15, 16, 17, 18, 20, 21, 23, 24, 25, 26, 27, 28, 29, 30, 31, 32, 33, 34, 35, 36, 37, 38, 39, 40, 41, 42, 43, 44, 45, 46, 47, 48, 49, 50, 51, 52, 53, 54, 55, 56, 57, 58, 59, 60, 61, 62, 63, 64, 65, 66, 67, 68, 69, 70, 71, 72, 74, 75, 76, 77, 78, 79, 80, 81, 82, 83, 84, 85, 86, 87, 88, 89, 90, 92, 93, 94, 95, 96, 97, 98, 99, 100, 101, 102, 103, 104]\n"
     ]
    }
   ],
   "source": [
    "index_list = revdf.index.tolist()\n",
    "print index_list[:100]"
   ]
  },
  {
   "cell_type": "code",
   "execution_count": 388,
   "metadata": {
    "collapsed": false
   },
   "outputs": [],
   "source": [
    "# Convert items to floats\n",
    "rev_list = []\n",
    "iterator = revdf.iterrows()\n",
    "for item in iterator:\n",
    "    num_list = []\n",
    "    for num in item[1]:\n",
    "        money = money_to_int(str(num))\n",
    "        num_list.append(money)\n",
    "    rev_list.append(num_list)"
   ]
  },
  {
   "cell_type": "code",
   "execution_count": 389,
   "metadata": {
    "collapsed": true
   },
   "outputs": [],
   "source": [
    "revdf = pd.DataFrame(rev_list, index=index_list)"
   ]
  },
  {
   "cell_type": "code",
   "execution_count": 390,
   "metadata": {
    "collapsed": false
   },
   "outputs": [
    {
     "data": {
      "text/html": [
       "<div>\n",
       "<table border=\"1\" class=\"dataframe\">\n",
       "  <thead>\n",
       "    <tr style=\"text-align: right;\">\n",
       "      <th></th>\n",
       "      <th>0</th>\n",
       "      <th>1</th>\n",
       "      <th>2</th>\n",
       "      <th>3</th>\n",
       "      <th>4</th>\n",
       "      <th>5</th>\n",
       "      <th>6</th>\n",
       "      <th>7</th>\n",
       "      <th>8</th>\n",
       "      <th>9</th>\n",
       "      <th>...</th>\n",
       "      <th>661</th>\n",
       "      <th>662</th>\n",
       "      <th>663</th>\n",
       "      <th>664</th>\n",
       "      <th>665</th>\n",
       "      <th>666</th>\n",
       "      <th>667</th>\n",
       "      <th>668</th>\n",
       "      <th>669</th>\n",
       "      <th>670</th>\n",
       "    </tr>\n",
       "  </thead>\n",
       "  <tbody>\n",
       "    <tr>\n",
       "      <th>1</th>\n",
       "      <td>7233595</td>\n",
       "      <td>8594407.0</td>\n",
       "      <td>7693516.0</td>\n",
       "      <td>4614709.0</td>\n",
       "      <td>3901369.0</td>\n",
       "      <td>2760709.0</td>\n",
       "      <td>2090672.0</td>\n",
       "      <td>1383818.0</td>\n",
       "      <td>NaN</td>\n",
       "      <td>NaN</td>\n",
       "      <td>...</td>\n",
       "      <td>NaN</td>\n",
       "      <td>NaN</td>\n",
       "      <td>NaN</td>\n",
       "      <td>NaN</td>\n",
       "      <td>NaN</td>\n",
       "      <td>NaN</td>\n",
       "      <td>NaN</td>\n",
       "      <td>NaN</td>\n",
       "      <td>NaN</td>\n",
       "      <td>NaN</td>\n",
       "    </tr>\n",
       "    <tr>\n",
       "      <th>2</th>\n",
       "      <td>22745474</td>\n",
       "      <td>20277293.0</td>\n",
       "      <td>18949513.0</td>\n",
       "      <td>14945444.0</td>\n",
       "      <td>11494773.0</td>\n",
       "      <td>7763833.0</td>\n",
       "      <td>5970181.0</td>\n",
       "      <td>4021083.0</td>\n",
       "      <td>2683780.0</td>\n",
       "      <td>2264631.0</td>\n",
       "      <td>...</td>\n",
       "      <td>NaN</td>\n",
       "      <td>NaN</td>\n",
       "      <td>NaN</td>\n",
       "      <td>NaN</td>\n",
       "      <td>NaN</td>\n",
       "      <td>NaN</td>\n",
       "      <td>NaN</td>\n",
       "      <td>NaN</td>\n",
       "      <td>NaN</td>\n",
       "      <td>NaN</td>\n",
       "    </tr>\n",
       "    <tr>\n",
       "      <th>3</th>\n",
       "      <td>11192311</td>\n",
       "      <td>6196922.0</td>\n",
       "      <td>3903740.0</td>\n",
       "      <td>2577108.0</td>\n",
       "      <td>1404641.0</td>\n",
       "      <td>997065.0</td>\n",
       "      <td>719745.0</td>\n",
       "      <td>373035.0</td>\n",
       "      <td>201881.0</td>\n",
       "      <td>137653.0</td>\n",
       "      <td>...</td>\n",
       "      <td>NaN</td>\n",
       "      <td>NaN</td>\n",
       "      <td>NaN</td>\n",
       "      <td>NaN</td>\n",
       "      <td>NaN</td>\n",
       "      <td>NaN</td>\n",
       "      <td>NaN</td>\n",
       "      <td>NaN</td>\n",
       "      <td>NaN</td>\n",
       "      <td>NaN</td>\n",
       "    </tr>\n",
       "    <tr>\n",
       "      <th>4</th>\n",
       "      <td>10086280</td>\n",
       "      <td>5634040.0</td>\n",
       "      <td>4602715.0</td>\n",
       "      <td>2025360.0</td>\n",
       "      <td>1467950.0</td>\n",
       "      <td>1163835.0</td>\n",
       "      <td>397145.0</td>\n",
       "      <td>115500.0</td>\n",
       "      <td>51070.0</td>\n",
       "      <td>NaN</td>\n",
       "      <td>...</td>\n",
       "      <td>NaN</td>\n",
       "      <td>NaN</td>\n",
       "      <td>NaN</td>\n",
       "      <td>NaN</td>\n",
       "      <td>NaN</td>\n",
       "      <td>NaN</td>\n",
       "      <td>NaN</td>\n",
       "      <td>NaN</td>\n",
       "      <td>NaN</td>\n",
       "      <td>NaN</td>\n",
       "    </tr>\n",
       "    <tr>\n",
       "      <th>5</th>\n",
       "      <td>3121760</td>\n",
       "      <td>7924.0</td>\n",
       "      <td>5851.0</td>\n",
       "      <td>3130.0</td>\n",
       "      <td>2759.0</td>\n",
       "      <td>4243.0</td>\n",
       "      <td>3014.0</td>\n",
       "      <td>2248.0</td>\n",
       "      <td>1730.0</td>\n",
       "      <td>1349.0</td>\n",
       "      <td>...</td>\n",
       "      <td>NaN</td>\n",
       "      <td>NaN</td>\n",
       "      <td>NaN</td>\n",
       "      <td>NaN</td>\n",
       "      <td>NaN</td>\n",
       "      <td>NaN</td>\n",
       "      <td>NaN</td>\n",
       "      <td>NaN</td>\n",
       "      <td>NaN</td>\n",
       "      <td>NaN</td>\n",
       "    </tr>\n",
       "  </tbody>\n",
       "</table>\n",
       "<p>5 rows × 671 columns</p>\n",
       "</div>"
      ],
      "text/plain": [
       "        0           1           2           3           4          5    \\\n",
       "1   7233595   8594407.0   7693516.0   4614709.0   3901369.0  2760709.0   \n",
       "2  22745474  20277293.0  18949513.0  14945444.0  11494773.0  7763833.0   \n",
       "3  11192311   6196922.0   3903740.0   2577108.0   1404641.0   997065.0   \n",
       "4  10086280   5634040.0   4602715.0   2025360.0   1467950.0  1163835.0   \n",
       "5   3121760      7924.0      5851.0      3130.0      2759.0     4243.0   \n",
       "\n",
       "         6          7          8          9   ...   661  662  663  664  665  \\\n",
       "1  2090672.0  1383818.0        NaN        NaN ...   NaN  NaN  NaN  NaN  NaN   \n",
       "2  5970181.0  4021083.0  2683780.0  2264631.0 ...   NaN  NaN  NaN  NaN  NaN   \n",
       "3   719745.0   373035.0   201881.0   137653.0 ...   NaN  NaN  NaN  NaN  NaN   \n",
       "4   397145.0   115500.0    51070.0        NaN ...   NaN  NaN  NaN  NaN  NaN   \n",
       "5     3014.0     2248.0     1730.0     1349.0 ...   NaN  NaN  NaN  NaN  NaN   \n",
       "\n",
       "   666  667  668  669  670  \n",
       "1  NaN  NaN  NaN  NaN  NaN  \n",
       "2  NaN  NaN  NaN  NaN  NaN  \n",
       "3  NaN  NaN  NaN  NaN  NaN  \n",
       "4  NaN  NaN  NaN  NaN  NaN  \n",
       "5  NaN  NaN  NaN  NaN  NaN  \n",
       "\n",
       "[5 rows x 671 columns]"
      ]
     },
     "execution_count": 390,
     "metadata": {},
     "output_type": "execute_result"
    }
   ],
   "source": [
    "revdf.head()"
   ]
  },
  {
   "cell_type": "code",
   "execution_count": 411,
   "metadata": {
    "collapsed": false
   },
   "outputs": [
    {
     "name": "stdout",
     "output_type": "stream",
     "text": [
      "[1, 2, 3, 4, 5, 6, 7, 8, 9, 10, 11, 12, 13, 14, 15, 16, 17, 18, 20, 21, 23, 24, 25, 26, 27, 28, 29, 30, 31, 32, 33, 34, 35, 36, 37, 38, 39, 40, 41, 42, 43, 44, 45, 46, 47, 48, 49, 50, 51, 52, 53, 54, 55, 56, 57, 58, 59, 60, 61, 62, 63, 64, 65, 66, 67, 68, 69, 70, 71, 72, 74, 75, 76, 77, 78, 79, 80, 81, 82, 83, 84, 85, 86, 87, 88, 89, 90, 92, 93, 94, 95, 96, 97, 98, 99, 100, 101, 102, 103, 104]\n"
     ]
    }
   ],
   "source": [
    "print revdf.index.tolist()[:100]"
   ]
  },
  {
   "cell_type": "code",
   "execution_count": 393,
   "metadata": {
    "collapsed": false
   },
   "outputs": [],
   "source": [
    "revdf.to_csv('csv/init_float_revdf.csv',encoding='utf-8')"
   ]
  },
  {
   "cell_type": "code",
   "execution_count": 413,
   "metadata": {
    "collapsed": false
   },
   "outputs": [],
   "source": [
    "# revdf_nulls = revdf[revdf.isnull().all(axis=1)]\n",
    "# revdf_nulls.head()"
   ]
  },
  {
   "cell_type": "code",
   "execution_count": null,
   "metadata": {
    "collapsed": true
   },
   "outputs": [],
   "source": [
    "# weekly_rev_df.drop(791, inplace=True)"
   ]
  },
  {
   "cell_type": "code",
   "execution_count": 324,
   "metadata": {
    "collapsed": false
   },
   "outputs": [],
   "source": [
    "# weekly_rev_df.dropna(axis=1, how='all', inplace=True)"
   ]
  },
  {
   "cell_type": "code",
   "execution_count": 343,
   "metadata": {
    "collapsed": true
   },
   "outputs": [],
   "source": [
    "# weekly_rev_df.dropna(axis=0, how='all', inplace=True)"
   ]
  },
  {
   "cell_type": "code",
   "execution_count": 352,
   "metadata": {
    "collapsed": true
   },
   "outputs": [],
   "source": [
    "# Save DFs\n",
    "# moviedf.to_csv('csv/moviedf2.csv',encoding='utf-8')\n",
    "# weekly_rev_df.to_csv('csv/weekly_rev_df1.csv',encoding='utf-8')"
   ]
  },
  {
   "cell_type": "code",
   "execution_count": 404,
   "metadata": {
    "collapsed": false
   },
   "outputs": [],
   "source": [
    "# Includes the movie indexes to include, where weekly revenue is not null\n",
    "# index_list = weekly_rev_df.index.tolist()\n",
    "# print index_list[:100]"
   ]
  },
  {
   "cell_type": "code",
   "execution_count": 405,
   "metadata": {
    "collapsed": false
   },
   "outputs": [],
   "source": [
    "# moviedf.index"
   ]
  },
  {
   "cell_type": "code",
   "execution_count": 358,
   "metadata": {
    "collapsed": false
   },
   "outputs": [],
   "source": [
    "# moviedf_clean = moviedf[moviedf.index.isin(index_list)]"
   ]
  },
  {
   "cell_type": "code",
   "execution_count": 406,
   "metadata": {
    "collapsed": false
   },
   "outputs": [],
   "source": [
    "# movie_index_list = moviedf_clean.index.tolist()\n",
    "# print movie_index_list[:100]"
   ]
  },
  {
   "cell_type": "code",
   "execution_count": 407,
   "metadata": {
    "collapsed": false
   },
   "outputs": [],
   "source": [
    "# print movie_index_list == index_list"
   ]
  },
  {
   "cell_type": "code",
   "execution_count": 408,
   "metadata": {
    "collapsed": false
   },
   "outputs": [],
   "source": [
    "# print len(movie_index_list)\n",
    "# print len(index_list)"
   ]
  },
  {
   "cell_type": "code",
   "execution_count": 409,
   "metadata": {
    "collapsed": false
   },
   "outputs": [
    {
     "name": "stdout",
     "output_type": "stream",
     "text": [
      "3874\n",
      "3652\n"
     ]
    }
   ],
   "source": [
    "print len(moviedf.index.tolist())\n",
    "print len(revdf.index.tolist())"
   ]
  },
  {
   "cell_type": "code",
   "execution_count": 414,
   "metadata": {
    "collapsed": false
   },
   "outputs": [
    {
     "data": {
      "text/html": [
       "<div>\n",
       "<table border=\"1\" class=\"dataframe\">\n",
       "  <thead>\n",
       "    <tr style=\"text-align: right;\">\n",
       "      <th></th>\n",
       "      <th>0</th>\n",
       "      <th>1</th>\n",
       "      <th>2</th>\n",
       "      <th>3</th>\n",
       "      <th>4</th>\n",
       "      <th>5</th>\n",
       "      <th>6</th>\n",
       "      <th>7</th>\n",
       "      <th>8</th>\n",
       "      <th>9</th>\n",
       "      <th>...</th>\n",
       "      <th>661</th>\n",
       "      <th>662</th>\n",
       "      <th>663</th>\n",
       "      <th>664</th>\n",
       "      <th>665</th>\n",
       "      <th>666</th>\n",
       "      <th>667</th>\n",
       "      <th>668</th>\n",
       "      <th>669</th>\n",
       "      <th>670</th>\n",
       "    </tr>\n",
       "  </thead>\n",
       "  <tbody>\n",
       "    <tr>\n",
       "      <th>1</th>\n",
       "      <td>7233595</td>\n",
       "      <td>8594407.0</td>\n",
       "      <td>7693516.0</td>\n",
       "      <td>4614709.0</td>\n",
       "      <td>3901369.0</td>\n",
       "      <td>2760709.0</td>\n",
       "      <td>2090672.0</td>\n",
       "      <td>1383818.0</td>\n",
       "      <td>NaN</td>\n",
       "      <td>NaN</td>\n",
       "      <td>...</td>\n",
       "      <td>NaN</td>\n",
       "      <td>NaN</td>\n",
       "      <td>NaN</td>\n",
       "      <td>NaN</td>\n",
       "      <td>NaN</td>\n",
       "      <td>NaN</td>\n",
       "      <td>NaN</td>\n",
       "      <td>NaN</td>\n",
       "      <td>NaN</td>\n",
       "      <td>NaN</td>\n",
       "    </tr>\n",
       "    <tr>\n",
       "      <th>2</th>\n",
       "      <td>22745474</td>\n",
       "      <td>20277293.0</td>\n",
       "      <td>18949513.0</td>\n",
       "      <td>14945444.0</td>\n",
       "      <td>11494773.0</td>\n",
       "      <td>7763833.0</td>\n",
       "      <td>5970181.0</td>\n",
       "      <td>4021083.0</td>\n",
       "      <td>2683780.0</td>\n",
       "      <td>2264631.0</td>\n",
       "      <td>...</td>\n",
       "      <td>NaN</td>\n",
       "      <td>NaN</td>\n",
       "      <td>NaN</td>\n",
       "      <td>NaN</td>\n",
       "      <td>NaN</td>\n",
       "      <td>NaN</td>\n",
       "      <td>NaN</td>\n",
       "      <td>NaN</td>\n",
       "      <td>NaN</td>\n",
       "      <td>NaN</td>\n",
       "    </tr>\n",
       "    <tr>\n",
       "      <th>3</th>\n",
       "      <td>11192311</td>\n",
       "      <td>6196922.0</td>\n",
       "      <td>3903740.0</td>\n",
       "      <td>2577108.0</td>\n",
       "      <td>1404641.0</td>\n",
       "      <td>997065.0</td>\n",
       "      <td>719745.0</td>\n",
       "      <td>373035.0</td>\n",
       "      <td>201881.0</td>\n",
       "      <td>137653.0</td>\n",
       "      <td>...</td>\n",
       "      <td>NaN</td>\n",
       "      <td>NaN</td>\n",
       "      <td>NaN</td>\n",
       "      <td>NaN</td>\n",
       "      <td>NaN</td>\n",
       "      <td>NaN</td>\n",
       "      <td>NaN</td>\n",
       "      <td>NaN</td>\n",
       "      <td>NaN</td>\n",
       "      <td>NaN</td>\n",
       "    </tr>\n",
       "    <tr>\n",
       "      <th>4</th>\n",
       "      <td>10086280</td>\n",
       "      <td>5634040.0</td>\n",
       "      <td>4602715.0</td>\n",
       "      <td>2025360.0</td>\n",
       "      <td>1467950.0</td>\n",
       "      <td>1163835.0</td>\n",
       "      <td>397145.0</td>\n",
       "      <td>115500.0</td>\n",
       "      <td>51070.0</td>\n",
       "      <td>NaN</td>\n",
       "      <td>...</td>\n",
       "      <td>NaN</td>\n",
       "      <td>NaN</td>\n",
       "      <td>NaN</td>\n",
       "      <td>NaN</td>\n",
       "      <td>NaN</td>\n",
       "      <td>NaN</td>\n",
       "      <td>NaN</td>\n",
       "      <td>NaN</td>\n",
       "      <td>NaN</td>\n",
       "      <td>NaN</td>\n",
       "    </tr>\n",
       "    <tr>\n",
       "      <th>5</th>\n",
       "      <td>3121760</td>\n",
       "      <td>7924.0</td>\n",
       "      <td>5851.0</td>\n",
       "      <td>3130.0</td>\n",
       "      <td>2759.0</td>\n",
       "      <td>4243.0</td>\n",
       "      <td>3014.0</td>\n",
       "      <td>2248.0</td>\n",
       "      <td>1730.0</td>\n",
       "      <td>1349.0</td>\n",
       "      <td>...</td>\n",
       "      <td>NaN</td>\n",
       "      <td>NaN</td>\n",
       "      <td>NaN</td>\n",
       "      <td>NaN</td>\n",
       "      <td>NaN</td>\n",
       "      <td>NaN</td>\n",
       "      <td>NaN</td>\n",
       "      <td>NaN</td>\n",
       "      <td>NaN</td>\n",
       "      <td>NaN</td>\n",
       "    </tr>\n",
       "  </tbody>\n",
       "</table>\n",
       "<p>5 rows × 671 columns</p>\n",
       "</div>"
      ],
      "text/plain": [
       "        0           1           2           3           4          5    \\\n",
       "1   7233595   8594407.0   7693516.0   4614709.0   3901369.0  2760709.0   \n",
       "2  22745474  20277293.0  18949513.0  14945444.0  11494773.0  7763833.0   \n",
       "3  11192311   6196922.0   3903740.0   2577108.0   1404641.0   997065.0   \n",
       "4  10086280   5634040.0   4602715.0   2025360.0   1467950.0  1163835.0   \n",
       "5   3121760      7924.0      5851.0      3130.0      2759.0     4243.0   \n",
       "\n",
       "         6          7          8          9   ...   661  662  663  664  665  \\\n",
       "1  2090672.0  1383818.0        NaN        NaN ...   NaN  NaN  NaN  NaN  NaN   \n",
       "2  5970181.0  4021083.0  2683780.0  2264631.0 ...   NaN  NaN  NaN  NaN  NaN   \n",
       "3   719745.0   373035.0   201881.0   137653.0 ...   NaN  NaN  NaN  NaN  NaN   \n",
       "4   397145.0   115500.0    51070.0        NaN ...   NaN  NaN  NaN  NaN  NaN   \n",
       "5     3014.0     2248.0     1730.0     1349.0 ...   NaN  NaN  NaN  NaN  NaN   \n",
       "\n",
       "   666  667  668  669  670  \n",
       "1  NaN  NaN  NaN  NaN  NaN  \n",
       "2  NaN  NaN  NaN  NaN  NaN  \n",
       "3  NaN  NaN  NaN  NaN  NaN  \n",
       "4  NaN  NaN  NaN  NaN  NaN  \n",
       "5  NaN  NaN  NaN  NaN  NaN  \n",
       "\n",
       "[5 rows x 671 columns]"
      ]
     },
     "execution_count": 414,
     "metadata": {},
     "output_type": "execute_result"
    }
   ],
   "source": [
    "revdf.head()"
   ]
  },
  {
   "cell_type": "code",
   "execution_count": 415,
   "metadata": {
    "collapsed": true
   },
   "outputs": [],
   "source": [
    "revdf_exnullrows = revdf.dropna(axis=1, how='all')"
   ]
  },
  {
   "cell_type": "code",
   "execution_count": 418,
   "metadata": {
    "collapsed": false
   },
   "outputs": [
    {
     "name": "stdout",
     "output_type": "stream",
     "text": [
      "3652\n"
     ]
    },
    {
     "data": {
      "text/html": [
       "<div>\n",
       "<table border=\"1\" class=\"dataframe\">\n",
       "  <thead>\n",
       "    <tr style=\"text-align: right;\">\n",
       "      <th></th>\n",
       "      <th>0</th>\n",
       "      <th>1</th>\n",
       "      <th>2</th>\n",
       "      <th>3</th>\n",
       "      <th>4</th>\n",
       "      <th>5</th>\n",
       "      <th>6</th>\n",
       "      <th>7</th>\n",
       "      <th>8</th>\n",
       "      <th>9</th>\n",
       "      <th>...</th>\n",
       "      <th>661</th>\n",
       "      <th>662</th>\n",
       "      <th>663</th>\n",
       "      <th>664</th>\n",
       "      <th>665</th>\n",
       "      <th>666</th>\n",
       "      <th>667</th>\n",
       "      <th>668</th>\n",
       "      <th>669</th>\n",
       "      <th>670</th>\n",
       "    </tr>\n",
       "  </thead>\n",
       "  <tbody>\n",
       "    <tr>\n",
       "      <th>1</th>\n",
       "      <td>7233595</td>\n",
       "      <td>8594407.0</td>\n",
       "      <td>7693516.0</td>\n",
       "      <td>4614709.0</td>\n",
       "      <td>3901369.0</td>\n",
       "      <td>2760709.0</td>\n",
       "      <td>2090672.0</td>\n",
       "      <td>1383818.0</td>\n",
       "      <td>NaN</td>\n",
       "      <td>NaN</td>\n",
       "      <td>...</td>\n",
       "      <td>NaN</td>\n",
       "      <td>NaN</td>\n",
       "      <td>NaN</td>\n",
       "      <td>NaN</td>\n",
       "      <td>NaN</td>\n",
       "      <td>NaN</td>\n",
       "      <td>NaN</td>\n",
       "      <td>NaN</td>\n",
       "      <td>NaN</td>\n",
       "      <td>NaN</td>\n",
       "    </tr>\n",
       "    <tr>\n",
       "      <th>2</th>\n",
       "      <td>22745474</td>\n",
       "      <td>20277293.0</td>\n",
       "      <td>18949513.0</td>\n",
       "      <td>14945444.0</td>\n",
       "      <td>11494773.0</td>\n",
       "      <td>7763833.0</td>\n",
       "      <td>5970181.0</td>\n",
       "      <td>4021083.0</td>\n",
       "      <td>2683780.0</td>\n",
       "      <td>2264631.0</td>\n",
       "      <td>...</td>\n",
       "      <td>NaN</td>\n",
       "      <td>NaN</td>\n",
       "      <td>NaN</td>\n",
       "      <td>NaN</td>\n",
       "      <td>NaN</td>\n",
       "      <td>NaN</td>\n",
       "      <td>NaN</td>\n",
       "      <td>NaN</td>\n",
       "      <td>NaN</td>\n",
       "      <td>NaN</td>\n",
       "    </tr>\n",
       "    <tr>\n",
       "      <th>3</th>\n",
       "      <td>11192311</td>\n",
       "      <td>6196922.0</td>\n",
       "      <td>3903740.0</td>\n",
       "      <td>2577108.0</td>\n",
       "      <td>1404641.0</td>\n",
       "      <td>997065.0</td>\n",
       "      <td>719745.0</td>\n",
       "      <td>373035.0</td>\n",
       "      <td>201881.0</td>\n",
       "      <td>137653.0</td>\n",
       "      <td>...</td>\n",
       "      <td>NaN</td>\n",
       "      <td>NaN</td>\n",
       "      <td>NaN</td>\n",
       "      <td>NaN</td>\n",
       "      <td>NaN</td>\n",
       "      <td>NaN</td>\n",
       "      <td>NaN</td>\n",
       "      <td>NaN</td>\n",
       "      <td>NaN</td>\n",
       "      <td>NaN</td>\n",
       "    </tr>\n",
       "    <tr>\n",
       "      <th>4</th>\n",
       "      <td>10086280</td>\n",
       "      <td>5634040.0</td>\n",
       "      <td>4602715.0</td>\n",
       "      <td>2025360.0</td>\n",
       "      <td>1467950.0</td>\n",
       "      <td>1163835.0</td>\n",
       "      <td>397145.0</td>\n",
       "      <td>115500.0</td>\n",
       "      <td>51070.0</td>\n",
       "      <td>NaN</td>\n",
       "      <td>...</td>\n",
       "      <td>NaN</td>\n",
       "      <td>NaN</td>\n",
       "      <td>NaN</td>\n",
       "      <td>NaN</td>\n",
       "      <td>NaN</td>\n",
       "      <td>NaN</td>\n",
       "      <td>NaN</td>\n",
       "      <td>NaN</td>\n",
       "      <td>NaN</td>\n",
       "      <td>NaN</td>\n",
       "    </tr>\n",
       "    <tr>\n",
       "      <th>5</th>\n",
       "      <td>3121760</td>\n",
       "      <td>7924.0</td>\n",
       "      <td>5851.0</td>\n",
       "      <td>3130.0</td>\n",
       "      <td>2759.0</td>\n",
       "      <td>4243.0</td>\n",
       "      <td>3014.0</td>\n",
       "      <td>2248.0</td>\n",
       "      <td>1730.0</td>\n",
       "      <td>1349.0</td>\n",
       "      <td>...</td>\n",
       "      <td>NaN</td>\n",
       "      <td>NaN</td>\n",
       "      <td>NaN</td>\n",
       "      <td>NaN</td>\n",
       "      <td>NaN</td>\n",
       "      <td>NaN</td>\n",
       "      <td>NaN</td>\n",
       "      <td>NaN</td>\n",
       "      <td>NaN</td>\n",
       "      <td>NaN</td>\n",
       "    </tr>\n",
       "  </tbody>\n",
       "</table>\n",
       "<p>5 rows × 671 columns</p>\n",
       "</div>"
      ],
      "text/plain": [
       "        0           1           2           3           4          5    \\\n",
       "1   7233595   8594407.0   7693516.0   4614709.0   3901369.0  2760709.0   \n",
       "2  22745474  20277293.0  18949513.0  14945444.0  11494773.0  7763833.0   \n",
       "3  11192311   6196922.0   3903740.0   2577108.0   1404641.0   997065.0   \n",
       "4  10086280   5634040.0   4602715.0   2025360.0   1467950.0  1163835.0   \n",
       "5   3121760      7924.0      5851.0      3130.0      2759.0     4243.0   \n",
       "\n",
       "         6          7          8          9   ...   661  662  663  664  665  \\\n",
       "1  2090672.0  1383818.0        NaN        NaN ...   NaN  NaN  NaN  NaN  NaN   \n",
       "2  5970181.0  4021083.0  2683780.0  2264631.0 ...   NaN  NaN  NaN  NaN  NaN   \n",
       "3   719745.0   373035.0   201881.0   137653.0 ...   NaN  NaN  NaN  NaN  NaN   \n",
       "4   397145.0   115500.0    51070.0        NaN ...   NaN  NaN  NaN  NaN  NaN   \n",
       "5     3014.0     2248.0     1730.0     1349.0 ...   NaN  NaN  NaN  NaN  NaN   \n",
       "\n",
       "   666  667  668  669  670  \n",
       "1  NaN  NaN  NaN  NaN  NaN  \n",
       "2  NaN  NaN  NaN  NaN  NaN  \n",
       "3  NaN  NaN  NaN  NaN  NaN  \n",
       "4  NaN  NaN  NaN  NaN  NaN  \n",
       "5  NaN  NaN  NaN  NaN  NaN  \n",
       "\n",
       "[5 rows x 671 columns]"
      ]
     },
     "execution_count": 418,
     "metadata": {},
     "output_type": "execute_result"
    }
   ],
   "source": [
    "print len(revdf_exnullrows)\n",
    "revdf_exnullrows.head()"
   ]
  },
  {
   "cell_type": "code",
   "execution_count": 430,
   "metadata": {
    "collapsed": false
   },
   "outputs": [],
   "source": [
    "ittr = revdf_exnullrows.iterrows()\n",
    "\n",
    "decay_rates = []\n",
    "for row in ittr:\n",
    "    rev_series = row[1]\n",
    "    a = rev_series[0]\n",
    "    t = rev_series.count()\n",
    "    y = rev_series[t-1]\n",
    "    k = (np.log(y) - np.log(a)) / t\n",
    "    decay_rates.append(k)"
   ]
  },
  {
   "cell_type": "code",
   "execution_count": 433,
   "metadata": {
    "collapsed": false
   },
   "outputs": [],
   "source": [
    "revdf_exnullrows['decay rate'] = np.asarray(decay_rates)"
   ]
  },
  {
   "cell_type": "code",
   "execution_count": 436,
   "metadata": {
    "collapsed": false
   },
   "outputs": [
    {
     "data": {
      "text/html": [
       "<div>\n",
       "<table border=\"1\" class=\"dataframe\">\n",
       "  <thead>\n",
       "    <tr style=\"text-align: right;\">\n",
       "      <th></th>\n",
       "      <th>0</th>\n",
       "      <th>1</th>\n",
       "      <th>2</th>\n",
       "      <th>3</th>\n",
       "      <th>4</th>\n",
       "      <th>5</th>\n",
       "      <th>6</th>\n",
       "      <th>7</th>\n",
       "      <th>8</th>\n",
       "      <th>9</th>\n",
       "      <th>...</th>\n",
       "      <th>662</th>\n",
       "      <th>663</th>\n",
       "      <th>664</th>\n",
       "      <th>665</th>\n",
       "      <th>666</th>\n",
       "      <th>667</th>\n",
       "      <th>668</th>\n",
       "      <th>669</th>\n",
       "      <th>670</th>\n",
       "      <th>decay rate</th>\n",
       "    </tr>\n",
       "  </thead>\n",
       "  <tbody>\n",
       "    <tr>\n",
       "      <th>1</th>\n",
       "      <td>7233595</td>\n",
       "      <td>8594407.0</td>\n",
       "      <td>7693516.0</td>\n",
       "      <td>4614709.0</td>\n",
       "      <td>3901369.0</td>\n",
       "      <td>2760709.0</td>\n",
       "      <td>2090672.0</td>\n",
       "      <td>1383818.0</td>\n",
       "      <td>NaN</td>\n",
       "      <td>NaN</td>\n",
       "      <td>...</td>\n",
       "      <td>NaN</td>\n",
       "      <td>NaN</td>\n",
       "      <td>NaN</td>\n",
       "      <td>NaN</td>\n",
       "      <td>NaN</td>\n",
       "      <td>NaN</td>\n",
       "      <td>NaN</td>\n",
       "      <td>NaN</td>\n",
       "      <td>NaN</td>\n",
       "      <td>-0.206736</td>\n",
       "    </tr>\n",
       "    <tr>\n",
       "      <th>2</th>\n",
       "      <td>22745474</td>\n",
       "      <td>20277293.0</td>\n",
       "      <td>18949513.0</td>\n",
       "      <td>14945444.0</td>\n",
       "      <td>11494773.0</td>\n",
       "      <td>7763833.0</td>\n",
       "      <td>5970181.0</td>\n",
       "      <td>4021083.0</td>\n",
       "      <td>2683780.0</td>\n",
       "      <td>2264631.0</td>\n",
       "      <td>...</td>\n",
       "      <td>NaN</td>\n",
       "      <td>NaN</td>\n",
       "      <td>NaN</td>\n",
       "      <td>NaN</td>\n",
       "      <td>NaN</td>\n",
       "      <td>NaN</td>\n",
       "      <td>NaN</td>\n",
       "      <td>NaN</td>\n",
       "      <td>NaN</td>\n",
       "      <td>-0.230695</td>\n",
       "    </tr>\n",
       "    <tr>\n",
       "      <th>3</th>\n",
       "      <td>11192311</td>\n",
       "      <td>6196922.0</td>\n",
       "      <td>3903740.0</td>\n",
       "      <td>2577108.0</td>\n",
       "      <td>1404641.0</td>\n",
       "      <td>997065.0</td>\n",
       "      <td>719745.0</td>\n",
       "      <td>373035.0</td>\n",
       "      <td>201881.0</td>\n",
       "      <td>137653.0</td>\n",
       "      <td>...</td>\n",
       "      <td>NaN</td>\n",
       "      <td>NaN</td>\n",
       "      <td>NaN</td>\n",
       "      <td>NaN</td>\n",
       "      <td>NaN</td>\n",
       "      <td>NaN</td>\n",
       "      <td>NaN</td>\n",
       "      <td>NaN</td>\n",
       "      <td>NaN</td>\n",
       "      <td>-0.319087</td>\n",
       "    </tr>\n",
       "    <tr>\n",
       "      <th>4</th>\n",
       "      <td>10086280</td>\n",
       "      <td>5634040.0</td>\n",
       "      <td>4602715.0</td>\n",
       "      <td>2025360.0</td>\n",
       "      <td>1467950.0</td>\n",
       "      <td>1163835.0</td>\n",
       "      <td>397145.0</td>\n",
       "      <td>115500.0</td>\n",
       "      <td>51070.0</td>\n",
       "      <td>NaN</td>\n",
       "      <td>...</td>\n",
       "      <td>NaN</td>\n",
       "      <td>NaN</td>\n",
       "      <td>NaN</td>\n",
       "      <td>NaN</td>\n",
       "      <td>NaN</td>\n",
       "      <td>NaN</td>\n",
       "      <td>NaN</td>\n",
       "      <td>NaN</td>\n",
       "      <td>NaN</td>\n",
       "      <td>-0.587304</td>\n",
       "    </tr>\n",
       "    <tr>\n",
       "      <th>5</th>\n",
       "      <td>3121760</td>\n",
       "      <td>7924.0</td>\n",
       "      <td>5851.0</td>\n",
       "      <td>3130.0</td>\n",
       "      <td>2759.0</td>\n",
       "      <td>4243.0</td>\n",
       "      <td>3014.0</td>\n",
       "      <td>2248.0</td>\n",
       "      <td>1730.0</td>\n",
       "      <td>1349.0</td>\n",
       "      <td>...</td>\n",
       "      <td>NaN</td>\n",
       "      <td>NaN</td>\n",
       "      <td>NaN</td>\n",
       "      <td>NaN</td>\n",
       "      <td>NaN</td>\n",
       "      <td>NaN</td>\n",
       "      <td>NaN</td>\n",
       "      <td>NaN</td>\n",
       "      <td>NaN</td>\n",
       "      <td>-0.715197</td>\n",
       "    </tr>\n",
       "  </tbody>\n",
       "</table>\n",
       "<p>5 rows × 672 columns</p>\n",
       "</div>"
      ],
      "text/plain": [
       "          0           1           2           3           4          5  \\\n",
       "1   7233595   8594407.0   7693516.0   4614709.0   3901369.0  2760709.0   \n",
       "2  22745474  20277293.0  18949513.0  14945444.0  11494773.0  7763833.0   \n",
       "3  11192311   6196922.0   3903740.0   2577108.0   1404641.0   997065.0   \n",
       "4  10086280   5634040.0   4602715.0   2025360.0   1467950.0  1163835.0   \n",
       "5   3121760      7924.0      5851.0      3130.0      2759.0     4243.0   \n",
       "\n",
       "           6          7          8          9     ...      662  663  664  665  \\\n",
       "1  2090672.0  1383818.0        NaN        NaN     ...      NaN  NaN  NaN  NaN   \n",
       "2  5970181.0  4021083.0  2683780.0  2264631.0     ...      NaN  NaN  NaN  NaN   \n",
       "3   719745.0   373035.0   201881.0   137653.0     ...      NaN  NaN  NaN  NaN   \n",
       "4   397145.0   115500.0    51070.0        NaN     ...      NaN  NaN  NaN  NaN   \n",
       "5     3014.0     2248.0     1730.0     1349.0     ...      NaN  NaN  NaN  NaN   \n",
       "\n",
       "   666  667  668  669  670  decay rate  \n",
       "1  NaN  NaN  NaN  NaN  NaN   -0.206736  \n",
       "2  NaN  NaN  NaN  NaN  NaN   -0.230695  \n",
       "3  NaN  NaN  NaN  NaN  NaN   -0.319087  \n",
       "4  NaN  NaN  NaN  NaN  NaN   -0.587304  \n",
       "5  NaN  NaN  NaN  NaN  NaN   -0.715197  \n",
       "\n",
       "[5 rows x 672 columns]"
      ]
     },
     "execution_count": 436,
     "metadata": {},
     "output_type": "execute_result"
    }
   ],
   "source": [
    "revdf_exnullrows.head()"
   ]
  },
  {
   "cell_type": "code",
   "execution_count": 585,
   "metadata": {
    "collapsed": false
   },
   "outputs": [
    {
     "data": {
      "text/plain": [
       "[<matplotlib.lines.Line2D at 0x11f1ae2d0>]"
      ]
     },
     "execution_count": 585,
     "metadata": {},
     "output_type": "execute_result"
    },
    {
     "data": {
      "image/png": "[encoded data removed]",
      "text/plain": [
       "<matplotlib.figure.Figure at 0x12345a910>"
      ]
     },
     "metadata": {},
     "output_type": "display_data"
    }
   ],
   "source": [
    "y_avgs = revdf_exnullrows.mean(axis=0)\n",
    "xs = np.arange(len(y_avgs))\n",
    "plt.plot(xs[:100], y_avgs[:100])"
   ]
  },
  {
   "cell_type": "code",
   "execution_count": 592,
   "metadata": {
    "collapsed": false
   },
   "outputs": [
    {
     "data": {
      "text/plain": [
       "3635"
      ]
     },
     "execution_count": 592,
     "metadata": {},
     "output_type": "execute_result"
    }
   ],
   "source": [
    "# Get rid of movies where there are over 100 weeks of revenue data (mostly IMAX movies)\n",
    "revdf_exoutliers = revdf_exnullrows[revdf_exnullrows.count(axis=1) < 100]\n",
    "len(revdf_exoutliers)"
   ]
  },
  {
   "cell_type": "code",
   "execution_count": 465,
   "metadata": {
    "collapsed": false
   },
   "outputs": [
    {
     "data": {
      "text/html": [
       "<div>\n",
       "<table border=\"1\" class=\"dataframe\">\n",
       "  <thead>\n",
       "    <tr style=\"text-align: right;\">\n",
       "      <th></th>\n",
       "      <th>distributor</th>\n",
       "      <th>domestic total gross</th>\n",
       "      <th>genre</th>\n",
       "      <th>movie title</th>\n",
       "      <th>movieid</th>\n",
       "      <th>number of theaters</th>\n",
       "      <th>opening weekend revenue</th>\n",
       "      <th>production budget</th>\n",
       "      <th>rating</th>\n",
       "      <th>release date</th>\n",
       "      <th>runtime (mins)</th>\n",
       "      <th>time in theaters (days)</th>\n",
       "      <th>release month</th>\n",
       "    </tr>\n",
       "  </thead>\n",
       "  <tbody>\n",
       "    <tr>\n",
       "      <th>0</th>\n",
       "      <td>Orion Pictures</td>\n",
       "      <td>90944400.0</td>\n",
       "      <td>Comedy</td>\n",
       "      <td>Dirty Rotten Scoundrels</td>\n",
       "      <td>1</td>\n",
       "      <td>1515.0</td>\n",
       "      <td>8129500.0</td>\n",
       "      <td>NaN</td>\n",
       "      <td>PG</td>\n",
       "      <td>1988-12-16</td>\n",
       "      <td>110.0</td>\n",
       "      <td>56.0</td>\n",
       "      <td>12.0</td>\n",
       "    </tr>\n",
       "    <tr>\n",
       "      <th>1</th>\n",
       "      <td>Fox</td>\n",
       "      <td>252358600.0</td>\n",
       "      <td>Action Thriller</td>\n",
       "      <td>Speed</td>\n",
       "      <td>2</td>\n",
       "      <td>2169.0</td>\n",
       "      <td>30088300.0</td>\n",
       "      <td>30000000.0</td>\n",
       "      <td>R</td>\n",
       "      <td>1994-06-10</td>\n",
       "      <td>116.0</td>\n",
       "      <td>70.0</td>\n",
       "      <td>6.0</td>\n",
       "    </tr>\n",
       "    <tr>\n",
       "      <th>2</th>\n",
       "      <td>Paramount</td>\n",
       "      <td>48884600.0</td>\n",
       "      <td>Comedy</td>\n",
       "      <td>The Out-of-Towners</td>\n",
       "      <td>3</td>\n",
       "      <td>2128.0</td>\n",
       "      <td>14084800.0</td>\n",
       "      <td>75000000.0</td>\n",
       "      <td>PG-13</td>\n",
       "      <td>1999-04-02</td>\n",
       "      <td>90.0</td>\n",
       "      <td>105.0</td>\n",
       "      <td>4.0</td>\n",
       "    </tr>\n",
       "    <tr>\n",
       "      <th>3</th>\n",
       "      <td>Universal</td>\n",
       "      <td>39263600.0</td>\n",
       "      <td>War Romance</td>\n",
       "      <td>Captain Corelli's Mandolin</td>\n",
       "      <td>4</td>\n",
       "      <td>1612.0</td>\n",
       "      <td>11081500.0</td>\n",
       "      <td>57000000.0</td>\n",
       "      <td>R</td>\n",
       "      <td>2001-08-17</td>\n",
       "      <td>129.0</td>\n",
       "      <td>63.0</td>\n",
       "      <td>8.0</td>\n",
       "    </tr>\n",
       "    <tr>\n",
       "      <th>4</th>\n",
       "      <td>Paramount</td>\n",
       "      <td>108640100.0</td>\n",
       "      <td>Comedy</td>\n",
       "      <td>Planes, Trains and Automobiles</td>\n",
       "      <td>5</td>\n",
       "      <td>1684.0</td>\n",
       "      <td>15596500.0</td>\n",
       "      <td>NaN</td>\n",
       "      <td>R</td>\n",
       "      <td>1987-11-25</td>\n",
       "      <td>92.0</td>\n",
       "      <td>77.0</td>\n",
       "      <td>11.0</td>\n",
       "    </tr>\n",
       "  </tbody>\n",
       "</table>\n",
       "</div>"
      ],
      "text/plain": [
       "      distributor  domestic total gross            genre  \\\n",
       "0  Orion Pictures            90944400.0           Comedy   \n",
       "1             Fox           252358600.0  Action Thriller   \n",
       "2       Paramount            48884600.0           Comedy   \n",
       "3       Universal            39263600.0      War Romance   \n",
       "4       Paramount           108640100.0           Comedy   \n",
       "\n",
       "                      movie title  movieid  number of theaters  \\\n",
       "0         Dirty Rotten Scoundrels        1              1515.0   \n",
       "1                           Speed        2              2169.0   \n",
       "2              The Out-of-Towners        3              2128.0   \n",
       "3      Captain Corelli's Mandolin        4              1612.0   \n",
       "4  Planes, Trains and Automobiles        5              1684.0   \n",
       "\n",
       "   opening weekend revenue  production budget rating release date  \\\n",
       "0                8129500.0                NaN     PG   1988-12-16   \n",
       "1               30088300.0         30000000.0      R   1994-06-10   \n",
       "2               14084800.0         75000000.0  PG-13   1999-04-02   \n",
       "3               11081500.0         57000000.0      R   2001-08-17   \n",
       "4               15596500.0                NaN      R   1987-11-25   \n",
       "\n",
       "   runtime (mins)  time in theaters (days)  release month  \n",
       "0           110.0                     56.0           12.0  \n",
       "1           116.0                     70.0            6.0  \n",
       "2            90.0                    105.0            4.0  \n",
       "3           129.0                     63.0            8.0  \n",
       "4            92.0                     77.0           11.0  "
      ]
     },
     "execution_count": 465,
     "metadata": {},
     "output_type": "execute_result"
    }
   ],
   "source": [
    "moviedf.head()"
   ]
  },
  {
   "cell_type": "code",
   "execution_count": 471,
   "metadata": {
    "collapsed": false
   },
   "outputs": [],
   "source": [
    "test1 = pd.DataFrame({'title': ['a','b','c','d'], 'score': [4,3,3,5],'movieid': [1,2,4,6]})\n",
    "\n",
    "dd = {1: [11,23,23,2], 2:[121,14,123], 3:[12,21,1]}\n",
    "test2 = pd.DataFrame.from_dict({k : pd.Series(v) for k,v in dd.items()}, \n",
    "                                     orient='index')"
   ]
  },
  {
   "cell_type": "code",
   "execution_count": 474,
   "metadata": {
    "collapsed": false
   },
   "outputs": [
    {
     "data": {
      "text/html": [
       "<div>\n",
       "<table border=\"1\" class=\"dataframe\">\n",
       "  <thead>\n",
       "    <tr style=\"text-align: right;\">\n",
       "      <th></th>\n",
       "      <th>0</th>\n",
       "      <th>1</th>\n",
       "      <th>2</th>\n",
       "      <th>3</th>\n",
       "      <th>decay rate</th>\n",
       "    </tr>\n",
       "  </thead>\n",
       "  <tbody>\n",
       "    <tr>\n",
       "      <th>1</th>\n",
       "      <td>11</td>\n",
       "      <td>23</td>\n",
       "      <td>23</td>\n",
       "      <td>2.0</td>\n",
       "      <td>0.20</td>\n",
       "    </tr>\n",
       "    <tr>\n",
       "      <th>2</th>\n",
       "      <td>121</td>\n",
       "      <td>14</td>\n",
       "      <td>123</td>\n",
       "      <td>NaN</td>\n",
       "      <td>-0.60</td>\n",
       "    </tr>\n",
       "    <tr>\n",
       "      <th>3</th>\n",
       "      <td>12</td>\n",
       "      <td>21</td>\n",
       "      <td>1</td>\n",
       "      <td>NaN</td>\n",
       "      <td>0.02</td>\n",
       "    </tr>\n",
       "  </tbody>\n",
       "</table>\n",
       "</div>"
      ],
      "text/plain": [
       "     0   1    2    3  decay rate\n",
       "1   11  23   23  2.0        0.20\n",
       "2  121  14  123  NaN       -0.60\n",
       "3   12  21    1  NaN        0.02"
      ]
     },
     "execution_count": 474,
     "metadata": {},
     "output_type": "execute_result"
    }
   ],
   "source": [
    "test2['decay rate'] = np.asarray([0.2,-0.6,0.02])\n",
    "test2"
   ]
  },
  {
   "cell_type": "code",
   "execution_count": 476,
   "metadata": {
    "collapsed": false
   },
   "outputs": [
    {
     "data": {
      "text/html": [
       "<div>\n",
       "<table border=\"1\" class=\"dataframe\">\n",
       "  <thead>\n",
       "    <tr style=\"text-align: right;\">\n",
       "      <th></th>\n",
       "      <th>movieid</th>\n",
       "      <th>score</th>\n",
       "      <th>title</th>\n",
       "    </tr>\n",
       "  </thead>\n",
       "  <tbody>\n",
       "    <tr>\n",
       "      <th>0</th>\n",
       "      <td>1</td>\n",
       "      <td>4</td>\n",
       "      <td>a</td>\n",
       "    </tr>\n",
       "    <tr>\n",
       "      <th>1</th>\n",
       "      <td>2</td>\n",
       "      <td>3</td>\n",
       "      <td>b</td>\n",
       "    </tr>\n",
       "    <tr>\n",
       "      <th>2</th>\n",
       "      <td>4</td>\n",
       "      <td>3</td>\n",
       "      <td>c</td>\n",
       "    </tr>\n",
       "    <tr>\n",
       "      <th>3</th>\n",
       "      <td>6</td>\n",
       "      <td>5</td>\n",
       "      <td>d</td>\n",
       "    </tr>\n",
       "  </tbody>\n",
       "</table>\n",
       "</div>"
      ],
      "text/plain": [
       "   movieid  score title\n",
       "0        1      4     a\n",
       "1        2      3     b\n",
       "2        4      3     c\n",
       "3        6      5     d"
      ]
     },
     "execution_count": 476,
     "metadata": {},
     "output_type": "execute_result"
    }
   ],
   "source": [
    "test1"
   ]
  },
  {
   "cell_type": "code",
   "execution_count": 480,
   "metadata": {
    "collapsed": false
   },
   "outputs": [
    {
     "data": {
      "text/html": [
       "<div>\n",
       "<table border=\"1\" class=\"dataframe\">\n",
       "  <thead>\n",
       "    <tr style=\"text-align: right;\">\n",
       "      <th></th>\n",
       "      <th>movieid</th>\n",
       "      <th>score</th>\n",
       "      <th>title</th>\n",
       "      <th>decay rate</th>\n",
       "    </tr>\n",
       "  </thead>\n",
       "  <tbody>\n",
       "    <tr>\n",
       "      <th>0</th>\n",
       "      <td>1</td>\n",
       "      <td>4</td>\n",
       "      <td>a</td>\n",
       "      <td>0.2</td>\n",
       "    </tr>\n",
       "    <tr>\n",
       "      <th>1</th>\n",
       "      <td>2</td>\n",
       "      <td>3</td>\n",
       "      <td>b</td>\n",
       "      <td>-0.6</td>\n",
       "    </tr>\n",
       "  </tbody>\n",
       "</table>\n",
       "</div>"
      ],
      "text/plain": [
       "   movieid  score title  decay rate\n",
       "0        1      4     a         0.2\n",
       "1        2      3     b        -0.6"
      ]
     },
     "execution_count": 480,
     "metadata": {},
     "output_type": "execute_result"
    }
   ],
   "source": [
    "# test3 = pd.concat([test2['decay rate'], test2.index], axis=1)\n",
    "# test3\n",
    "# result = pd.merge(test1, test2['decay rate'], left_on='movieid', right_on='movieid', how='inner')\n",
    "# result\n",
    "test2_short = pd.DataFrame(test2['decay rate'], index=test2.index)\n",
    "test2_short\n",
    "test3 = pd.merge(test1, test2_short, left_on='movieid', right_index=True, how='inner')\n",
    "test3"
   ]
  },
  {
   "cell_type": "code",
   "execution_count": 593,
   "metadata": {
    "collapsed": false
   },
   "outputs": [
    {
     "data": {
      "text/html": [
       "<div>\n",
       "<table border=\"1\" class=\"dataframe\">\n",
       "  <thead>\n",
       "    <tr style=\"text-align: right;\">\n",
       "      <th></th>\n",
       "      <th>decay rate</th>\n",
       "    </tr>\n",
       "  </thead>\n",
       "  <tbody>\n",
       "    <tr>\n",
       "      <th>1</th>\n",
       "      <td>-0.206736</td>\n",
       "    </tr>\n",
       "    <tr>\n",
       "      <th>2</th>\n",
       "      <td>-0.230695</td>\n",
       "    </tr>\n",
       "    <tr>\n",
       "      <th>3</th>\n",
       "      <td>-0.319087</td>\n",
       "    </tr>\n",
       "    <tr>\n",
       "      <th>4</th>\n",
       "      <td>-0.587304</td>\n",
       "    </tr>\n",
       "    <tr>\n",
       "      <th>5</th>\n",
       "      <td>-0.715197</td>\n",
       "    </tr>\n",
       "  </tbody>\n",
       "</table>\n",
       "</div>"
      ],
      "text/plain": [
       "   decay rate\n",
       "1   -0.206736\n",
       "2   -0.230695\n",
       "3   -0.319087\n",
       "4   -0.587304\n",
       "5   -0.715197"
      ]
     },
     "execution_count": 593,
     "metadata": {},
     "output_type": "execute_result"
    }
   ],
   "source": [
    "decaydf = pd.DataFrame(revdf_exoutliers['decay rate'], index=revdf_exoutliers.index)\n",
    "decaydf.head()"
   ]
  },
  {
   "cell_type": "code",
   "execution_count": 594,
   "metadata": {
    "collapsed": false
   },
   "outputs": [
    {
     "data": {
      "text/html": [
       "<div>\n",
       "<table border=\"1\" class=\"dataframe\">\n",
       "  <thead>\n",
       "    <tr style=\"text-align: right;\">\n",
       "      <th></th>\n",
       "      <th>domestic total gross</th>\n",
       "      <th>movieid</th>\n",
       "      <th>number of theaters</th>\n",
       "      <th>opening weekend revenue</th>\n",
       "      <th>production budget</th>\n",
       "      <th>runtime (mins)</th>\n",
       "      <th>time in theaters (days)</th>\n",
       "      <th>release month</th>\n",
       "      <th>decay rate</th>\n",
       "    </tr>\n",
       "  </thead>\n",
       "  <tbody>\n",
       "    <tr>\n",
       "      <th>count</th>\n",
       "      <td>3.626000e+03</td>\n",
       "      <td>3626.000000</td>\n",
       "      <td>3593.000000</td>\n",
       "      <td>3.237000e+03</td>\n",
       "      <td>1.993000e+03</td>\n",
       "      <td>3625.000000</td>\n",
       "      <td>3626.000000</td>\n",
       "      <td>3626.000000</td>\n",
       "      <td>3626.000000</td>\n",
       "    </tr>\n",
       "    <tr>\n",
       "      <th>mean</th>\n",
       "      <td>8.998510e+07</td>\n",
       "      <td>1948.258687</td>\n",
       "      <td>2249.123852</td>\n",
       "      <td>2.375641e+07</td>\n",
       "      <td>5.548064e+07</td>\n",
       "      <td>108.251586</td>\n",
       "      <td>82.163265</td>\n",
       "      <td>6.989520</td>\n",
       "      <td>-0.385245</td>\n",
       "    </tr>\n",
       "    <tr>\n",
       "      <th>std</th>\n",
       "      <td>8.601357e+07</td>\n",
       "      <td>1125.669740</td>\n",
       "      <td>917.356115</td>\n",
       "      <td>2.313366e+07</td>\n",
       "      <td>4.627000e+07</td>\n",
       "      <td>18.180043</td>\n",
       "      <td>49.911313</td>\n",
       "      <td>3.448042</td>\n",
       "      <td>0.253029</td>\n",
       "    </tr>\n",
       "    <tr>\n",
       "      <th>min</th>\n",
       "      <td>1.263660e+07</td>\n",
       "      <td>1.000000</td>\n",
       "      <td>15.000000</td>\n",
       "      <td>4.960000e+04</td>\n",
       "      <td>1.500000e+04</td>\n",
       "      <td>40.000000</td>\n",
       "      <td>7.000000</td>\n",
       "      <td>1.000000</td>\n",
       "      <td>-2.631008</td>\n",
       "    </tr>\n",
       "    <tr>\n",
       "      <th>25%</th>\n",
       "      <td>3.640072e+07</td>\n",
       "      <td>979.250000</td>\n",
       "      <td>1508.000000</td>\n",
       "      <td>1.067720e+07</td>\n",
       "      <td>2.300000e+07</td>\n",
       "      <td>95.000000</td>\n",
       "      <td>42.000000</td>\n",
       "      <td>4.000000</td>\n",
       "      <td>-0.506399</td>\n",
       "    </tr>\n",
       "    <tr>\n",
       "      <th>50%</th>\n",
       "      <td>6.001080e+07</td>\n",
       "      <td>1943.500000</td>\n",
       "      <td>2310.000000</td>\n",
       "      <td>1.658650e+07</td>\n",
       "      <td>4.000000e+07</td>\n",
       "      <td>105.000000</td>\n",
       "      <td>77.000000</td>\n",
       "      <td>7.000000</td>\n",
       "      <td>-0.379061</td>\n",
       "    </tr>\n",
       "    <tr>\n",
       "      <th>75%</th>\n",
       "      <td>1.097310e+08</td>\n",
       "      <td>2918.750000</td>\n",
       "      <td>2956.000000</td>\n",
       "      <td>2.789960e+07</td>\n",
       "      <td>7.500000e+07</td>\n",
       "      <td>118.000000</td>\n",
       "      <td>112.000000</td>\n",
       "      <td>10.000000</td>\n",
       "      <td>-0.263687</td>\n",
       "    </tr>\n",
       "    <tr>\n",
       "      <th>max</th>\n",
       "      <td>1.114286e+09</td>\n",
       "      <td>3902.000000</td>\n",
       "      <td>4468.000000</td>\n",
       "      <td>2.479667e+08</td>\n",
       "      <td>3.000000e+08</td>\n",
       "      <td>227.000000</td>\n",
       "      <td>469.000000</td>\n",
       "      <td>12.000000</td>\n",
       "      <td>1.819528</td>\n",
       "    </tr>\n",
       "  </tbody>\n",
       "</table>\n",
       "</div>"
      ],
      "text/plain": [
       "       domestic total gross      movieid  number of theaters  \\\n",
       "count          3.626000e+03  3626.000000         3593.000000   \n",
       "mean           8.998510e+07  1948.258687         2249.123852   \n",
       "std            8.601357e+07  1125.669740          917.356115   \n",
       "min            1.263660e+07     1.000000           15.000000   \n",
       "25%            3.640072e+07   979.250000         1508.000000   \n",
       "50%            6.001080e+07  1943.500000         2310.000000   \n",
       "75%            1.097310e+08  2918.750000         2956.000000   \n",
       "max            1.114286e+09  3902.000000         4468.000000   \n",
       "\n",
       "       opening weekend revenue  production budget  runtime (mins)  \\\n",
       "count             3.237000e+03       1.993000e+03     3625.000000   \n",
       "mean              2.375641e+07       5.548064e+07      108.251586   \n",
       "std               2.313366e+07       4.627000e+07       18.180043   \n",
       "min               4.960000e+04       1.500000e+04       40.000000   \n",
       "25%               1.067720e+07       2.300000e+07       95.000000   \n",
       "50%               1.658650e+07       4.000000e+07      105.000000   \n",
       "75%               2.789960e+07       7.500000e+07      118.000000   \n",
       "max               2.479667e+08       3.000000e+08      227.000000   \n",
       "\n",
       "       time in theaters (days)  release month   decay rate  \n",
       "count              3626.000000    3626.000000  3626.000000  \n",
       "mean                 82.163265       6.989520    -0.385245  \n",
       "std                  49.911313       3.448042     0.253029  \n",
       "min                   7.000000       1.000000    -2.631008  \n",
       "25%                  42.000000       4.000000    -0.506399  \n",
       "50%                  77.000000       7.000000    -0.379061  \n",
       "75%                 112.000000      10.000000    -0.263687  \n",
       "max                 469.000000      12.000000     1.819528  "
      ]
     },
     "execution_count": 594,
     "metadata": {},
     "output_type": "execute_result"
    }
   ],
   "source": [
    "merged = pd.merge(moviedf, decaydf, left_on='movieid', right_index=True, how='inner')\n",
    "merged.describe()"
   ]
  },
  {
   "cell_type": "code",
   "execution_count": 599,
   "metadata": {
    "collapsed": true
   },
   "outputs": [],
   "source": [
    "merged.to_csv('csv/merged_table.csv',encoding='utf-8')"
   ]
  },
  {
   "cell_type": "markdown",
   "metadata": {},
   "source": [
    "# Plot data (density and scatter plots) #"
   ]
  },
  {
   "cell_type": "code",
   "execution_count": 495,
   "metadata": {
    "collapsed": true
   },
   "outputs": [],
   "source": [
    "def plot_kde(df, category):\n",
    "    dropped = df[category].dropna()\n",
    "    density = gaussian_kde(dropped)\n",
    "    xs = np.linspace(dropped.min(),dropped.max(),300)\n",
    "    ys = density(xs)\n",
    "    plt.plot(xs, ys)\n",
    "    plt.title('PDF of ' + category)\n",
    "    plt.ylabel('Probability')\n",
    "    plt.xlabel(category)"
   ]
  },
  {
   "cell_type": "code",
   "execution_count": 496,
   "metadata": {
    "collapsed": false
   },
   "outputs": [
    {
     "data": {
      "image/png": "[encoded data removed]",
      "text/plain": [
       "<matplotlib.figure.Figure at 0x11f181c50>"
      ]
     },
     "metadata": {},
     "output_type": "display_data"
    }
   ],
   "source": [
    "plot_kde(merged, 'domestic total gross')"
   ]
  },
  {
   "cell_type": "code",
   "execution_count": 497,
   "metadata": {
    "collapsed": false
   },
   "outputs": [
    {
     "data": {
      "image/png": "[encoded data removed]",
      "text/plain": [
       "<matplotlib.figure.Figure at 0x123416810>"
      ]
     },
     "metadata": {},
     "output_type": "display_data"
    }
   ],
   "source": [
    "plot_kde(merged, 'number of theaters')"
   ]
  },
  {
   "cell_type": "code",
   "execution_count": 498,
   "metadata": {
    "collapsed": false
   },
   "outputs": [
    {
     "data": {
      "image/png": "[encoded data removed]",
      "text/plain": [
       "<matplotlib.figure.Figure at 0x13438fc10>"
      ]
     },
     "metadata": {},
     "output_type": "display_data"
    }
   ],
   "source": [
    "plot_kde(merged, 'opening weekend revenue')"
   ]
  },
  {
   "cell_type": "code",
   "execution_count": 499,
   "metadata": {
    "collapsed": false
   },
   "outputs": [
    {
     "data": {
      "image/png": "[encoded data removed]",
      "text/plain": [
       "<matplotlib.figure.Figure at 0x12340c710>"
      ]
     },
     "metadata": {},
     "output_type": "display_data"
    }
   ],
   "source": [
    "plot_kde(merged, 'production budget')"
   ]
  },
  {
   "cell_type": "code",
   "execution_count": 500,
   "metadata": {
    "collapsed": false
   },
   "outputs": [
    {
     "data": {
      "image/png": "[encoded data removed]",
      "text/plain": [
       "<matplotlib.figure.Figure at 0x117fd2e50>"
      ]
     },
     "metadata": {},
     "output_type": "display_data"
    }
   ],
   "source": [
    "plot_kde(merged, 'runtime (mins)')"
   ]
  },
  {
   "cell_type": "code",
   "execution_count": 501,
   "metadata": {
    "collapsed": false
   },
   "outputs": [
    {
     "data": {
      "image/png": "[encoded data removed]",
      "text/plain": [
       "<matplotlib.figure.Figure at 0x123005210>"
      ]
     },
     "metadata": {},
     "output_type": "display_data"
    }
   ],
   "source": [
    "plot_kde(merged, 'time in theaters (days)')"
   ]
  },
  {
   "cell_type": "code",
   "execution_count": 502,
   "metadata": {
    "collapsed": false
   },
   "outputs": [
    {
     "data": {
      "image/png": "[encoded data removed]",
      "text/plain": [
       "<matplotlib.figure.Figure at 0x134375950>"
      ]
     },
     "metadata": {},
     "output_type": "display_data"
    }
   ],
   "source": [
    "plot_kde(merged, 'release month')"
   ]
  },
  {
   "cell_type": "code",
   "execution_count": 503,
   "metadata": {
    "collapsed": false
   },
   "outputs": [
    {
     "data": {
      "image/png": "[encoded data removed]",
      "text/plain": [
       "<matplotlib.figure.Figure at 0x11f3a5490>"
      ]
     },
     "metadata": {},
     "output_type": "display_data"
    }
   ],
   "source": [
    "plot_kde(merged, 'decay rate')"
   ]
  },
  {
   "cell_type": "code",
   "execution_count": 552,
   "metadata": {
    "collapsed": false
   },
   "outputs": [],
   "source": [
    "def plot_bar(df, column):\n",
    "    ys = df[column].value_counts(normalize=True, sort=False)\n",
    "    xs = np.arange(len(ys))\n",
    "    plt.figure(figsize=(18,5))\n",
    "    plt.bar(xs, ys.values)\n",
    "    plt.xticks(xs, ys.index, rotation=45)"
   ]
  },
  {
   "cell_type": "code",
   "execution_count": 553,
   "metadata": {
    "collapsed": false
   },
   "outputs": [
    {
     "data": {
      "image/png": "[encoded data removed]",
      "text/plain": [
       "<matplotlib.figure.Figure at 0x122142e90>"
      ]
     },
     "metadata": {},
     "output_type": "display_data"
    }
   ],
   "source": [
    "plot_bar(merged, 'genre')"
   ]
  },
  {
   "cell_type": "code",
   "execution_count": 554,
   "metadata": {
    "collapsed": false
   },
   "outputs": [
    {
     "data": {
      "image/png": "[encoded data removed]",
      "text/plain": [
       "<matplotlib.figure.Figure at 0x13421ac10>"
      ]
     },
     "metadata": {},
     "output_type": "display_data"
    }
   ],
   "source": [
    "plot_bar(merged, 'rating')"
   ]
  },
  {
   "cell_type": "code",
   "execution_count": 555,
   "metadata": {
    "collapsed": false
   },
   "outputs": [
    {
     "data": {
      "image/png": "[encoded data removed]",
      "text/plain": [
       "<matplotlib.figure.Figure at 0x1342a9450>"
      ]
     },
     "metadata": {},
     "output_type": "display_data"
    }
   ],
   "source": [
    "plot_bar(merged, 'distributor')"
   ]
  },
  {
   "cell_type": "code",
   "execution_count": 505,
   "metadata": {
    "collapsed": true
   },
   "outputs": [],
   "source": [
    "def plot_scatter(df, category):\n",
    "    xs = df[category]\n",
    "    ys = df['decay rate']\n",
    "    plt.scatter(xs, ys)"
   ]
  },
  {
   "cell_type": "code",
   "execution_count": 515,
   "metadata": {
    "collapsed": false
   },
   "outputs": [
    {
     "data": {
      "image/png": "[encoded data removed]",
      "text/plain": [
       "<matplotlib.figure.Figure at 0x11f399650>"
      ]
     },
     "metadata": {},
     "output_type": "display_data"
    }
   ],
   "source": [
    "plot_scatter(merged, 'domestic total gross')"
   ]
  },
  {
   "cell_type": "code",
   "execution_count": 507,
   "metadata": {
    "collapsed": false
   },
   "outputs": [
    {
     "data": {
      "image/png": "[encoded data removed]",
      "text/plain": [
       "<matplotlib.figure.Figure at 0x117769210>"
      ]
     },
     "metadata": {},
     "output_type": "display_data"
    }
   ],
   "source": [
    "plot_scatter(merged, 'number of theaters')"
   ]
  },
  {
   "cell_type": "code",
   "execution_count": 508,
   "metadata": {
    "collapsed": false
   },
   "outputs": [
    {
     "data": {
      "image/png": "[encoded data removed]",
      "text/plain": [
       "<matplotlib.figure.Figure at 0x1225faf90>"
      ]
     },
     "metadata": {},
     "output_type": "display_data"
    }
   ],
   "source": [
    "plot_scatter(merged, 'opening weekend revenue')"
   ]
  },
  {
   "cell_type": "code",
   "execution_count": 509,
   "metadata": {
    "collapsed": false
   },
   "outputs": [
    {
     "data": {
      "image/png": "[encoded data removed]",
      "text/plain": [
       "<matplotlib.figure.Figure at 0x12215c0d0>"
      ]
     },
     "metadata": {},
     "output_type": "display_data"
    }
   ],
   "source": [
    "plot_scatter(merged, 'production budget')"
   ]
  },
  {
   "cell_type": "code",
   "execution_count": 510,
   "metadata": {
    "collapsed": false
   },
   "outputs": [
    {
     "data": {
      "image/png": "[encoded data removed]",
      "text/plain": [
       "<matplotlib.figure.Figure at 0x1234ae7d0>"
      ]
     },
     "metadata": {},
     "output_type": "display_data"
    }
   ],
   "source": [
    "plot_scatter(merged, 'runtime (mins)')"
   ]
  },
  {
   "cell_type": "code",
   "execution_count": 511,
   "metadata": {
    "collapsed": false
   },
   "outputs": [
    {
     "data": {
      "image/png": "[encoded data removed]",
      "text/plain": [
       "<matplotlib.figure.Figure at 0x1187958d0>"
      ]
     },
     "metadata": {},
     "output_type": "display_data"
    }
   ],
   "source": [
    "plot_scatter(merged, 'time in theaters (days)')"
   ]
  },
  {
   "cell_type": "code",
   "execution_count": 512,
   "metadata": {
    "collapsed": false
   },
   "outputs": [
    {
     "data": {
      "image/png": "[encoded data removed]",
      "text/plain": [
       "<matplotlib.figure.Figure at 0x1340fb250>"
      ]
     },
     "metadata": {},
     "output_type": "display_data"
    }
   ],
   "source": [
    "plot_scatter(merged, 'release month')"
   ]
  },
  {
   "cell_type": "code",
   "execution_count": 570,
   "metadata": {
    "collapsed": true
   },
   "outputs": [],
   "source": [
    "def plot_scatter_categorical(df, category):\n",
    "    d = {}\n",
    "    i = 0\n",
    "    for c in df[category].unique():\n",
    "        d[c] = i\n",
    "        i += 1\n",
    "    copy = df.copy(deep=True)\n",
    "    copy[category + '_cat'] = copy[category].map(d)\n",
    "    xs = copy[category + '_cat']\n",
    "    ys = copy['decay rate']\n",
    "    plt.scatter(xs, ys)"
   ]
  },
  {
   "cell_type": "code",
   "execution_count": 571,
   "metadata": {
    "collapsed": false
   },
   "outputs": [
    {
     "data": {
      "image/png": "[encoded data removed]",
      "text/plain": [
       "<matplotlib.figure.Figure at 0x1215be890>"
      ]
     },
     "metadata": {},
     "output_type": "display_data"
    }
   ],
   "source": [
    "plot_scatter_categorical(merged, 'genre')"
   ]
  },
  {
   "cell_type": "code",
   "execution_count": 572,
   "metadata": {
    "collapsed": false
   },
   "outputs": [
    {
     "data": {
      "image/png": "[encoded data removed]",
      "text/plain": [
       "<matplotlib.figure.Figure at 0x122388bd0>"
      ]
     },
     "metadata": {},
     "output_type": "display_data"
    }
   ],
   "source": [
    "plot_scatter_categorical(merged, 'rating')"
   ]
  },
  {
   "cell_type": "code",
   "execution_count": 573,
   "metadata": {
    "collapsed": false
   },
   "outputs": [
    {
     "data": {
      "image/png": "[encoded data removed]",
      "text/plain": [
       "<matplotlib.figure.Figure at 0x117fd4250>"
      ]
     },
     "metadata": {},
     "output_type": "display_data"
    }
   ],
   "source": [
    "plot_scatter_categorical(merged, 'distributor')"
   ]
  },
  {
   "cell_type": "code",
   "execution_count": 517,
   "metadata": {
    "collapsed": false
   },
   "outputs": [
    {
     "data": {
      "text/html": [
       "<div>\n",
       "<table border=\"1\" class=\"dataframe\">\n",
       "  <thead>\n",
       "    <tr style=\"text-align: right;\">\n",
       "      <th></th>\n",
       "      <th>domestic total gross</th>\n",
       "      <th>movieid</th>\n",
       "      <th>number of theaters</th>\n",
       "      <th>opening weekend revenue</th>\n",
       "      <th>production budget</th>\n",
       "      <th>runtime (mins)</th>\n",
       "      <th>time in theaters (days)</th>\n",
       "      <th>release month</th>\n",
       "      <th>decay rate</th>\n",
       "    </tr>\n",
       "  </thead>\n",
       "  <tbody>\n",
       "    <tr>\n",
       "      <th>domestic total gross</th>\n",
       "      <td>1.000000</td>\n",
       "      <td>0.002110</td>\n",
       "      <td>0.372644</td>\n",
       "      <td>0.835386</td>\n",
       "      <td>0.485476</td>\n",
       "      <td>0.235816</td>\n",
       "      <td>0.413672</td>\n",
       "      <td>0.079406</td>\n",
       "      <td>0.186332</td>\n",
       "    </tr>\n",
       "    <tr>\n",
       "      <th>movieid</th>\n",
       "      <td>0.002110</td>\n",
       "      <td>1.000000</td>\n",
       "      <td>0.002020</td>\n",
       "      <td>0.003441</td>\n",
       "      <td>0.006711</td>\n",
       "      <td>-0.001098</td>\n",
       "      <td>0.023036</td>\n",
       "      <td>0.016712</td>\n",
       "      <td>0.006540</td>\n",
       "    </tr>\n",
       "    <tr>\n",
       "      <th>number of theaters</th>\n",
       "      <td>0.372644</td>\n",
       "      <td>0.002020</td>\n",
       "      <td>1.000000</td>\n",
       "      <td>0.593986</td>\n",
       "      <td>0.599704</td>\n",
       "      <td>0.012603</td>\n",
       "      <td>0.279060</td>\n",
       "      <td>-0.074095</td>\n",
       "      <td>-0.337709</td>\n",
       "    </tr>\n",
       "    <tr>\n",
       "      <th>opening weekend revenue</th>\n",
       "      <td>0.835386</td>\n",
       "      <td>0.003441</td>\n",
       "      <td>0.593986</td>\n",
       "      <td>1.000000</td>\n",
       "      <td>0.616695</td>\n",
       "      <td>0.239999</td>\n",
       "      <td>0.402478</td>\n",
       "      <td>-0.001529</td>\n",
       "      <td>0.030799</td>\n",
       "    </tr>\n",
       "    <tr>\n",
       "      <th>production budget</th>\n",
       "      <td>0.485476</td>\n",
       "      <td>0.006711</td>\n",
       "      <td>0.599704</td>\n",
       "      <td>0.616695</td>\n",
       "      <td>1.000000</td>\n",
       "      <td>0.305721</td>\n",
       "      <td>0.198416</td>\n",
       "      <td>0.023071</td>\n",
       "      <td>0.057094</td>\n",
       "    </tr>\n",
       "    <tr>\n",
       "      <th>runtime (mins)</th>\n",
       "      <td>0.235816</td>\n",
       "      <td>-0.001098</td>\n",
       "      <td>0.012603</td>\n",
       "      <td>0.239999</td>\n",
       "      <td>0.305721</td>\n",
       "      <td>1.000000</td>\n",
       "      <td>0.141906</td>\n",
       "      <td>0.189662</td>\n",
       "      <td>0.131652</td>\n",
       "    </tr>\n",
       "    <tr>\n",
       "      <th>time in theaters (days)</th>\n",
       "      <td>0.413672</td>\n",
       "      <td>0.023036</td>\n",
       "      <td>0.279060</td>\n",
       "      <td>0.402478</td>\n",
       "      <td>0.198416</td>\n",
       "      <td>0.141906</td>\n",
       "      <td>1.000000</td>\n",
       "      <td>0.106977</td>\n",
       "      <td>0.213982</td>\n",
       "    </tr>\n",
       "    <tr>\n",
       "      <th>release month</th>\n",
       "      <td>0.079406</td>\n",
       "      <td>0.016712</td>\n",
       "      <td>-0.074095</td>\n",
       "      <td>-0.001529</td>\n",
       "      <td>0.023071</td>\n",
       "      <td>0.189662</td>\n",
       "      <td>0.106977</td>\n",
       "      <td>1.000000</td>\n",
       "      <td>0.144514</td>\n",
       "    </tr>\n",
       "    <tr>\n",
       "      <th>decay rate</th>\n",
       "      <td>0.186332</td>\n",
       "      <td>0.006540</td>\n",
       "      <td>-0.337709</td>\n",
       "      <td>0.030799</td>\n",
       "      <td>0.057094</td>\n",
       "      <td>0.131652</td>\n",
       "      <td>0.213982</td>\n",
       "      <td>0.144514</td>\n",
       "      <td>1.000000</td>\n",
       "    </tr>\n",
       "  </tbody>\n",
       "</table>\n",
       "</div>"
      ],
      "text/plain": [
       "                         domestic total gross   movieid  number of theaters  \\\n",
       "domestic total gross                 1.000000  0.002110            0.372644   \n",
       "movieid                              0.002110  1.000000            0.002020   \n",
       "number of theaters                   0.372644  0.002020            1.000000   \n",
       "opening weekend revenue              0.835386  0.003441            0.593986   \n",
       "production budget                    0.485476  0.006711            0.599704   \n",
       "runtime (mins)                       0.235816 -0.001098            0.012603   \n",
       "time in theaters (days)              0.413672  0.023036            0.279060   \n",
       "release month                        0.079406  0.016712           -0.074095   \n",
       "decay rate                           0.186332  0.006540           -0.337709   \n",
       "\n",
       "                         opening weekend revenue  production budget  \\\n",
       "domestic total gross                    0.835386           0.485476   \n",
       "movieid                                 0.003441           0.006711   \n",
       "number of theaters                      0.593986           0.599704   \n",
       "opening weekend revenue                 1.000000           0.616695   \n",
       "production budget                       0.616695           1.000000   \n",
       "runtime (mins)                          0.239999           0.305721   \n",
       "time in theaters (days)                 0.402478           0.198416   \n",
       "release month                          -0.001529           0.023071   \n",
       "decay rate                              0.030799           0.057094   \n",
       "\n",
       "                         runtime (mins)  time in theaters (days)  \\\n",
       "domestic total gross           0.235816                 0.413672   \n",
       "movieid                       -0.001098                 0.023036   \n",
       "number of theaters             0.012603                 0.279060   \n",
       "opening weekend revenue        0.239999                 0.402478   \n",
       "production budget              0.305721                 0.198416   \n",
       "runtime (mins)                 1.000000                 0.141906   \n",
       "time in theaters (days)        0.141906                 1.000000   \n",
       "release month                  0.189662                 0.106977   \n",
       "decay rate                     0.131652                 0.213982   \n",
       "\n",
       "                         release month  decay rate  \n",
       "domestic total gross          0.079406    0.186332  \n",
       "movieid                       0.016712    0.006540  \n",
       "number of theaters           -0.074095   -0.337709  \n",
       "opening weekend revenue      -0.001529    0.030799  \n",
       "production budget             0.023071    0.057094  \n",
       "runtime (mins)                0.189662    0.131652  \n",
       "time in theaters (days)       0.106977    0.213982  \n",
       "release month                 1.000000    0.144514  \n",
       "decay rate                    0.144514    1.000000  "
      ]
     },
     "execution_count": 517,
     "metadata": {},
     "output_type": "execute_result"
    }
   ],
   "source": [
    "merged.corr()"
   ]
  },
  {
   "cell_type": "code",
   "execution_count": 600,
   "metadata": {
    "collapsed": false
   },
   "outputs": [
    {
     "data": {
      "text/html": [
       "<div>\n",
       "<table border=\"1\" class=\"dataframe\">\n",
       "  <thead>\n",
       "    <tr style=\"text-align: right;\">\n",
       "      <th></th>\n",
       "      <th>distributor</th>\n",
       "      <th>domestic total gross</th>\n",
       "      <th>genre</th>\n",
       "      <th>movie title</th>\n",
       "      <th>movieid</th>\n",
       "      <th>number of theaters</th>\n",
       "      <th>opening weekend revenue</th>\n",
       "      <th>production budget</th>\n",
       "      <th>rating</th>\n",
       "      <th>release date</th>\n",
       "      <th>runtime (mins)</th>\n",
       "      <th>time in theaters (days)</th>\n",
       "      <th>release month</th>\n",
       "      <th>decay rate</th>\n",
       "    </tr>\n",
       "  </thead>\n",
       "  <tbody>\n",
       "    <tr>\n",
       "      <th>0</th>\n",
       "      <td>Orion Pictures</td>\n",
       "      <td>90944400.0</td>\n",
       "      <td>Comedy</td>\n",
       "      <td>Dirty Rotten Scoundrels</td>\n",
       "      <td>1</td>\n",
       "      <td>1515.0</td>\n",
       "      <td>8129500.0</td>\n",
       "      <td>NaN</td>\n",
       "      <td>PG</td>\n",
       "      <td>1988-12-16</td>\n",
       "      <td>110.0</td>\n",
       "      <td>56.0</td>\n",
       "      <td>12.0</td>\n",
       "      <td>-0.206736</td>\n",
       "    </tr>\n",
       "    <tr>\n",
       "      <th>1</th>\n",
       "      <td>Fox</td>\n",
       "      <td>252358600.0</td>\n",
       "      <td>Action Thriller</td>\n",
       "      <td>Speed</td>\n",
       "      <td>2</td>\n",
       "      <td>2169.0</td>\n",
       "      <td>30088300.0</td>\n",
       "      <td>30000000.0</td>\n",
       "      <td>R</td>\n",
       "      <td>1994-06-10</td>\n",
       "      <td>116.0</td>\n",
       "      <td>70.0</td>\n",
       "      <td>6.0</td>\n",
       "      <td>-0.230695</td>\n",
       "    </tr>\n",
       "    <tr>\n",
       "      <th>2</th>\n",
       "      <td>Paramount</td>\n",
       "      <td>48884600.0</td>\n",
       "      <td>Comedy</td>\n",
       "      <td>The Out-of-Towners</td>\n",
       "      <td>3</td>\n",
       "      <td>2128.0</td>\n",
       "      <td>14084800.0</td>\n",
       "      <td>75000000.0</td>\n",
       "      <td>PG-13</td>\n",
       "      <td>1999-04-02</td>\n",
       "      <td>90.0</td>\n",
       "      <td>105.0</td>\n",
       "      <td>4.0</td>\n",
       "      <td>-0.319087</td>\n",
       "    </tr>\n",
       "    <tr>\n",
       "      <th>3</th>\n",
       "      <td>Universal</td>\n",
       "      <td>39263600.0</td>\n",
       "      <td>War Romance</td>\n",
       "      <td>Captain Corelli's Mandolin</td>\n",
       "      <td>4</td>\n",
       "      <td>1612.0</td>\n",
       "      <td>11081500.0</td>\n",
       "      <td>57000000.0</td>\n",
       "      <td>R</td>\n",
       "      <td>2001-08-17</td>\n",
       "      <td>129.0</td>\n",
       "      <td>63.0</td>\n",
       "      <td>8.0</td>\n",
       "      <td>-0.587304</td>\n",
       "    </tr>\n",
       "    <tr>\n",
       "      <th>4</th>\n",
       "      <td>Paramount</td>\n",
       "      <td>108640100.0</td>\n",
       "      <td>Comedy</td>\n",
       "      <td>Planes, Trains and Automobiles</td>\n",
       "      <td>5</td>\n",
       "      <td>1684.0</td>\n",
       "      <td>15596500.0</td>\n",
       "      <td>NaN</td>\n",
       "      <td>R</td>\n",
       "      <td>1987-11-25</td>\n",
       "      <td>92.0</td>\n",
       "      <td>77.0</td>\n",
       "      <td>11.0</td>\n",
       "      <td>-0.715197</td>\n",
       "    </tr>\n",
       "  </tbody>\n",
       "</table>\n",
       "</div>"
      ],
      "text/plain": [
       "      distributor  domestic total gross            genre  \\\n",
       "0  Orion Pictures            90944400.0           Comedy   \n",
       "1             Fox           252358600.0  Action Thriller   \n",
       "2       Paramount            48884600.0           Comedy   \n",
       "3       Universal            39263600.0      War Romance   \n",
       "4       Paramount           108640100.0           Comedy   \n",
       "\n",
       "                      movie title  movieid  number of theaters  \\\n",
       "0         Dirty Rotten Scoundrels        1              1515.0   \n",
       "1                           Speed        2              2169.0   \n",
       "2              The Out-of-Towners        3              2128.0   \n",
       "3      Captain Corelli's Mandolin        4              1612.0   \n",
       "4  Planes, Trains and Automobiles        5              1684.0   \n",
       "\n",
       "   opening weekend revenue  production budget rating release date  \\\n",
       "0                8129500.0                NaN     PG   1988-12-16   \n",
       "1               30088300.0         30000000.0      R   1994-06-10   \n",
       "2               14084800.0         75000000.0  PG-13   1999-04-02   \n",
       "3               11081500.0         57000000.0      R   2001-08-17   \n",
       "4               15596500.0                NaN      R   1987-11-25   \n",
       "\n",
       "   runtime (mins)  time in theaters (days)  release month  decay rate  \n",
       "0           110.0                     56.0           12.0   -0.206736  \n",
       "1           116.0                     70.0            6.0   -0.230695  \n",
       "2            90.0                    105.0            4.0   -0.319087  \n",
       "3           129.0                     63.0            8.0   -0.587304  \n",
       "4            92.0                     77.0           11.0   -0.715197  "
      ]
     },
     "execution_count": 600,
     "metadata": {},
     "output_type": "execute_result"
    }
   ],
   "source": [
    "merged.head()"
   ]
  },
  {
   "cell_type": "markdown",
   "metadata": {},
   "source": [
    "# Create models #"
   ]
  },
  {
   "cell_type": "code",
   "execution_count": 722,
   "metadata": {
    "collapsed": false
   },
   "outputs": [],
   "source": [
    "from patsy import dmatrices, dmatrix\n",
    "from sklearn.cross_validation import train_test_split\n",
    "import statsmodels.api as sm\n",
    "from sklearn.metrics import r2_score"
   ]
  },
  {
   "cell_type": "code",
   "execution_count": 750,
   "metadata": {
    "collapsed": false
   },
   "outputs": [],
   "source": [
    "renamed = merged.rename(columns={'distributor':'dist', 'domestic total gross': 'dom_tot_gross',\n",
    "                                'movie title': 'title', 'number of theaters': 'num_theaters',\n",
    "                                'opening weekend revenue': 'open_rev', 'production budget': \n",
    "                                'budget', 'release date': 'release', 'runtime (mins)': 'runtime',\n",
    "                                'time in theaters (days)': 'time_theaters', 'release month': 'month',\n",
    "                                'decay rate': 'decay'})"
   ]
  },
  {
   "cell_type": "code",
   "execution_count": 808,
   "metadata": {
    "collapsed": true
   },
   "outputs": [],
   "source": [
    "renamed.to_csv('csv/analysisdf.csv',encoding='utf-8')"
   ]
  },
  {
   "cell_type": "code",
   "execution_count": 751,
   "metadata": {
    "collapsed": false
   },
   "outputs": [
    {
     "data": {
      "text/html": [
       "<div>\n",
       "<table border=\"1\" class=\"dataframe\">\n",
       "  <thead>\n",
       "    <tr style=\"text-align: right;\">\n",
       "      <th></th>\n",
       "      <th>dist</th>\n",
       "      <th>dom_tot_gross</th>\n",
       "      <th>genre</th>\n",
       "      <th>title</th>\n",
       "      <th>movieid</th>\n",
       "      <th>num_theaters</th>\n",
       "      <th>open_rev</th>\n",
       "      <th>budget</th>\n",
       "      <th>rating</th>\n",
       "      <th>release</th>\n",
       "      <th>runtime</th>\n",
       "      <th>time_theaters</th>\n",
       "      <th>month</th>\n",
       "      <th>decay</th>\n",
       "    </tr>\n",
       "  </thead>\n",
       "  <tbody>\n",
       "    <tr>\n",
       "      <th>0</th>\n",
       "      <td>Orion Pictures</td>\n",
       "      <td>90944400.0</td>\n",
       "      <td>Comedy</td>\n",
       "      <td>Dirty Rotten Scoundrels</td>\n",
       "      <td>1</td>\n",
       "      <td>1515.0</td>\n",
       "      <td>8129500.0</td>\n",
       "      <td>NaN</td>\n",
       "      <td>PG</td>\n",
       "      <td>1988-12-16</td>\n",
       "      <td>110.0</td>\n",
       "      <td>56.0</td>\n",
       "      <td>12.0</td>\n",
       "      <td>-0.206736</td>\n",
       "    </tr>\n",
       "    <tr>\n",
       "      <th>1</th>\n",
       "      <td>Fox</td>\n",
       "      <td>252358600.0</td>\n",
       "      <td>Action Thriller</td>\n",
       "      <td>Speed</td>\n",
       "      <td>2</td>\n",
       "      <td>2169.0</td>\n",
       "      <td>30088300.0</td>\n",
       "      <td>30000000.0</td>\n",
       "      <td>R</td>\n",
       "      <td>1994-06-10</td>\n",
       "      <td>116.0</td>\n",
       "      <td>70.0</td>\n",
       "      <td>6.0</td>\n",
       "      <td>-0.230695</td>\n",
       "    </tr>\n",
       "    <tr>\n",
       "      <th>2</th>\n",
       "      <td>Paramount</td>\n",
       "      <td>48884600.0</td>\n",
       "      <td>Comedy</td>\n",
       "      <td>The Out-of-Towners</td>\n",
       "      <td>3</td>\n",
       "      <td>2128.0</td>\n",
       "      <td>14084800.0</td>\n",
       "      <td>75000000.0</td>\n",
       "      <td>PG-13</td>\n",
       "      <td>1999-04-02</td>\n",
       "      <td>90.0</td>\n",
       "      <td>105.0</td>\n",
       "      <td>4.0</td>\n",
       "      <td>-0.319087</td>\n",
       "    </tr>\n",
       "    <tr>\n",
       "      <th>3</th>\n",
       "      <td>Universal</td>\n",
       "      <td>39263600.0</td>\n",
       "      <td>War Romance</td>\n",
       "      <td>Captain Corelli's Mandolin</td>\n",
       "      <td>4</td>\n",
       "      <td>1612.0</td>\n",
       "      <td>11081500.0</td>\n",
       "      <td>57000000.0</td>\n",
       "      <td>R</td>\n",
       "      <td>2001-08-17</td>\n",
       "      <td>129.0</td>\n",
       "      <td>63.0</td>\n",
       "      <td>8.0</td>\n",
       "      <td>-0.587304</td>\n",
       "    </tr>\n",
       "    <tr>\n",
       "      <th>4</th>\n",
       "      <td>Paramount</td>\n",
       "      <td>108640100.0</td>\n",
       "      <td>Comedy</td>\n",
       "      <td>Planes, Trains and Automobiles</td>\n",
       "      <td>5</td>\n",
       "      <td>1684.0</td>\n",
       "      <td>15596500.0</td>\n",
       "      <td>NaN</td>\n",
       "      <td>R</td>\n",
       "      <td>1987-11-25</td>\n",
       "      <td>92.0</td>\n",
       "      <td>77.0</td>\n",
       "      <td>11.0</td>\n",
       "      <td>-0.715197</td>\n",
       "    </tr>\n",
       "  </tbody>\n",
       "</table>\n",
       "</div>"
      ],
      "text/plain": [
       "             dist  dom_tot_gross            genre  \\\n",
       "0  Orion Pictures     90944400.0           Comedy   \n",
       "1             Fox    252358600.0  Action Thriller   \n",
       "2       Paramount     48884600.0           Comedy   \n",
       "3       Universal     39263600.0      War Romance   \n",
       "4       Paramount    108640100.0           Comedy   \n",
       "\n",
       "                            title  movieid  num_theaters    open_rev  \\\n",
       "0         Dirty Rotten Scoundrels        1        1515.0   8129500.0   \n",
       "1                           Speed        2        2169.0  30088300.0   \n",
       "2              The Out-of-Towners        3        2128.0  14084800.0   \n",
       "3      Captain Corelli's Mandolin        4        1612.0  11081500.0   \n",
       "4  Planes, Trains and Automobiles        5        1684.0  15596500.0   \n",
       "\n",
       "       budget rating    release  runtime  time_theaters  month     decay  \n",
       "0         NaN     PG 1988-12-16    110.0           56.0   12.0 -0.206736  \n",
       "1  30000000.0      R 1994-06-10    116.0           70.0    6.0 -0.230695  \n",
       "2  75000000.0  PG-13 1999-04-02     90.0          105.0    4.0 -0.319087  \n",
       "3  57000000.0      R 2001-08-17    129.0           63.0    8.0 -0.587304  \n",
       "4         NaN      R 1987-11-25     92.0           77.0   11.0 -0.715197  "
      ]
     },
     "execution_count": 751,
     "metadata": {},
     "output_type": "execute_result"
    }
   ],
   "source": [
    "renamed.head()"
   ]
  },
  {
   "cell_type": "code",
   "execution_count": 752,
   "metadata": {
    "collapsed": false
   },
   "outputs": [
    {
     "data": {
      "text/plain": [
       "0   -0.206736\n",
       "1   -0.230695\n",
       "2   -0.319087\n",
       "3   -0.587304\n",
       "4   -0.715197\n",
       "Name: decay, dtype: float64"
      ]
     },
     "execution_count": 752,
     "metadata": {},
     "output_type": "execute_result"
    }
   ],
   "source": [
    "y = renamed['decay']\n",
    "y.head()"
   ]
  },
  {
   "cell_type": "code",
   "execution_count": 714,
   "metadata": {
    "collapsed": false
   },
   "outputs": [],
   "source": [
    "renamed.drop('decay', axis=1, inplace=True)"
   ]
  },
  {
   "cell_type": "code",
   "execution_count": 753,
   "metadata": {
    "collapsed": false
   },
   "outputs": [],
   "source": [
    "X = renamed"
   ]
  },
  {
   "cell_type": "code",
   "execution_count": 754,
   "metadata": {
    "collapsed": false
   },
   "outputs": [],
   "source": [
    "# Split into reporting (30%) and training (70%)\n",
    "X_train, X_report, y_train, y_report = train_test_split(X, y, \n",
    "                                                        test_size = 0.3,\n",
    "                                                        random_state = 4444)\n",
    "\n",
    "# X_train['y_train'] = y_train"
   ]
  },
  {
   "cell_type": "code",
   "execution_count": 755,
   "metadata": {
    "collapsed": true
   },
   "outputs": [],
   "source": [
    "# Split training data into training (60%) and testing (40%) \n",
    "X_train, X_test, y_train, y_test = train_test_split(X_train, y_train,\n",
    "                                                       test_size = 0.4,\n",
    "                                                       random_state = 4444)"
   ]
  },
  {
   "cell_type": "code",
   "execution_count": 756,
   "metadata": {
    "collapsed": false
   },
   "outputs": [
    {
     "name": "stdout",
     "output_type": "stream",
     "text": [
      "Training: True\n",
      "Testing: True\n",
      "Reporting: True\n"
     ]
    }
   ],
   "source": [
    "# Check lengths\n",
    "print 'Training: ' + str(len(X_train) == len(y_train))\n",
    "print 'Testing: ' + str(len(X_test) == len(y_test))\n",
    "print 'Reporting: ' + str(len(X_report) == len(y_report))"
   ]
  },
  {
   "cell_type": "code",
   "execution_count": 757,
   "metadata": {
    "collapsed": false
   },
   "outputs": [
    {
     "data": {
      "text/html": [
       "<div>\n",
       "<table border=\"1\" class=\"dataframe\">\n",
       "  <thead>\n",
       "    <tr style=\"text-align: right;\">\n",
       "      <th></th>\n",
       "      <th>dist</th>\n",
       "      <th>dom_tot_gross</th>\n",
       "      <th>genre</th>\n",
       "      <th>title</th>\n",
       "      <th>movieid</th>\n",
       "      <th>num_theaters</th>\n",
       "      <th>open_rev</th>\n",
       "      <th>budget</th>\n",
       "      <th>rating</th>\n",
       "      <th>release</th>\n",
       "      <th>runtime</th>\n",
       "      <th>time_theaters</th>\n",
       "      <th>month</th>\n",
       "      <th>decay</th>\n",
       "    </tr>\n",
       "  </thead>\n",
       "  <tbody>\n",
       "    <tr>\n",
       "      <th>2125</th>\n",
       "      <td>Universal</td>\n",
       "      <td>84277700.0</td>\n",
       "      <td>Action / Crime</td>\n",
       "      <td>Miami Vice</td>\n",
       "      <td>2126</td>\n",
       "      <td>3026.0</td>\n",
       "      <td>34167500.0</td>\n",
       "      <td>135000000.0</td>\n",
       "      <td>R</td>\n",
       "      <td>2006-07-28</td>\n",
       "      <td>146.0</td>\n",
       "      <td>70.0</td>\n",
       "      <td>7.0</td>\n",
       "      <td>-0.668087</td>\n",
       "    </tr>\n",
       "    <tr>\n",
       "      <th>2491</th>\n",
       "      <td>Paramount</td>\n",
       "      <td>18043900.0</td>\n",
       "      <td>Comedy / Drama</td>\n",
       "      <td>Young Adult</td>\n",
       "      <td>2493</td>\n",
       "      <td>987.0</td>\n",
       "      <td>NaN</td>\n",
       "      <td>12000000.0</td>\n",
       "      <td>R</td>\n",
       "      <td>2011-12-09</td>\n",
       "      <td>94.0</td>\n",
       "      <td>77.0</td>\n",
       "      <td>12.0</td>\n",
       "      <td>-0.206543</td>\n",
       "    </tr>\n",
       "    <tr>\n",
       "      <th>40</th>\n",
       "      <td>Buena Vista</td>\n",
       "      <td>41145900.0</td>\n",
       "      <td>Comedy</td>\n",
       "      <td>Taking Care of Business</td>\n",
       "      <td>41</td>\n",
       "      <td>1176.0</td>\n",
       "      <td>7445500.0</td>\n",
       "      <td>NaN</td>\n",
       "      <td>R</td>\n",
       "      <td>1990-08-17</td>\n",
       "      <td>108.0</td>\n",
       "      <td>35.0</td>\n",
       "      <td>8.0</td>\n",
       "      <td>-0.282272</td>\n",
       "    </tr>\n",
       "    <tr>\n",
       "      <th>3376</th>\n",
       "      <td>Fox</td>\n",
       "      <td>197893100.0</td>\n",
       "      <td>Animation</td>\n",
       "      <td>The Croods</td>\n",
       "      <td>3378</td>\n",
       "      <td>4065.0</td>\n",
       "      <td>47816800.0</td>\n",
       "      <td>135000000.0</td>\n",
       "      <td>PG</td>\n",
       "      <td>2013-03-22</td>\n",
       "      <td>98.0</td>\n",
       "      <td>182.0</td>\n",
       "      <td>3.0</td>\n",
       "      <td>-0.320947</td>\n",
       "    </tr>\n",
       "    <tr>\n",
       "      <th>105</th>\n",
       "      <td>Atlantic</td>\n",
       "      <td>37211500.0</td>\n",
       "      <td>Horror Comedy</td>\n",
       "      <td>Night of the Comet</td>\n",
       "      <td>106</td>\n",
       "      <td>1098.0</td>\n",
       "      <td>9271100.0</td>\n",
       "      <td>NaN</td>\n",
       "      <td>PG-13</td>\n",
       "      <td>1984-11-16</td>\n",
       "      <td>95.0</td>\n",
       "      <td>42.0</td>\n",
       "      <td>11.0</td>\n",
       "      <td>-0.334983</td>\n",
       "    </tr>\n",
       "  </tbody>\n",
       "</table>\n",
       "</div>"
      ],
      "text/plain": [
       "             dist  dom_tot_gross           genre                    title  \\\n",
       "2125    Universal     84277700.0  Action / Crime               Miami Vice   \n",
       "2491    Paramount     18043900.0  Comedy / Drama              Young Adult   \n",
       "40    Buena Vista     41145900.0          Comedy  Taking Care of Business   \n",
       "3376          Fox    197893100.0       Animation               The Croods   \n",
       "105      Atlantic     37211500.0   Horror Comedy       Night of the Comet   \n",
       "\n",
       "      movieid  num_theaters    open_rev       budget rating    release  \\\n",
       "2125     2126        3026.0  34167500.0  135000000.0      R 2006-07-28   \n",
       "2491     2493         987.0         NaN   12000000.0      R 2011-12-09   \n",
       "40         41        1176.0   7445500.0          NaN      R 1990-08-17   \n",
       "3376     3378        4065.0  47816800.0  135000000.0     PG 2013-03-22   \n",
       "105       106        1098.0   9271100.0          NaN  PG-13 1984-11-16   \n",
       "\n",
       "      runtime  time_theaters  month     decay  \n",
       "2125    146.0           70.0    7.0 -0.668087  \n",
       "2491     94.0           77.0   12.0 -0.206543  \n",
       "40      108.0           35.0    8.0 -0.282272  \n",
       "3376     98.0          182.0    3.0 -0.320947  \n",
       "105      95.0           42.0   11.0 -0.334983  "
      ]
     },
     "execution_count": 757,
     "metadata": {},
     "output_type": "execute_result"
    }
   ],
   "source": [
    "X_train.head()"
   ]
  },
  {
   "cell_type": "markdown",
   "metadata": {},
   "source": [
    "### First Model: num_theaters, runtime, month, rating, genre ###"
   ]
  },
  {
   "cell_type": "code",
   "execution_count": 774,
   "metadata": {
    "collapsed": true
   },
   "outputs": [],
   "source": [
    "def create_Xy(data, y_category, X_categories, intercept=True):\n",
    "    formula = y_category + ' ~ '\n",
    "    for c in X_categories:\n",
    "        formula = formula + c + ' + '\n",
    "    formula = formula[:-3]\n",
    "    if not(intercept):\n",
    "        formula = formula + ' - 1'\n",
    "    y, X = dmatrices(formula, data=data, return_type='dataframe')\n",
    "    return y, X"
   ]
  },
  {
   "cell_type": "code",
   "execution_count": 788,
   "metadata": {
    "collapsed": false
   },
   "outputs": [],
   "source": [
    "features_1 = ['num_theaters','runtime','C(month)','rating','genre']\n",
    "y1_train, X1_train = create_Xy(X_train,'decay',features_1, intercept=False)\n",
    "y1_test, X1_test = create_Xy(X_train,'decay',features_1, intercept=False)\n",
    "y1_report, X1_report = create_Xy(X_train,'decay',features_1, intercept=False)"
   ]
  },
  {
   "cell_type": "code",
   "execution_count": 789,
   "metadata": {
    "collapsed": false
   },
   "outputs": [],
   "source": [
    "model_1 = sm.OLS(y1_train, X1_train)\n",
    "results_1 = model_1.fit()"
   ]
  },
  {
   "cell_type": "code",
   "execution_count": 790,
   "metadata": {
    "collapsed": false
   },
   "outputs": [
    {
     "data": {
      "text/html": [
       "<table class=\"simpletable\">\n",
       "<caption>OLS Regression Results</caption>\n",
       "<tr>\n",
       "  <th>Dep. Variable:</th>          <td>decay</td>      <th>  R-squared:         </th> <td>   0.234</td>\n",
       "</tr>\n",
       "<tr>\n",
       "  <th>Model:</th>                   <td>OLS</td>       <th>  Adj. R-squared:    </th> <td>   0.192</td>\n",
       "</tr>\n",
       "<tr>\n",
       "  <th>Method:</th>             <td>Least Squares</td>  <th>  F-statistic:       </th> <td>   5.538</td>\n",
       "</tr>\n",
       "<tr>\n",
       "  <th>Date:</th>             <td>Mon, 18 Apr 2016</td> <th>  Prob (F-statistic):</th> <td>5.66e-43</td>\n",
       "</tr>\n",
       "<tr>\n",
       "  <th>Time:</th>                 <td>17:36:49</td>     <th>  Log-Likelihood:    </th> <td>  86.619</td>\n",
       "</tr>\n",
       "<tr>\n",
       "  <th>No. Observations:</th>      <td>  1511</td>      <th>  AIC:               </th> <td>  -13.24</td>\n",
       "</tr>\n",
       "<tr>\n",
       "  <th>Df Residuals:</th>          <td>  1431</td>      <th>  BIC:               </th> <td>   412.4</td>\n",
       "</tr>\n",
       "<tr>\n",
       "  <th>Df Model:</th>              <td>    79</td>      <th>                     </th>     <td> </td>   \n",
       "</tr>\n",
       "<tr>\n",
       "  <th>Covariance Type:</th>      <td>nonrobust</td>    <th>                     </th>     <td> </td>   \n",
       "</tr>\n",
       "</table>\n",
       "<table class=\"simpletable\">\n",
       "<tr>\n",
       "               <td></td>                  <th>coef</th>     <th>std err</th>      <th>t</th>      <th>P>|t|</th> <th>[95.0% Conf. Int.]</th> \n",
       "</tr>\n",
       "<tr>\n",
       "  <th>C(month)[1.0]</th>               <td>   -0.4169</td> <td>    0.074</td> <td>   -5.647</td> <td> 0.000</td> <td>   -0.562    -0.272</td>\n",
       "</tr>\n",
       "<tr>\n",
       "  <th>C(month)[2.0]</th>               <td>   -0.3749</td> <td>    0.071</td> <td>   -5.251</td> <td> 0.000</td> <td>   -0.515    -0.235</td>\n",
       "</tr>\n",
       "<tr>\n",
       "  <th>C(month)[3.0]</th>               <td>   -0.3340</td> <td>    0.072</td> <td>   -4.629</td> <td> 0.000</td> <td>   -0.475    -0.192</td>\n",
       "</tr>\n",
       "<tr>\n",
       "  <th>C(month)[4.0]</th>               <td>   -0.3695</td> <td>    0.072</td> <td>   -5.160</td> <td> 0.000</td> <td>   -0.510    -0.229</td>\n",
       "</tr>\n",
       "<tr>\n",
       "  <th>C(month)[5.0]</th>               <td>   -0.2983</td> <td>    0.075</td> <td>   -3.976</td> <td> 0.000</td> <td>   -0.445    -0.151</td>\n",
       "</tr>\n",
       "<tr>\n",
       "  <th>C(month)[6.0]</th>               <td>   -0.3248</td> <td>    0.073</td> <td>   -4.428</td> <td> 0.000</td> <td>   -0.469    -0.181</td>\n",
       "</tr>\n",
       "<tr>\n",
       "  <th>C(month)[7.0]</th>               <td>   -0.3982</td> <td>    0.073</td> <td>   -5.443</td> <td> 0.000</td> <td>   -0.542    -0.255</td>\n",
       "</tr>\n",
       "<tr>\n",
       "  <th>C(month)[8.0]</th>               <td>   -0.3935</td> <td>    0.071</td> <td>   -5.519</td> <td> 0.000</td> <td>   -0.533    -0.254</td>\n",
       "</tr>\n",
       "<tr>\n",
       "  <th>C(month)[9.0]</th>               <td>   -0.3800</td> <td>    0.074</td> <td>   -5.167</td> <td> 0.000</td> <td>   -0.524    -0.236</td>\n",
       "</tr>\n",
       "<tr>\n",
       "  <th>C(month)[10.0]</th>              <td>   -0.3872</td> <td>    0.073</td> <td>   -5.339</td> <td> 0.000</td> <td>   -0.529    -0.245</td>\n",
       "</tr>\n",
       "<tr>\n",
       "  <th>C(month)[11.0]</th>              <td>   -0.3826</td> <td>    0.072</td> <td>   -5.294</td> <td> 0.000</td> <td>   -0.524    -0.241</td>\n",
       "</tr>\n",
       "<tr>\n",
       "  <th>C(month)[12.0]</th>              <td>   -0.2654</td> <td>    0.073</td> <td>   -3.611</td> <td> 0.000</td> <td>   -0.410    -0.121</td>\n",
       "</tr>\n",
       "<tr>\n",
       "  <th>rating[T.PG]</th>                <td>    0.0006</td> <td>    0.042</td> <td>    0.015</td> <td> 0.988</td> <td>   -0.082     0.083</td>\n",
       "</tr>\n",
       "<tr>\n",
       "  <th>rating[T.PG-13]</th>             <td>   -0.0690</td> <td>    0.046</td> <td>   -1.490</td> <td> 0.136</td> <td>   -0.160     0.022</td>\n",
       "</tr>\n",
       "<tr>\n",
       "  <th>rating[T.R]</th>                 <td>   -0.0532</td> <td>    0.047</td> <td>   -1.142</td> <td> 0.254</td> <td>   -0.145     0.038</td>\n",
       "</tr>\n",
       "<tr>\n",
       "  <th>rating[T.Unrated]</th>           <td>    0.1144</td> <td>    0.089</td> <td>    1.289</td> <td> 0.198</td> <td>   -0.060     0.288</td>\n",
       "</tr>\n",
       "<tr>\n",
       "  <th>genre[T.Action / Adventure]</th> <td>    0.0197</td> <td>    0.057</td> <td>    0.343</td> <td> 0.732</td> <td>   -0.093     0.132</td>\n",
       "</tr>\n",
       "<tr>\n",
       "  <th>genre[T.Action / Crime]</th>     <td>   -0.3479</td> <td>    0.089</td> <td>   -3.905</td> <td> 0.000</td> <td>   -0.523    -0.173</td>\n",
       "</tr>\n",
       "<tr>\n",
       "  <th>genre[T.Action Comedy]</th>      <td>    0.0128</td> <td>    0.046</td> <td>    0.281</td> <td> 0.779</td> <td>   -0.077     0.102</td>\n",
       "</tr>\n",
       "<tr>\n",
       "  <th>genre[T.Action Drama]</th>       <td>    0.0035</td> <td>    0.060</td> <td>    0.058</td> <td> 0.953</td> <td>   -0.115     0.122</td>\n",
       "</tr>\n",
       "<tr>\n",
       "  <th>genre[T.Action Fantasy]</th>     <td>   -0.0221</td> <td>    0.139</td> <td>   -0.159</td> <td> 0.874</td> <td>   -0.295     0.251</td>\n",
       "</tr>\n",
       "<tr>\n",
       "  <th>genre[T.Action Horror]</th>      <td>   -0.1412</td> <td>    0.066</td> <td>   -2.138</td> <td> 0.033</td> <td>   -0.271    -0.012</td>\n",
       "</tr>\n",
       "<tr>\n",
       "  <th>genre[T.Action Thriller]</th>    <td>    0.0473</td> <td>    0.052</td> <td>    0.910</td> <td> 0.363</td> <td>   -0.055     0.149</td>\n",
       "</tr>\n",
       "<tr>\n",
       "  <th>genre[T.Adventure]</th>          <td>    0.0737</td> <td>    0.075</td> <td>    0.983</td> <td> 0.326</td> <td>   -0.073     0.221</td>\n",
       "</tr>\n",
       "<tr>\n",
       "  <th>genre[T.Adventure Comedy]</th>   <td>    0.0054</td> <td>    0.140</td> <td>    0.039</td> <td> 0.969</td> <td>   -0.268     0.279</td>\n",
       "</tr>\n",
       "<tr>\n",
       "  <th>genre[T.Animation]</th>          <td>    0.1312</td> <td>    0.047</td> <td>    2.800</td> <td> 0.005</td> <td>    0.039     0.223</td>\n",
       "</tr>\n",
       "<tr>\n",
       "  <th>genre[T.Comedy]</th>             <td>    0.0348</td> <td>    0.033</td> <td>    1.044</td> <td> 0.297</td> <td>   -0.031     0.100</td>\n",
       "</tr>\n",
       "<tr>\n",
       "  <th>genre[T.Comedy / Drama]</th>     <td>    0.0158</td> <td>    0.044</td> <td>    0.359</td> <td> 0.720</td> <td>   -0.070     0.102</td>\n",
       "</tr>\n",
       "<tr>\n",
       "  <th>genre[T.Comedy Thriller]</th>    <td>    0.0293</td> <td>    0.101</td> <td>    0.290</td> <td> 0.772</td> <td>   -0.169     0.228</td>\n",
       "</tr>\n",
       "<tr>\n",
       "  <th>genre[T.Concert]</th>            <td>   -0.0207</td> <td>    0.122</td> <td>   -0.170</td> <td> 0.865</td> <td>   -0.260     0.218</td>\n",
       "</tr>\n",
       "<tr>\n",
       "  <th>genre[T.Crime]</th>              <td>   -0.0147</td> <td>    0.169</td> <td>   -0.087</td> <td> 0.931</td> <td>   -0.347     0.318</td>\n",
       "</tr>\n",
       "<tr>\n",
       "  <th>genre[T.Crime Comedy]</th>       <td>   -0.0134</td> <td>    0.066</td> <td>   -0.203</td> <td> 0.839</td> <td>   -0.143     0.116</td>\n",
       "</tr>\n",
       "<tr>\n",
       "  <th>genre[T.Crime Drama]</th>        <td>    0.0062</td> <td>    0.053</td> <td>    0.118</td> <td> 0.906</td> <td>   -0.097     0.109</td>\n",
       "</tr>\n",
       "<tr>\n",
       "  <th>genre[T.Crime Thriller]</th>     <td>   -0.0836</td> <td>    0.121</td> <td>   -0.689</td> <td> 0.491</td> <td>   -0.321     0.154</td>\n",
       "</tr>\n",
       "<tr>\n",
       "  <th>genre[T.Documentary]</th>        <td>    0.1620</td> <td>    0.082</td> <td>    1.987</td> <td> 0.047</td> <td>    0.002     0.322</td>\n",
       "</tr>\n",
       "<tr>\n",
       "  <th>genre[T.Drama]</th>              <td>    0.1008</td> <td>    0.040</td> <td>    2.542</td> <td> 0.011</td> <td>    0.023     0.179</td>\n",
       "</tr>\n",
       "<tr>\n",
       "  <th>genre[T.Drama / Thriller]</th>   <td>    0.0196</td> <td>    0.054</td> <td>    0.364</td> <td> 0.716</td> <td>   -0.086     0.125</td>\n",
       "</tr>\n",
       "<tr>\n",
       "  <th>genre[T.Family]</th>             <td>    0.0773</td> <td>    0.080</td> <td>    0.962</td> <td> 0.336</td> <td>   -0.080     0.235</td>\n",
       "</tr>\n",
       "<tr>\n",
       "  <th>genre[T.Family Adventure]</th>   <td>    0.0051</td> <td>    0.056</td> <td>    0.091</td> <td> 0.927</td> <td>   -0.105     0.115</td>\n",
       "</tr>\n",
       "<tr>\n",
       "  <th>genre[T.Family Comedy]</th>      <td>    0.0105</td> <td>    0.048</td> <td>    0.218</td> <td> 0.828</td> <td>   -0.084     0.105</td>\n",
       "</tr>\n",
       "<tr>\n",
       "  <th>genre[T.Fantasy]</th>            <td>    0.0457</td> <td>    0.056</td> <td>    0.815</td> <td> 0.415</td> <td>   -0.064     0.156</td>\n",
       "</tr>\n",
       "<tr>\n",
       "  <th>genre[T.Fantasy Comedy]</th>     <td>    0.0397</td> <td>    0.061</td> <td>    0.652</td> <td> 0.514</td> <td>   -0.080     0.159</td>\n",
       "</tr>\n",
       "<tr>\n",
       "  <th>genre[T.Fantasy Drama]</th>      <td>    0.1995</td> <td>    0.089</td> <td>    2.245</td> <td> 0.025</td> <td>    0.025     0.374</td>\n",
       "</tr>\n",
       "<tr>\n",
       "  <th>genre[T.Foreign]</th>            <td>    0.3092</td> <td>    0.140</td> <td>    2.206</td> <td> 0.028</td> <td>    0.034     0.584</td>\n",
       "</tr>\n",
       "<tr>\n",
       "  <th>genre[T.Foreign / Action]</th>   <td>    0.2466</td> <td>    0.237</td> <td>    1.038</td> <td> 0.299</td> <td>   -0.219     0.712</td>\n",
       "</tr>\n",
       "<tr>\n",
       "  <th>genre[T.Foreign / Horror]</th>   <td>    0.0766</td> <td>    0.237</td> <td>    0.323</td> <td> 0.747</td> <td>   -0.389     0.542</td>\n",
       "</tr>\n",
       "<tr>\n",
       "  <th>genre[T.Historical Drama]</th>   <td>    0.1705</td> <td>    0.141</td> <td>    1.213</td> <td> 0.225</td> <td>   -0.105     0.446</td>\n",
       "</tr>\n",
       "<tr>\n",
       "  <th>genre[T.Historical Epic]</th>    <td>   -0.0174</td> <td>    0.171</td> <td>   -0.102</td> <td> 0.919</td> <td>   -0.353     0.318</td>\n",
       "</tr>\n",
       "<tr>\n",
       "  <th>genre[T.Horror]</th>             <td>   -0.0689</td> <td>    0.038</td> <td>   -1.817</td> <td> 0.069</td> <td>   -0.143     0.005</td>\n",
       "</tr>\n",
       "<tr>\n",
       "  <th>genre[T.Horror Comedy]</th>      <td>    0.0215</td> <td>    0.077</td> <td>    0.279</td> <td> 0.780</td> <td>   -0.130     0.173</td>\n",
       "</tr>\n",
       "<tr>\n",
       "  <th>genre[T.Horror Thriller]</th>    <td>   -0.0578</td> <td>    0.080</td> <td>   -0.723</td> <td> 0.470</td> <td>   -0.215     0.099</td>\n",
       "</tr>\n",
       "<tr>\n",
       "  <th>genre[T.IMAX]</th>               <td>    0.1144</td> <td>    0.089</td> <td>    1.289</td> <td> 0.198</td> <td>   -0.060     0.288</td>\n",
       "</tr>\n",
       "<tr>\n",
       "  <th>genre[T.Music Drama]</th>        <td>    0.0396</td> <td>    0.061</td> <td>    0.652</td> <td> 0.515</td> <td>   -0.080     0.159</td>\n",
       "</tr>\n",
       "<tr>\n",
       "  <th>genre[T.Musical]</th>            <td>    0.1733</td> <td>    0.078</td> <td>    2.232</td> <td> 0.026</td> <td>    0.021     0.326</td>\n",
       "</tr>\n",
       "<tr>\n",
       "  <th>genre[T.Period Action]</th>      <td>   -0.0344</td> <td>    0.094</td> <td>   -0.367</td> <td> 0.714</td> <td>   -0.218     0.149</td>\n",
       "</tr>\n",
       "<tr>\n",
       "  <th>genre[T.Period Adventure]</th>   <td>    0.0780</td> <td>    0.075</td> <td>    1.047</td> <td> 0.295</td> <td>   -0.068     0.224</td>\n",
       "</tr>\n",
       "<tr>\n",
       "  <th>genre[T.Period Comedy]</th>      <td>    0.0412</td> <td>    0.122</td> <td>    0.338</td> <td> 0.735</td> <td>   -0.198     0.280</td>\n",
       "</tr>\n",
       "<tr>\n",
       "  <th>genre[T.Period Drama]</th>       <td>    0.1621</td> <td>    0.062</td> <td>    2.594</td> <td> 0.010</td> <td>    0.040     0.285</td>\n",
       "</tr>\n",
       "<tr>\n",
       "  <th>genre[T.Period Horror]</th>      <td>    0.0111</td> <td>    0.122</td> <td>    0.091</td> <td> 0.928</td> <td>   -0.228     0.250</td>\n",
       "</tr>\n",
       "<tr>\n",
       "  <th>genre[T.Romance]</th>            <td>    0.0258</td> <td>    0.052</td> <td>    0.500</td> <td> 0.617</td> <td>   -0.075     0.127</td>\n",
       "</tr>\n",
       "<tr>\n",
       "  <th>genre[T.Romantic Adventure]</th> <td>    0.1341</td> <td>    0.238</td> <td>    0.563</td> <td> 0.574</td> <td>   -0.333     0.601</td>\n",
       "</tr>\n",
       "<tr>\n",
       "  <th>genre[T.Romantic Comedy]</th>    <td>    0.0428</td> <td>    0.039</td> <td>    1.100</td> <td> 0.271</td> <td>   -0.034     0.119</td>\n",
       "</tr>\n",
       "<tr>\n",
       "  <th>genre[T.Romantic Thriller]</th>  <td>    0.0177</td> <td>    0.077</td> <td>    0.230</td> <td> 0.818</td> <td>   -0.133     0.168</td>\n",
       "</tr>\n",
       "<tr>\n",
       "  <th>genre[T.Sci-Fi]</th>             <td>   -0.0582</td> <td>    0.088</td> <td>   -0.659</td> <td> 0.510</td> <td>   -0.231     0.115</td>\n",
       "</tr>\n",
       "<tr>\n",
       "  <th>genre[T.Sci-Fi Action]</th>      <td>    0.0686</td> <td>    0.054</td> <td>    1.273</td> <td> 0.203</td> <td>   -0.037     0.174</td>\n",
       "</tr>\n",
       "<tr>\n",
       "  <th>genre[T.Sci-Fi Adventure]</th>   <td>   -0.0012</td> <td>    0.066</td> <td>   -0.018</td> <td> 0.985</td> <td>   -0.130     0.128</td>\n",
       "</tr>\n",
       "<tr>\n",
       "  <th>genre[T.Sci-Fi Comedy]</th>      <td>    0.0718</td> <td>    0.076</td> <td>    0.950</td> <td> 0.342</td> <td>   -0.077     0.220</td>\n",
       "</tr>\n",
       "<tr>\n",
       "  <th>genre[T.Sci-Fi Fantasy]</th>     <td>   -0.0569</td> <td>    0.169</td> <td>   -0.336</td> <td> 0.737</td> <td>   -0.389     0.275</td>\n",
       "</tr>\n",
       "<tr>\n",
       "  <th>genre[T.Sci-Fi Horror]</th>      <td>   -0.2642</td> <td>    0.084</td> <td>   -3.161</td> <td> 0.002</td> <td>   -0.428    -0.100</td>\n",
       "</tr>\n",
       "<tr>\n",
       "  <th>genre[T.Sci-Fi Thriller]</th>    <td>   -0.0112</td> <td>    0.077</td> <td>   -0.145</td> <td> 0.884</td> <td>   -0.162     0.140</td>\n",
       "</tr>\n",
       "<tr>\n",
       "  <th>genre[T.Sports Action]</th>      <td>   -0.0574</td> <td>    0.140</td> <td>   -0.409</td> <td> 0.682</td> <td>   -0.332     0.218</td>\n",
       "</tr>\n",
       "<tr>\n",
       "  <th>genre[T.Sports Comedy]</th>      <td>   -0.0037</td> <td>    0.060</td> <td>   -0.061</td> <td> 0.951</td> <td>   -0.120     0.113</td>\n",
       "</tr>\n",
       "<tr>\n",
       "  <th>genre[T.Sports Drama]</th>       <td>    0.0537</td> <td>    0.057</td> <td>    0.947</td> <td> 0.344</td> <td>   -0.058     0.165</td>\n",
       "</tr>\n",
       "<tr>\n",
       "  <th>genre[T.Thriller]</th>           <td>   -0.0241</td> <td>    0.040</td> <td>   -0.601</td> <td> 0.548</td> <td>   -0.103     0.055</td>\n",
       "</tr>\n",
       "<tr>\n",
       "  <th>genre[T.Unknown]</th>            <td>    0.0491</td> <td>    0.170</td> <td>    0.289</td> <td> 0.773</td> <td>   -0.285     0.383</td>\n",
       "</tr>\n",
       "<tr>\n",
       "  <th>genre[T.War]</th>                <td>    0.0908</td> <td>    0.064</td> <td>    1.422</td> <td> 0.155</td> <td>   -0.034     0.216</td>\n",
       "</tr>\n",
       "<tr>\n",
       "  <th>genre[T.War Drama]</th>          <td>    0.0444</td> <td>    0.089</td> <td>    0.501</td> <td> 0.616</td> <td>   -0.129     0.218</td>\n",
       "</tr>\n",
       "<tr>\n",
       "  <th>genre[T.Western]</th>            <td>    0.0836</td> <td>    0.068</td> <td>    1.232</td> <td> 0.218</td> <td>   -0.049     0.217</td>\n",
       "</tr>\n",
       "<tr>\n",
       "  <th>genre[T.Western Comedy]</th>     <td>    0.0859</td> <td>    0.238</td> <td>    0.362</td> <td> 0.718</td> <td>   -0.380     0.552</td>\n",
       "</tr>\n",
       "<tr>\n",
       "  <th>num_theaters</th>                <td>-7.218e-05</td> <td> 8.09e-06</td> <td>   -8.917</td> <td> 0.000</td> <td>-8.81e-05 -5.63e-05</td>\n",
       "</tr>\n",
       "<tr>\n",
       "  <th>runtime</th>                     <td>    0.0013</td> <td>    0.000</td> <td>    3.035</td> <td> 0.002</td> <td>    0.000     0.002</td>\n",
       "</tr>\n",
       "</table>\n",
       "<table class=\"simpletable\">\n",
       "<tr>\n",
       "  <th>Omnibus:</th>       <td>1000.548</td> <th>  Durbin-Watson:     </th> <td>   2.024</td> \n",
       "</tr>\n",
       "<tr>\n",
       "  <th>Prob(Omnibus):</th>  <td> 0.000</td>  <th>  Jarque-Bera (JB):  </th> <td>26350.094</td>\n",
       "</tr>\n",
       "<tr>\n",
       "  <th>Skew:</th>           <td>-2.674</td>  <th>  Prob(JB):          </th> <td>    0.00</td> \n",
       "</tr>\n",
       "<tr>\n",
       "  <th>Kurtosis:</th>       <td>22.747</td>  <th>  Cond. No.          </th> <td>5.01e+18</td> \n",
       "</tr>\n",
       "</table>"
      ],
      "text/plain": [
       "<class 'statsmodels.iolib.summary.Summary'>\n",
       "\"\"\"\n",
       "                            OLS Regression Results                            \n",
       "==============================================================================\n",
       "Dep. Variable:                  decay   R-squared:                       0.234\n",
       "Model:                            OLS   Adj. R-squared:                  0.192\n",
       "Method:                 Least Squares   F-statistic:                     5.538\n",
       "Date:                Mon, 18 Apr 2016   Prob (F-statistic):           5.66e-43\n",
       "Time:                        17:36:49   Log-Likelihood:                 86.619\n",
       "No. Observations:                1511   AIC:                            -13.24\n",
       "Df Residuals:                    1431   BIC:                             412.4\n",
       "Df Model:                          79                                         \n",
       "Covariance Type:            nonrobust                                         \n",
       "===============================================================================================\n",
       "                                  coef    std err          t      P>|t|      [95.0% Conf. Int.]\n",
       "-----------------------------------------------------------------------------------------------\n",
       "C(month)[1.0]                  -0.4169      0.074     -5.647      0.000        -0.562    -0.272\n",
       "C(month)[2.0]                  -0.3749      0.071     -5.251      0.000        -0.515    -0.235\n",
       "C(month)[3.0]                  -0.3340      0.072     -4.629      0.000        -0.475    -0.192\n",
       "C(month)[4.0]                  -0.3695      0.072     -5.160      0.000        -0.510    -0.229\n",
       "C(month)[5.0]                  -0.2983      0.075     -3.976      0.000        -0.445    -0.151\n",
       "C(month)[6.0]                  -0.3248      0.073     -4.428      0.000        -0.469    -0.181\n",
       "C(month)[7.0]                  -0.3982      0.073     -5.443      0.000        -0.542    -0.255\n",
       "C(month)[8.0]                  -0.3935      0.071     -5.519      0.000        -0.533    -0.254\n",
       "C(month)[9.0]                  -0.3800      0.074     -5.167      0.000        -0.524    -0.236\n",
       "C(month)[10.0]                 -0.3872      0.073     -5.339      0.000        -0.529    -0.245\n",
       "C(month)[11.0]                 -0.3826      0.072     -5.294      0.000        -0.524    -0.241\n",
       "C(month)[12.0]                 -0.2654      0.073     -3.611      0.000        -0.410    -0.121\n",
       "rating[T.PG]                    0.0006      0.042      0.015      0.988        -0.082     0.083\n",
       "rating[T.PG-13]                -0.0690      0.046     -1.490      0.136        -0.160     0.022\n",
       "rating[T.R]                    -0.0532      0.047     -1.142      0.254        -0.145     0.038\n",
       "rating[T.Unrated]               0.1144      0.089      1.289      0.198        -0.060     0.288\n",
       "genre[T.Action / Adventure]     0.0197      0.057      0.343      0.732        -0.093     0.132\n",
       "genre[T.Action / Crime]        -0.3479      0.089     -3.905      0.000        -0.523    -0.173\n",
       "genre[T.Action Comedy]          0.0128      0.046      0.281      0.779        -0.077     0.102\n",
       "genre[T.Action Drama]           0.0035      0.060      0.058      0.953        -0.115     0.122\n",
       "genre[T.Action Fantasy]        -0.0221      0.139     -0.159      0.874        -0.295     0.251\n",
       "genre[T.Action Horror]         -0.1412      0.066     -2.138      0.033        -0.271    -0.012\n",
       "genre[T.Action Thriller]        0.0473      0.052      0.910      0.363        -0.055     0.149\n",
       "genre[T.Adventure]              0.0737      0.075      0.983      0.326        -0.073     0.221\n",
       "genre[T.Adventure Comedy]       0.0054      0.140      0.039      0.969        -0.268     0.279\n",
       "genre[T.Animation]              0.1312      0.047      2.800      0.005         0.039     0.223\n",
       "genre[T.Comedy]                 0.0348      0.033      1.044      0.297        -0.031     0.100\n",
       "genre[T.Comedy / Drama]         0.0158      0.044      0.359      0.720        -0.070     0.102\n",
       "genre[T.Comedy Thriller]        0.0293      0.101      0.290      0.772        -0.169     0.228\n",
       "genre[T.Concert]               -0.0207      0.122     -0.170      0.865        -0.260     0.218\n",
       "genre[T.Crime]                 -0.0147      0.169     -0.087      0.931        -0.347     0.318\n",
       "genre[T.Crime Comedy]          -0.0134      0.066     -0.203      0.839        -0.143     0.116\n",
       "genre[T.Crime Drama]            0.0062      0.053      0.118      0.906        -0.097     0.109\n",
       "genre[T.Crime Thriller]        -0.0836      0.121     -0.689      0.491        -0.321     0.154\n",
       "genre[T.Documentary]            0.1620      0.082      1.987      0.047         0.002     0.322\n",
       "genre[T.Drama]                  0.1008      0.040      2.542      0.011         0.023     0.179\n",
       "genre[T.Drama / Thriller]       0.0196      0.054      0.364      0.716        -0.086     0.125\n",
       "genre[T.Family]                 0.0773      0.080      0.962      0.336        -0.080     0.235\n",
       "genre[T.Family Adventure]       0.0051      0.056      0.091      0.927        -0.105     0.115\n",
       "genre[T.Family Comedy]          0.0105      0.048      0.218      0.828        -0.084     0.105\n",
       "genre[T.Fantasy]                0.0457      0.056      0.815      0.415        -0.064     0.156\n",
       "genre[T.Fantasy Comedy]         0.0397      0.061      0.652      0.514        -0.080     0.159\n",
       "genre[T.Fantasy Drama]          0.1995      0.089      2.245      0.025         0.025     0.374\n",
       "genre[T.Foreign]                0.3092      0.140      2.206      0.028         0.034     0.584\n",
       "genre[T.Foreign / Action]       0.2466      0.237      1.038      0.299        -0.219     0.712\n",
       "genre[T.Foreign / Horror]       0.0766      0.237      0.323      0.747        -0.389     0.542\n",
       "genre[T.Historical Drama]       0.1705      0.141      1.213      0.225        -0.105     0.446\n",
       "genre[T.Historical Epic]       -0.0174      0.171     -0.102      0.919        -0.353     0.318\n",
       "genre[T.Horror]                -0.0689      0.038     -1.817      0.069        -0.143     0.005\n",
       "genre[T.Horror Comedy]          0.0215      0.077      0.279      0.780        -0.130     0.173\n",
       "genre[T.Horror Thriller]       -0.0578      0.080     -0.723      0.470        -0.215     0.099\n",
       "genre[T.IMAX]                   0.1144      0.089      1.289      0.198        -0.060     0.288\n",
       "genre[T.Music Drama]            0.0396      0.061      0.652      0.515        -0.080     0.159\n",
       "genre[T.Musical]                0.1733      0.078      2.232      0.026         0.021     0.326\n",
       "genre[T.Period Action]         -0.0344      0.094     -0.367      0.714        -0.218     0.149\n",
       "genre[T.Period Adventure]       0.0780      0.075      1.047      0.295        -0.068     0.224\n",
       "genre[T.Period Comedy]          0.0412      0.122      0.338      0.735        -0.198     0.280\n",
       "genre[T.Period Drama]           0.1621      0.062      2.594      0.010         0.040     0.285\n",
       "genre[T.Period Horror]          0.0111      0.122      0.091      0.928        -0.228     0.250\n",
       "genre[T.Romance]                0.0258      0.052      0.500      0.617        -0.075     0.127\n",
       "genre[T.Romantic Adventure]     0.1341      0.238      0.563      0.574        -0.333     0.601\n",
       "genre[T.Romantic Comedy]        0.0428      0.039      1.100      0.271        -0.034     0.119\n",
       "genre[T.Romantic Thriller]      0.0177      0.077      0.230      0.818        -0.133     0.168\n",
       "genre[T.Sci-Fi]                -0.0582      0.088     -0.659      0.510        -0.231     0.115\n",
       "genre[T.Sci-Fi Action]          0.0686      0.054      1.273      0.203        -0.037     0.174\n",
       "genre[T.Sci-Fi Adventure]      -0.0012      0.066     -0.018      0.985        -0.130     0.128\n",
       "genre[T.Sci-Fi Comedy]          0.0718      0.076      0.950      0.342        -0.077     0.220\n",
       "genre[T.Sci-Fi Fantasy]        -0.0569      0.169     -0.336      0.737        -0.389     0.275\n",
       "genre[T.Sci-Fi Horror]         -0.2642      0.084     -3.161      0.002        -0.428    -0.100\n",
       "genre[T.Sci-Fi Thriller]       -0.0112      0.077     -0.145      0.884        -0.162     0.140\n",
       "genre[T.Sports Action]         -0.0574      0.140     -0.409      0.682        -0.332     0.218\n",
       "genre[T.Sports Comedy]         -0.0037      0.060     -0.061      0.951        -0.120     0.113\n",
       "genre[T.Sports Drama]           0.0537      0.057      0.947      0.344        -0.058     0.165\n",
       "genre[T.Thriller]              -0.0241      0.040     -0.601      0.548        -0.103     0.055\n",
       "genre[T.Unknown]                0.0491      0.170      0.289      0.773        -0.285     0.383\n",
       "genre[T.War]                    0.0908      0.064      1.422      0.155        -0.034     0.216\n",
       "genre[T.War Drama]              0.0444      0.089      0.501      0.616        -0.129     0.218\n",
       "genre[T.Western]                0.0836      0.068      1.232      0.218        -0.049     0.217\n",
       "genre[T.Western Comedy]         0.0859      0.238      0.362      0.718        -0.380     0.552\n",
       "num_theaters                -7.218e-05   8.09e-06     -8.917      0.000     -8.81e-05 -5.63e-05\n",
       "runtime                         0.0013      0.000      3.035      0.002         0.000     0.002\n",
       "==============================================================================\n",
       "Omnibus:                     1000.548   Durbin-Watson:                   2.024\n",
       "Prob(Omnibus):                  0.000   Jarque-Bera (JB):            26350.094\n",
       "Skew:                          -2.674   Prob(JB):                         0.00\n",
       "Kurtosis:                      22.747   Cond. No.                     5.01e+18\n",
       "==============================================================================\n",
       "\n",
       "Warnings:\n",
       "[1] Standard Errors assume that the covariance matrix of the errors is correctly specified.\n",
       "[2] The smallest eigenvalue is 3.62e-28. This might indicate that there are\n",
       "strong multicollinearity problems or that the design matrix is singular.\n",
       "\"\"\""
      ]
     },
     "execution_count": 790,
     "metadata": {},
     "output_type": "execute_result"
    }
   ],
   "source": [
    "results_1.summary()"
   ]
  },
  {
   "cell_type": "code",
   "execution_count": 779,
   "metadata": {
    "collapsed": false
   },
   "outputs": [],
   "source": [
    "y1_pred_test = results_1.predict(X1_test)"
   ]
  },
  {
   "cell_type": "code",
   "execution_count": 780,
   "metadata": {
    "collapsed": false
   },
   "outputs": [
    {
     "data": {
      "text/plain": [
       "0.2341612974319226"
      ]
     },
     "execution_count": 780,
     "metadata": {},
     "output_type": "execute_result"
    }
   ],
   "source": [
    "r2_1 = r2_score(y1_test, y1_pred_test)\n",
    "r2_1"
   ]
  },
  {
   "cell_type": "code",
   "execution_count": 781,
   "metadata": {
    "collapsed": false
   },
   "outputs": [
    {
     "data": {
      "text/plain": [
       "0.2341612974319226"
      ]
     },
     "execution_count": 781,
     "metadata": {},
     "output_type": "execute_result"
    }
   ],
   "source": [
    "adjr2_1 = 1 - (1 - r2_1) * ((len(y1_test) - 1) / (len(y1_test) - len(X1_test.columns) - 1))\n",
    "adjr2_1"
   ]
  },
  {
   "cell_type": "markdown",
   "metadata": {},
   "source": [
    "### Second Model: num_theaters, runtime, month, rating"
   ]
  },
  {
   "cell_type": "code",
   "execution_count": 782,
   "metadata": {
    "collapsed": true
   },
   "outputs": [],
   "source": [
    "features_2 = ['num_theaters','runtime','C(month)','rating']\n",
    "y2_train, X2_train = create_Xy(X_train,'decay',features_2, intercept=False)\n",
    "y2_test, X2_test = create_Xy(X_train,'decay',features_2, intercept=False)\n",
    "y2_report, X2_report = create_Xy(X_train,'decay',features_2, intercept=False)"
   ]
  },
  {
   "cell_type": "code",
   "execution_count": 783,
   "metadata": {
    "collapsed": true
   },
   "outputs": [],
   "source": [
    "model_2 = sm.OLS(y2_train, X2_train)\n",
    "results_2 = model_2.fit()"
   ]
  },
  {
   "cell_type": "code",
   "execution_count": 784,
   "metadata": {
    "collapsed": false
   },
   "outputs": [
    {
     "data": {
      "text/html": [
       "<table class=\"simpletable\">\n",
       "<caption>OLS Regression Results</caption>\n",
       "<tr>\n",
       "  <th>Dep. Variable:</th>          <td>decay</td>      <th>  R-squared:         </th> <td>   0.179</td>\n",
       "</tr>\n",
       "<tr>\n",
       "  <th>Model:</th>                   <td>OLS</td>       <th>  Adj. R-squared:    </th> <td>   0.169</td>\n",
       "</tr>\n",
       "<tr>\n",
       "  <th>Method:</th>             <td>Least Squares</td>  <th>  F-statistic:       </th> <td>   19.09</td>\n",
       "</tr>\n",
       "<tr>\n",
       "  <th>Date:</th>             <td>Mon, 18 Apr 2016</td> <th>  Prob (F-statistic):</th> <td>1.19e-52</td>\n",
       "</tr>\n",
       "<tr>\n",
       "  <th>Time:</th>                 <td>17:35:49</td>     <th>  Log-Likelihood:    </th> <td>  33.630</td>\n",
       "</tr>\n",
       "<tr>\n",
       "  <th>No. Observations:</th>      <td>  1511</td>      <th>  AIC:               </th> <td>  -31.26</td>\n",
       "</tr>\n",
       "<tr>\n",
       "  <th>Df Residuals:</th>          <td>  1493</td>      <th>  BIC:               </th> <td>   64.51</td>\n",
       "</tr>\n",
       "<tr>\n",
       "  <th>Df Model:</th>              <td>    17</td>      <th>                     </th>     <td> </td>   \n",
       "</tr>\n",
       "<tr>\n",
       "  <th>Covariance Type:</th>      <td>nonrobust</td>    <th>                     </th>     <td> </td>   \n",
       "</tr>\n",
       "</table>\n",
       "<table class=\"simpletable\">\n",
       "<tr>\n",
       "          <td></td>             <th>coef</th>     <th>std err</th>      <th>t</th>      <th>P>|t|</th> <th>[95.0% Conf. Int.]</th> \n",
       "</tr>\n",
       "<tr>\n",
       "  <th>C(month)[1.0]</th>     <td>   -0.3748</td> <td>    0.056</td> <td>   -6.633</td> <td> 0.000</td> <td>   -0.486    -0.264</td>\n",
       "</tr>\n",
       "<tr>\n",
       "  <th>C(month)[2.0]</th>     <td>   -0.3060</td> <td>    0.054</td> <td>   -5.633</td> <td> 0.000</td> <td>   -0.413    -0.199</td>\n",
       "</tr>\n",
       "<tr>\n",
       "  <th>C(month)[3.0]</th>     <td>   -0.2701</td> <td>    0.054</td> <td>   -5.012</td> <td> 0.000</td> <td>   -0.376    -0.164</td>\n",
       "</tr>\n",
       "<tr>\n",
       "  <th>C(month)[4.0]</th>     <td>   -0.3072</td> <td>    0.054</td> <td>   -5.712</td> <td> 0.000</td> <td>   -0.413    -0.202</td>\n",
       "</tr>\n",
       "<tr>\n",
       "  <th>C(month)[5.0]</th>     <td>   -0.2250</td> <td>    0.058</td> <td>   -3.868</td> <td> 0.000</td> <td>   -0.339    -0.111</td>\n",
       "</tr>\n",
       "<tr>\n",
       "  <th>C(month)[6.0]</th>     <td>   -0.2621</td> <td>    0.055</td> <td>   -4.745</td> <td> 0.000</td> <td>   -0.370    -0.154</td>\n",
       "</tr>\n",
       "<tr>\n",
       "  <th>C(month)[7.0]</th>     <td>   -0.3287</td> <td>    0.055</td> <td>   -5.995</td> <td> 0.000</td> <td>   -0.436    -0.221</td>\n",
       "</tr>\n",
       "<tr>\n",
       "  <th>C(month)[8.0]</th>     <td>   -0.3320</td> <td>    0.054</td> <td>   -6.199</td> <td> 0.000</td> <td>   -0.437    -0.227</td>\n",
       "</tr>\n",
       "<tr>\n",
       "  <th>C(month)[9.0]</th>     <td>   -0.3139</td> <td>    0.056</td> <td>   -5.563</td> <td> 0.000</td> <td>   -0.425    -0.203</td>\n",
       "</tr>\n",
       "<tr>\n",
       "  <th>C(month)[10.0]</th>    <td>   -0.3108</td> <td>    0.055</td> <td>   -5.628</td> <td> 0.000</td> <td>   -0.419    -0.202</td>\n",
       "</tr>\n",
       "<tr>\n",
       "  <th>C(month)[11.0]</th>    <td>   -0.3075</td> <td>    0.054</td> <td>   -5.683</td> <td> 0.000</td> <td>   -0.414    -0.201</td>\n",
       "</tr>\n",
       "<tr>\n",
       "  <th>C(month)[12.0]</th>    <td>   -0.1817</td> <td>    0.056</td> <td>   -3.241</td> <td> 0.001</td> <td>   -0.292    -0.072</td>\n",
       "</tr>\n",
       "<tr>\n",
       "  <th>rating[T.PG]</th>      <td>   -0.0579</td> <td>    0.039</td> <td>   -1.495</td> <td> 0.135</td> <td>   -0.134     0.018</td>\n",
       "</tr>\n",
       "<tr>\n",
       "  <th>rating[T.PG-13]</th>   <td>   -0.1518</td> <td>    0.038</td> <td>   -3.978</td> <td> 0.000</td> <td>   -0.227    -0.077</td>\n",
       "</tr>\n",
       "<tr>\n",
       "  <th>rating[T.R]</th>       <td>   -0.1663</td> <td>    0.038</td> <td>   -4.337</td> <td> 0.000</td> <td>   -0.241    -0.091</td>\n",
       "</tr>\n",
       "<tr>\n",
       "  <th>rating[T.Unrated]</th> <td>    0.1343</td> <td>    0.175</td> <td>    0.769</td> <td> 0.442</td> <td>   -0.208     0.477</td>\n",
       "</tr>\n",
       "<tr>\n",
       "  <th>num_theaters</th>      <td>-8.122e-05</td> <td> 7.01e-06</td> <td>  -11.586</td> <td> 0.000</td> <td> -9.5e-05 -6.75e-05</td>\n",
       "</tr>\n",
       "<tr>\n",
       "  <th>runtime</th>           <td>    0.0019</td> <td>    0.000</td> <td>    5.319</td> <td> 0.000</td> <td>    0.001     0.003</td>\n",
       "</tr>\n",
       "</table>\n",
       "<table class=\"simpletable\">\n",
       "<tr>\n",
       "  <th>Omnibus:</th>       <td>1005.581</td> <th>  Durbin-Watson:     </th> <td>   2.027</td> \n",
       "</tr>\n",
       "<tr>\n",
       "  <th>Prob(Omnibus):</th>  <td> 0.000</td>  <th>  Jarque-Bera (JB):  </th> <td>26237.142</td>\n",
       "</tr>\n",
       "<tr>\n",
       "  <th>Skew:</th>           <td>-2.697</td>  <th>  Prob(JB):          </th> <td>    0.00</td> \n",
       "</tr>\n",
       "<tr>\n",
       "  <th>Kurtosis:</th>       <td>22.688</td>  <th>  Cond. No.          </th> <td>7.94e+04</td> \n",
       "</tr>\n",
       "</table>"
      ],
      "text/plain": [
       "<class 'statsmodels.iolib.summary.Summary'>\n",
       "\"\"\"\n",
       "                            OLS Regression Results                            \n",
       "==============================================================================\n",
       "Dep. Variable:                  decay   R-squared:                       0.179\n",
       "Model:                            OLS   Adj. R-squared:                  0.169\n",
       "Method:                 Least Squares   F-statistic:                     19.09\n",
       "Date:                Mon, 18 Apr 2016   Prob (F-statistic):           1.19e-52\n",
       "Time:                        17:35:49   Log-Likelihood:                 33.630\n",
       "No. Observations:                1511   AIC:                            -31.26\n",
       "Df Residuals:                    1493   BIC:                             64.51\n",
       "Df Model:                          17                                         \n",
       "Covariance Type:            nonrobust                                         \n",
       "=====================================================================================\n",
       "                        coef    std err          t      P>|t|      [95.0% Conf. Int.]\n",
       "-------------------------------------------------------------------------------------\n",
       "C(month)[1.0]        -0.3748      0.056     -6.633      0.000        -0.486    -0.264\n",
       "C(month)[2.0]        -0.3060      0.054     -5.633      0.000        -0.413    -0.199\n",
       "C(month)[3.0]        -0.2701      0.054     -5.012      0.000        -0.376    -0.164\n",
       "C(month)[4.0]        -0.3072      0.054     -5.712      0.000        -0.413    -0.202\n",
       "C(month)[5.0]        -0.2250      0.058     -3.868      0.000        -0.339    -0.111\n",
       "C(month)[6.0]        -0.2621      0.055     -4.745      0.000        -0.370    -0.154\n",
       "C(month)[7.0]        -0.3287      0.055     -5.995      0.000        -0.436    -0.221\n",
       "C(month)[8.0]        -0.3320      0.054     -6.199      0.000        -0.437    -0.227\n",
       "C(month)[9.0]        -0.3139      0.056     -5.563      0.000        -0.425    -0.203\n",
       "C(month)[10.0]       -0.3108      0.055     -5.628      0.000        -0.419    -0.202\n",
       "C(month)[11.0]       -0.3075      0.054     -5.683      0.000        -0.414    -0.201\n",
       "C(month)[12.0]       -0.1817      0.056     -3.241      0.001        -0.292    -0.072\n",
       "rating[T.PG]         -0.0579      0.039     -1.495      0.135        -0.134     0.018\n",
       "rating[T.PG-13]      -0.1518      0.038     -3.978      0.000        -0.227    -0.077\n",
       "rating[T.R]          -0.1663      0.038     -4.337      0.000        -0.241    -0.091\n",
       "rating[T.Unrated]     0.1343      0.175      0.769      0.442        -0.208     0.477\n",
       "num_theaters      -8.122e-05   7.01e-06    -11.586      0.000      -9.5e-05 -6.75e-05\n",
       "runtime               0.0019      0.000      5.319      0.000         0.001     0.003\n",
       "==============================================================================\n",
       "Omnibus:                     1005.581   Durbin-Watson:                   2.027\n",
       "Prob(Omnibus):                  0.000   Jarque-Bera (JB):            26237.142\n",
       "Skew:                          -2.697   Prob(JB):                         0.00\n",
       "Kurtosis:                      22.688   Cond. No.                     7.94e+04\n",
       "==============================================================================\n",
       "\n",
       "Warnings:\n",
       "[1] Standard Errors assume that the covariance matrix of the errors is correctly specified.\n",
       "[2] The condition number is large, 7.94e+04. This might indicate that there are\n",
       "strong multicollinearity or other numerical problems.\n",
       "\"\"\""
      ]
     },
     "execution_count": 784,
     "metadata": {},
     "output_type": "execute_result"
    }
   ],
   "source": [
    "results_2.summary()"
   ]
  },
  {
   "cell_type": "code",
   "execution_count": 785,
   "metadata": {
    "collapsed": true
   },
   "outputs": [],
   "source": [
    "y2_pred_test = results_2.predict(X2_test)"
   ]
  },
  {
   "cell_type": "code",
   "execution_count": 786,
   "metadata": {
    "collapsed": false
   },
   "outputs": [
    {
     "data": {
      "text/plain": [
       "0.17851821354530384"
      ]
     },
     "execution_count": 786,
     "metadata": {},
     "output_type": "execute_result"
    }
   ],
   "source": [
    "r2_2 = r2_score(y2_test, y2_pred_test)\n",
    "r2_2"
   ]
  },
  {
   "cell_type": "code",
   "execution_count": 787,
   "metadata": {
    "collapsed": false
   },
   "outputs": [
    {
     "data": {
      "text/plain": [
       "0.14375367340880763"
      ]
     },
     "execution_count": 787,
     "metadata": {},
     "output_type": "execute_result"
    }
   ],
   "source": [
    "adjr2_4 = 1 - (1 - r2_4) * ((len(y4_test) - 1) / (len(y4_test) - len(X4_test.columns) - 1))\n",
    "adjr2_4"
   ]
  },
  {
   "cell_type": "markdown",
   "metadata": {},
   "source": [
    "### Third Model: num_theaters, runtime, month, genre"
   ]
  },
  {
   "cell_type": "code",
   "execution_count": 791,
   "metadata": {
    "collapsed": true
   },
   "outputs": [],
   "source": [
    "features_3 = ['num_theaters','runtime','C(month)','genre']\n",
    "y3_train, X3_train = create_Xy(X_train,'decay',features_3, intercept=False)\n",
    "y3_test, X3_test = create_Xy(X_train,'decay',features_3, intercept=False)\n",
    "y3_report, X3_report = create_Xy(X_train,'decay',features_3, intercept=False)"
   ]
  },
  {
   "cell_type": "code",
   "execution_count": 792,
   "metadata": {
    "collapsed": true
   },
   "outputs": [],
   "source": [
    "model_3 = sm.OLS(y3_train, X3_train)\n",
    "results_3 = model_3.fit()"
   ]
  },
  {
   "cell_type": "code",
   "execution_count": 793,
   "metadata": {
    "collapsed": false
   },
   "outputs": [
    {
     "data": {
      "text/html": [
       "<table class=\"simpletable\">\n",
       "<caption>OLS Regression Results</caption>\n",
       "<tr>\n",
       "  <th>Dep. Variable:</th>          <td>decay</td>      <th>  R-squared:         </th> <td>   0.228</td>\n",
       "</tr>\n",
       "<tr>\n",
       "  <th>Model:</th>                   <td>OLS</td>       <th>  Adj. R-squared:    </th> <td>   0.188</td>\n",
       "</tr>\n",
       "<tr>\n",
       "  <th>Method:</th>             <td>Least Squares</td>  <th>  F-statistic:       </th> <td>   5.587</td>\n",
       "</tr>\n",
       "<tr>\n",
       "  <th>Date:</th>             <td>Mon, 18 Apr 2016</td> <th>  Prob (F-statistic):</th> <td>3.39e-42</td>\n",
       "</tr>\n",
       "<tr>\n",
       "  <th>Time:</th>                 <td>17:37:42</td>     <th>  Log-Likelihood:    </th> <td>  81.010</td>\n",
       "</tr>\n",
       "<tr>\n",
       "  <th>No. Observations:</th>      <td>  1511</td>      <th>  AIC:               </th> <td>  -8.020</td>\n",
       "</tr>\n",
       "<tr>\n",
       "  <th>Df Residuals:</th>          <td>  1434</td>      <th>  BIC:               </th> <td>   401.7</td>\n",
       "</tr>\n",
       "<tr>\n",
       "  <th>Df Model:</th>              <td>    76</td>      <th>                     </th>     <td> </td>   \n",
       "</tr>\n",
       "<tr>\n",
       "  <th>Covariance Type:</th>      <td>nonrobust</td>    <th>                     </th>     <td> </td>   \n",
       "</tr>\n",
       "</table>\n",
       "<table class=\"simpletable\">\n",
       "<tr>\n",
       "               <td></td>                  <th>coef</th>     <th>std err</th>      <th>t</th>      <th>P>|t|</th> <th>[95.0% Conf. Int.]</th> \n",
       "</tr>\n",
       "<tr>\n",
       "  <th>C(month)[1.0]</th>               <td>   -0.4605</td> <td>    0.062</td> <td>   -7.448</td> <td> 0.000</td> <td>   -0.582    -0.339</td>\n",
       "</tr>\n",
       "<tr>\n",
       "  <th>C(month)[2.0]</th>               <td>   -0.4178</td> <td>    0.060</td> <td>   -7.017</td> <td> 0.000</td> <td>   -0.535    -0.301</td>\n",
       "</tr>\n",
       "<tr>\n",
       "  <th>C(month)[3.0]</th>               <td>   -0.3736</td> <td>    0.060</td> <td>   -6.239</td> <td> 0.000</td> <td>   -0.491    -0.256</td>\n",
       "</tr>\n",
       "<tr>\n",
       "  <th>C(month)[4.0]</th>               <td>   -0.4091</td> <td>    0.060</td> <td>   -6.769</td> <td> 0.000</td> <td>   -0.528    -0.291</td>\n",
       "</tr>\n",
       "<tr>\n",
       "  <th>C(month)[5.0]</th>               <td>   -0.3376</td> <td>    0.063</td> <td>   -5.336</td> <td> 0.000</td> <td>   -0.462    -0.214</td>\n",
       "</tr>\n",
       "<tr>\n",
       "  <th>C(month)[6.0]</th>               <td>   -0.3609</td> <td>    0.062</td> <td>   -5.826</td> <td> 0.000</td> <td>   -0.482    -0.239</td>\n",
       "</tr>\n",
       "<tr>\n",
       "  <th>C(month)[7.0]</th>               <td>   -0.4395</td> <td>    0.061</td> <td>   -7.226</td> <td> 0.000</td> <td>   -0.559    -0.320</td>\n",
       "</tr>\n",
       "<tr>\n",
       "  <th>C(month)[8.0]</th>               <td>   -0.4360</td> <td>    0.059</td> <td>   -7.388</td> <td> 0.000</td> <td>   -0.552    -0.320</td>\n",
       "</tr>\n",
       "<tr>\n",
       "  <th>C(month)[9.0]</th>               <td>   -0.4247</td> <td>    0.061</td> <td>   -6.959</td> <td> 0.000</td> <td>   -0.544    -0.305</td>\n",
       "</tr>\n",
       "<tr>\n",
       "  <th>C(month)[10.0]</th>              <td>   -0.4277</td> <td>    0.060</td> <td>   -7.107</td> <td> 0.000</td> <td>   -0.546    -0.310</td>\n",
       "</tr>\n",
       "<tr>\n",
       "  <th>C(month)[11.0]</th>              <td>   -0.4228</td> <td>    0.062</td> <td>   -6.830</td> <td> 0.000</td> <td>   -0.544    -0.301</td>\n",
       "</tr>\n",
       "<tr>\n",
       "  <th>C(month)[12.0]</th>              <td>   -0.3025</td> <td>    0.062</td> <td>   -4.879</td> <td> 0.000</td> <td>   -0.424    -0.181</td>\n",
       "</tr>\n",
       "<tr>\n",
       "  <th>genre[T.Action / Adventure]</th> <td>    0.0180</td> <td>    0.057</td> <td>    0.316</td> <td> 0.752</td> <td>   -0.094     0.130</td>\n",
       "</tr>\n",
       "<tr>\n",
       "  <th>genre[T.Action / Crime]</th>     <td>   -0.3437</td> <td>    0.089</td> <td>   -3.851</td> <td> 0.000</td> <td>   -0.519    -0.169</td>\n",
       "</tr>\n",
       "<tr>\n",
       "  <th>genre[T.Action Comedy]</th>      <td>    0.0150</td> <td>    0.046</td> <td>    0.329</td> <td> 0.743</td> <td>   -0.075     0.105</td>\n",
       "</tr>\n",
       "<tr>\n",
       "  <th>genre[T.Action Drama]</th>       <td>    0.0046</td> <td>    0.060</td> <td>    0.077</td> <td> 0.939</td> <td>   -0.114     0.123</td>\n",
       "</tr>\n",
       "<tr>\n",
       "  <th>genre[T.Action Fantasy]</th>     <td>   -0.0260</td> <td>    0.139</td> <td>   -0.186</td> <td> 0.852</td> <td>   -0.299     0.247</td>\n",
       "</tr>\n",
       "<tr>\n",
       "  <th>genre[T.Action Horror]</th>      <td>   -0.1370</td> <td>    0.066</td> <td>   -2.074</td> <td> 0.038</td> <td>   -0.267    -0.007</td>\n",
       "</tr>\n",
       "<tr>\n",
       "  <th>genre[T.Action Thriller]</th>    <td>    0.0513</td> <td>    0.052</td> <td>    0.985</td> <td> 0.325</td> <td>   -0.051     0.154</td>\n",
       "</tr>\n",
       "<tr>\n",
       "  <th>genre[T.Adventure]</th>          <td>    0.1066</td> <td>    0.074</td> <td>    1.438</td> <td> 0.151</td> <td>   -0.039     0.252</td>\n",
       "</tr>\n",
       "<tr>\n",
       "  <th>genre[T.Adventure Comedy]</th>   <td>    0.0166</td> <td>    0.140</td> <td>    0.119</td> <td> 0.905</td> <td>   -0.257     0.291</td>\n",
       "</tr>\n",
       "<tr>\n",
       "  <th>genre[T.Animation]</th>          <td>    0.1900</td> <td>    0.040</td> <td>    4.707</td> <td> 0.000</td> <td>    0.111     0.269</td>\n",
       "</tr>\n",
       "<tr>\n",
       "  <th>genre[T.Comedy]</th>             <td>    0.0410</td> <td>    0.033</td> <td>    1.234</td> <td> 0.217</td> <td>   -0.024     0.106</td>\n",
       "</tr>\n",
       "<tr>\n",
       "  <th>genre[T.Comedy / Drama]</th>     <td>    0.0215</td> <td>    0.044</td> <td>    0.491</td> <td> 0.623</td> <td>   -0.064     0.107</td>\n",
       "</tr>\n",
       "<tr>\n",
       "  <th>genre[T.Comedy Thriller]</th>    <td>    0.0470</td> <td>    0.101</td> <td>    0.464</td> <td> 0.643</td> <td>   -0.152     0.246</td>\n",
       "</tr>\n",
       "<tr>\n",
       "  <th>genre[T.Concert]</th>            <td>   -0.0215</td> <td>    0.122</td> <td>   -0.176</td> <td> 0.860</td> <td>   -0.261     0.218</td>\n",
       "</tr>\n",
       "<tr>\n",
       "  <th>genre[T.Crime]</th>              <td>   -0.0074</td> <td>    0.170</td> <td>   -0.044</td> <td> 0.965</td> <td>   -0.340     0.326</td>\n",
       "</tr>\n",
       "<tr>\n",
       "  <th>genre[T.Crime Comedy]</th>       <td>   -0.0127</td> <td>    0.066</td> <td>   -0.191</td> <td> 0.848</td> <td>   -0.142     0.117</td>\n",
       "</tr>\n",
       "<tr>\n",
       "  <th>genre[T.Crime Drama]</th>        <td>    0.0129</td> <td>    0.053</td> <td>    0.247</td> <td> 0.805</td> <td>   -0.090     0.116</td>\n",
       "</tr>\n",
       "<tr>\n",
       "  <th>genre[T.Crime Thriller]</th>     <td>   -0.0849</td> <td>    0.122</td> <td>   -0.698</td> <td> 0.485</td> <td>   -0.323     0.154</td>\n",
       "</tr>\n",
       "<tr>\n",
       "  <th>genre[T.Documentary]</th>        <td>    0.1856</td> <td>    0.081</td> <td>    2.295</td> <td> 0.022</td> <td>    0.027     0.344</td>\n",
       "</tr>\n",
       "<tr>\n",
       "  <th>genre[T.Drama]</th>              <td>    0.1029</td> <td>    0.040</td> <td>    2.605</td> <td> 0.009</td> <td>    0.025     0.180</td>\n",
       "</tr>\n",
       "<tr>\n",
       "  <th>genre[T.Drama / Thriller]</th>   <td>    0.0249</td> <td>    0.054</td> <td>    0.461</td> <td> 0.645</td> <td>   -0.081     0.131</td>\n",
       "</tr>\n",
       "<tr>\n",
       "  <th>genre[T.Family]</th>             <td>    0.1370</td> <td>    0.077</td> <td>    1.772</td> <td> 0.077</td> <td>   -0.015     0.289</td>\n",
       "</tr>\n",
       "<tr>\n",
       "  <th>genre[T.Family Adventure]</th>   <td>    0.0638</td> <td>    0.052</td> <td>    1.219</td> <td> 0.223</td> <td>   -0.039     0.166</td>\n",
       "</tr>\n",
       "<tr>\n",
       "  <th>genre[T.Family Comedy]</th>      <td>    0.0638</td> <td>    0.044</td> <td>    1.434</td> <td> 0.152</td> <td>   -0.023     0.151</td>\n",
       "</tr>\n",
       "<tr>\n",
       "  <th>genre[T.Fantasy]</th>            <td>    0.0766</td> <td>    0.055</td> <td>    1.397</td> <td> 0.163</td> <td>   -0.031     0.184</td>\n",
       "</tr>\n",
       "<tr>\n",
       "  <th>genre[T.Fantasy Comedy]</th>     <td>    0.0570</td> <td>    0.060</td> <td>    0.945</td> <td> 0.345</td> <td>   -0.061     0.175</td>\n",
       "</tr>\n",
       "<tr>\n",
       "  <th>genre[T.Fantasy Drama]</th>      <td>    0.2014</td> <td>    0.089</td> <td>    2.273</td> <td> 0.023</td> <td>    0.028     0.375</td>\n",
       "</tr>\n",
       "<tr>\n",
       "  <th>genre[T.Foreign]</th>            <td>    0.3247</td> <td>    0.140</td> <td>    2.312</td> <td> 0.021</td> <td>    0.049     0.600</td>\n",
       "</tr>\n",
       "<tr>\n",
       "  <th>genre[T.Foreign / Action]</th>   <td>    0.2331</td> <td>    0.238</td> <td>    0.980</td> <td> 0.327</td> <td>   -0.234     0.700</td>\n",
       "</tr>\n",
       "<tr>\n",
       "  <th>genre[T.Foreign / Horror]</th>   <td>    0.0749</td> <td>    0.238</td> <td>    0.315</td> <td> 0.753</td> <td>   -0.392     0.542</td>\n",
       "</tr>\n",
       "<tr>\n",
       "  <th>genre[T.Historical Drama]</th>   <td>    0.1844</td> <td>    0.140</td> <td>    1.313</td> <td> 0.189</td> <td>   -0.091     0.460</td>\n",
       "</tr>\n",
       "<tr>\n",
       "  <th>genre[T.Historical Epic]</th>    <td>   -0.0058</td> <td>    0.171</td> <td>   -0.034</td> <td> 0.973</td> <td>   -0.342     0.331</td>\n",
       "</tr>\n",
       "<tr>\n",
       "  <th>genre[T.Horror]</th>             <td>   -0.0664</td> <td>    0.038</td> <td>   -1.751</td> <td> 0.080</td> <td>   -0.141     0.008</td>\n",
       "</tr>\n",
       "<tr>\n",
       "  <th>genre[T.Horror Comedy]</th>      <td>    0.0340</td> <td>    0.077</td> <td>    0.441</td> <td> 0.659</td> <td>   -0.117     0.185</td>\n",
       "</tr>\n",
       "<tr>\n",
       "  <th>genre[T.Horror Thriller]</th>    <td>   -0.0578</td> <td>    0.080</td> <td>   -0.722</td> <td> 0.471</td> <td>   -0.215     0.099</td>\n",
       "</tr>\n",
       "<tr>\n",
       "  <th>genre[T.IMAX]</th>               <td>    0.2723</td> <td>    0.173</td> <td>    1.575</td> <td> 0.116</td> <td>   -0.067     0.612</td>\n",
       "</tr>\n",
       "<tr>\n",
       "  <th>genre[T.Music Drama]</th>        <td>    0.0433</td> <td>    0.061</td> <td>    0.714</td> <td> 0.475</td> <td>   -0.076     0.162</td>\n",
       "</tr>\n",
       "<tr>\n",
       "  <th>genre[T.Musical]</th>            <td>    0.1831</td> <td>    0.077</td> <td>    2.364</td> <td> 0.018</td> <td>    0.031     0.335</td>\n",
       "</tr>\n",
       "<tr>\n",
       "  <th>genre[T.Period Action]</th>      <td>   -0.0210</td> <td>    0.094</td> <td>   -0.224</td> <td> 0.823</td> <td>   -0.205     0.163</td>\n",
       "</tr>\n",
       "<tr>\n",
       "  <th>genre[T.Period Adventure]</th>   <td>    0.0890</td> <td>    0.074</td> <td>    1.196</td> <td> 0.232</td> <td>   -0.057     0.235</td>\n",
       "</tr>\n",
       "<tr>\n",
       "  <th>genre[T.Period Comedy]</th>      <td>    0.0458</td> <td>    0.122</td> <td>    0.376</td> <td> 0.707</td> <td>   -0.194     0.285</td>\n",
       "</tr>\n",
       "<tr>\n",
       "  <th>genre[T.Period Drama]</th>       <td>    0.1824</td> <td>    0.062</td> <td>    2.956</td> <td> 0.003</td> <td>    0.061     0.303</td>\n",
       "</tr>\n",
       "<tr>\n",
       "  <th>genre[T.Period Horror]</th>      <td>    0.0186</td> <td>    0.122</td> <td>    0.152</td> <td> 0.879</td> <td>   -0.221     0.258</td>\n",
       "</tr>\n",
       "<tr>\n",
       "  <th>genre[T.Romance]</th>            <td>    0.0346</td> <td>    0.052</td> <td>    0.672</td> <td> 0.502</td> <td>   -0.066     0.136</td>\n",
       "</tr>\n",
       "<tr>\n",
       "  <th>genre[T.Romantic Adventure]</th> <td>    0.1196</td> <td>    0.239</td> <td>    0.502</td> <td> 0.616</td> <td>   -0.348     0.588</td>\n",
       "</tr>\n",
       "<tr>\n",
       "  <th>genre[T.Romantic Comedy]</th>    <td>    0.0449</td> <td>    0.039</td> <td>    1.164</td> <td> 0.245</td> <td>   -0.031     0.121</td>\n",
       "</tr>\n",
       "<tr>\n",
       "  <th>genre[T.Romantic Thriller]</th>  <td>    0.0173</td> <td>    0.077</td> <td>    0.225</td> <td> 0.822</td> <td>   -0.134     0.168</td>\n",
       "</tr>\n",
       "<tr>\n",
       "  <th>genre[T.Sci-Fi]</th>             <td>   -0.0550</td> <td>    0.088</td> <td>   -0.622</td> <td> 0.534</td> <td>   -0.228     0.118</td>\n",
       "</tr>\n",
       "<tr>\n",
       "  <th>genre[T.Sci-Fi Action]</th>      <td>    0.0709</td> <td>    0.054</td> <td>    1.315</td> <td> 0.189</td> <td>   -0.035     0.177</td>\n",
       "</tr>\n",
       "<tr>\n",
       "  <th>genre[T.Sci-Fi Adventure]</th>   <td>    0.0361</td> <td>    0.064</td> <td>    0.561</td> <td> 0.575</td> <td>   -0.090     0.162</td>\n",
       "</tr>\n",
       "<tr>\n",
       "  <th>genre[T.Sci-Fi Comedy]</th>      <td>    0.1061</td> <td>    0.075</td> <td>    1.424</td> <td> 0.155</td> <td>   -0.040     0.252</td>\n",
       "</tr>\n",
       "<tr>\n",
       "  <th>genre[T.Sci-Fi Fantasy]</th>     <td>   -0.0366</td> <td>    0.169</td> <td>   -0.216</td> <td> 0.829</td> <td>   -0.369     0.296</td>\n",
       "</tr>\n",
       "<tr>\n",
       "  <th>genre[T.Sci-Fi Horror]</th>      <td>   -0.2620</td> <td>    0.084</td> <td>   -3.128</td> <td> 0.002</td> <td>   -0.426    -0.098</td>\n",
       "</tr>\n",
       "<tr>\n",
       "  <th>genre[T.Sci-Fi Thriller]</th>    <td>   -0.0161</td> <td>    0.077</td> <td>   -0.209</td> <td> 0.834</td> <td>   -0.167     0.135</td>\n",
       "</tr>\n",
       "<tr>\n",
       "  <th>genre[T.Sports Action]</th>      <td>   -0.0254</td> <td>    0.140</td> <td>   -0.181</td> <td> 0.856</td> <td>   -0.300     0.249</td>\n",
       "</tr>\n",
       "<tr>\n",
       "  <th>genre[T.Sports Comedy]</th>      <td>   -0.0033</td> <td>    0.059</td> <td>   -0.055</td> <td> 0.956</td> <td>   -0.120     0.113</td>\n",
       "</tr>\n",
       "<tr>\n",
       "  <th>genre[T.Sports Drama]</th>       <td>    0.0682</td> <td>    0.056</td> <td>    1.209</td> <td> 0.227</td> <td>   -0.042     0.179</td>\n",
       "</tr>\n",
       "<tr>\n",
       "  <th>genre[T.Thriller]</th>           <td>   -0.0226</td> <td>    0.040</td> <td>   -0.563</td> <td> 0.574</td> <td>   -0.101     0.056</td>\n",
       "</tr>\n",
       "<tr>\n",
       "  <th>genre[T.Unknown]</th>            <td>    0.0513</td> <td>    0.171</td> <td>    0.301</td> <td> 0.764</td> <td>   -0.283     0.386</td>\n",
       "</tr>\n",
       "<tr>\n",
       "  <th>genre[T.War]</th>                <td>    0.0924</td> <td>    0.064</td> <td>    1.443</td> <td> 0.149</td> <td>   -0.033     0.218</td>\n",
       "</tr>\n",
       "<tr>\n",
       "  <th>genre[T.War Drama]</th>          <td>    0.0544</td> <td>    0.089</td> <td>    0.612</td> <td> 0.540</td> <td>   -0.120     0.229</td>\n",
       "</tr>\n",
       "<tr>\n",
       "  <th>genre[T.Western]</th>            <td>    0.0838</td> <td>    0.068</td> <td>    1.232</td> <td> 0.218</td> <td>   -0.050     0.217</td>\n",
       "</tr>\n",
       "<tr>\n",
       "  <th>genre[T.Western Comedy]</th>     <td>    0.0803</td> <td>    0.238</td> <td>    0.337</td> <td> 0.736</td> <td>   -0.387     0.547</td>\n",
       "</tr>\n",
       "<tr>\n",
       "  <th>num_theaters</th>                <td>-7.585e-05</td> <td> 7.79e-06</td> <td>   -9.740</td> <td> 0.000</td> <td>-9.11e-05 -6.06e-05</td>\n",
       "</tr>\n",
       "<tr>\n",
       "  <th>runtime</th>                     <td>    0.0012</td> <td>    0.000</td> <td>    2.833</td> <td> 0.005</td> <td>    0.000     0.002</td>\n",
       "</tr>\n",
       "</table>\n",
       "<table class=\"simpletable\">\n",
       "<tr>\n",
       "  <th>Omnibus:</th>       <td>999.688</td> <th>  Durbin-Watson:     </th> <td>   2.025</td> \n",
       "</tr>\n",
       "<tr>\n",
       "  <th>Prob(Omnibus):</th> <td> 0.000</td>  <th>  Jarque-Bera (JB):  </th> <td>26259.988</td>\n",
       "</tr>\n",
       "<tr>\n",
       "  <th>Skew:</th>          <td>-2.671</td>  <th>  Prob(JB):          </th> <td>    0.00</td> \n",
       "</tr>\n",
       "<tr>\n",
       "  <th>Kurtosis:</th>      <td>22.712</td>  <th>  Cond. No.          </th> <td>1.17e+05</td> \n",
       "</tr>\n",
       "</table>"
      ],
      "text/plain": [
       "<class 'statsmodels.iolib.summary.Summary'>\n",
       "\"\"\"\n",
       "                            OLS Regression Results                            \n",
       "==============================================================================\n",
       "Dep. Variable:                  decay   R-squared:                       0.228\n",
       "Model:                            OLS   Adj. R-squared:                  0.188\n",
       "Method:                 Least Squares   F-statistic:                     5.587\n",
       "Date:                Mon, 18 Apr 2016   Prob (F-statistic):           3.39e-42\n",
       "Time:                        17:37:42   Log-Likelihood:                 81.010\n",
       "No. Observations:                1511   AIC:                            -8.020\n",
       "Df Residuals:                    1434   BIC:                             401.7\n",
       "Df Model:                          76                                         \n",
       "Covariance Type:            nonrobust                                         \n",
       "===============================================================================================\n",
       "                                  coef    std err          t      P>|t|      [95.0% Conf. Int.]\n",
       "-----------------------------------------------------------------------------------------------\n",
       "C(month)[1.0]                  -0.4605      0.062     -7.448      0.000        -0.582    -0.339\n",
       "C(month)[2.0]                  -0.4178      0.060     -7.017      0.000        -0.535    -0.301\n",
       "C(month)[3.0]                  -0.3736      0.060     -6.239      0.000        -0.491    -0.256\n",
       "C(month)[4.0]                  -0.4091      0.060     -6.769      0.000        -0.528    -0.291\n",
       "C(month)[5.0]                  -0.3376      0.063     -5.336      0.000        -0.462    -0.214\n",
       "C(month)[6.0]                  -0.3609      0.062     -5.826      0.000        -0.482    -0.239\n",
       "C(month)[7.0]                  -0.4395      0.061     -7.226      0.000        -0.559    -0.320\n",
       "C(month)[8.0]                  -0.4360      0.059     -7.388      0.000        -0.552    -0.320\n",
       "C(month)[9.0]                  -0.4247      0.061     -6.959      0.000        -0.544    -0.305\n",
       "C(month)[10.0]                 -0.4277      0.060     -7.107      0.000        -0.546    -0.310\n",
       "C(month)[11.0]                 -0.4228      0.062     -6.830      0.000        -0.544    -0.301\n",
       "C(month)[12.0]                 -0.3025      0.062     -4.879      0.000        -0.424    -0.181\n",
       "genre[T.Action / Adventure]     0.0180      0.057      0.316      0.752        -0.094     0.130\n",
       "genre[T.Action / Crime]        -0.3437      0.089     -3.851      0.000        -0.519    -0.169\n",
       "genre[T.Action Comedy]          0.0150      0.046      0.329      0.743        -0.075     0.105\n",
       "genre[T.Action Drama]           0.0046      0.060      0.077      0.939        -0.114     0.123\n",
       "genre[T.Action Fantasy]        -0.0260      0.139     -0.186      0.852        -0.299     0.247\n",
       "genre[T.Action Horror]         -0.1370      0.066     -2.074      0.038        -0.267    -0.007\n",
       "genre[T.Action Thriller]        0.0513      0.052      0.985      0.325        -0.051     0.154\n",
       "genre[T.Adventure]              0.1066      0.074      1.438      0.151        -0.039     0.252\n",
       "genre[T.Adventure Comedy]       0.0166      0.140      0.119      0.905        -0.257     0.291\n",
       "genre[T.Animation]              0.1900      0.040      4.707      0.000         0.111     0.269\n",
       "genre[T.Comedy]                 0.0410      0.033      1.234      0.217        -0.024     0.106\n",
       "genre[T.Comedy / Drama]         0.0215      0.044      0.491      0.623        -0.064     0.107\n",
       "genre[T.Comedy Thriller]        0.0470      0.101      0.464      0.643        -0.152     0.246\n",
       "genre[T.Concert]               -0.0215      0.122     -0.176      0.860        -0.261     0.218\n",
       "genre[T.Crime]                 -0.0074      0.170     -0.044      0.965        -0.340     0.326\n",
       "genre[T.Crime Comedy]          -0.0127      0.066     -0.191      0.848        -0.142     0.117\n",
       "genre[T.Crime Drama]            0.0129      0.053      0.247      0.805        -0.090     0.116\n",
       "genre[T.Crime Thriller]        -0.0849      0.122     -0.698      0.485        -0.323     0.154\n",
       "genre[T.Documentary]            0.1856      0.081      2.295      0.022         0.027     0.344\n",
       "genre[T.Drama]                  0.1029      0.040      2.605      0.009         0.025     0.180\n",
       "genre[T.Drama / Thriller]       0.0249      0.054      0.461      0.645        -0.081     0.131\n",
       "genre[T.Family]                 0.1370      0.077      1.772      0.077        -0.015     0.289\n",
       "genre[T.Family Adventure]       0.0638      0.052      1.219      0.223        -0.039     0.166\n",
       "genre[T.Family Comedy]          0.0638      0.044      1.434      0.152        -0.023     0.151\n",
       "genre[T.Fantasy]                0.0766      0.055      1.397      0.163        -0.031     0.184\n",
       "genre[T.Fantasy Comedy]         0.0570      0.060      0.945      0.345        -0.061     0.175\n",
       "genre[T.Fantasy Drama]          0.2014      0.089      2.273      0.023         0.028     0.375\n",
       "genre[T.Foreign]                0.3247      0.140      2.312      0.021         0.049     0.600\n",
       "genre[T.Foreign / Action]       0.2331      0.238      0.980      0.327        -0.234     0.700\n",
       "genre[T.Foreign / Horror]       0.0749      0.238      0.315      0.753        -0.392     0.542\n",
       "genre[T.Historical Drama]       0.1844      0.140      1.313      0.189        -0.091     0.460\n",
       "genre[T.Historical Epic]       -0.0058      0.171     -0.034      0.973        -0.342     0.331\n",
       "genre[T.Horror]                -0.0664      0.038     -1.751      0.080        -0.141     0.008\n",
       "genre[T.Horror Comedy]          0.0340      0.077      0.441      0.659        -0.117     0.185\n",
       "genre[T.Horror Thriller]       -0.0578      0.080     -0.722      0.471        -0.215     0.099\n",
       "genre[T.IMAX]                   0.2723      0.173      1.575      0.116        -0.067     0.612\n",
       "genre[T.Music Drama]            0.0433      0.061      0.714      0.475        -0.076     0.162\n",
       "genre[T.Musical]                0.1831      0.077      2.364      0.018         0.031     0.335\n",
       "genre[T.Period Action]         -0.0210      0.094     -0.224      0.823        -0.205     0.163\n",
       "genre[T.Period Adventure]       0.0890      0.074      1.196      0.232        -0.057     0.235\n",
       "genre[T.Period Comedy]          0.0458      0.122      0.376      0.707        -0.194     0.285\n",
       "genre[T.Period Drama]           0.1824      0.062      2.956      0.003         0.061     0.303\n",
       "genre[T.Period Horror]          0.0186      0.122      0.152      0.879        -0.221     0.258\n",
       "genre[T.Romance]                0.0346      0.052      0.672      0.502        -0.066     0.136\n",
       "genre[T.Romantic Adventure]     0.1196      0.239      0.502      0.616        -0.348     0.588\n",
       "genre[T.Romantic Comedy]        0.0449      0.039      1.164      0.245        -0.031     0.121\n",
       "genre[T.Romantic Thriller]      0.0173      0.077      0.225      0.822        -0.134     0.168\n",
       "genre[T.Sci-Fi]                -0.0550      0.088     -0.622      0.534        -0.228     0.118\n",
       "genre[T.Sci-Fi Action]          0.0709      0.054      1.315      0.189        -0.035     0.177\n",
       "genre[T.Sci-Fi Adventure]       0.0361      0.064      0.561      0.575        -0.090     0.162\n",
       "genre[T.Sci-Fi Comedy]          0.1061      0.075      1.424      0.155        -0.040     0.252\n",
       "genre[T.Sci-Fi Fantasy]        -0.0366      0.169     -0.216      0.829        -0.369     0.296\n",
       "genre[T.Sci-Fi Horror]         -0.2620      0.084     -3.128      0.002        -0.426    -0.098\n",
       "genre[T.Sci-Fi Thriller]       -0.0161      0.077     -0.209      0.834        -0.167     0.135\n",
       "genre[T.Sports Action]         -0.0254      0.140     -0.181      0.856        -0.300     0.249\n",
       "genre[T.Sports Comedy]         -0.0033      0.059     -0.055      0.956        -0.120     0.113\n",
       "genre[T.Sports Drama]           0.0682      0.056      1.209      0.227        -0.042     0.179\n",
       "genre[T.Thriller]              -0.0226      0.040     -0.563      0.574        -0.101     0.056\n",
       "genre[T.Unknown]                0.0513      0.171      0.301      0.764        -0.283     0.386\n",
       "genre[T.War]                    0.0924      0.064      1.443      0.149        -0.033     0.218\n",
       "genre[T.War Drama]              0.0544      0.089      0.612      0.540        -0.120     0.229\n",
       "genre[T.Western]                0.0838      0.068      1.232      0.218        -0.050     0.217\n",
       "genre[T.Western Comedy]         0.0803      0.238      0.337      0.736        -0.387     0.547\n",
       "num_theaters                -7.585e-05   7.79e-06     -9.740      0.000     -9.11e-05 -6.06e-05\n",
       "runtime                         0.0012      0.000      2.833      0.005         0.000     0.002\n",
       "==============================================================================\n",
       "Omnibus:                      999.688   Durbin-Watson:                   2.025\n",
       "Prob(Omnibus):                  0.000   Jarque-Bera (JB):            26259.988\n",
       "Skew:                          -2.671   Prob(JB):                         0.00\n",
       "Kurtosis:                      22.712   Cond. No.                     1.17e+05\n",
       "==============================================================================\n",
       "\n",
       "Warnings:\n",
       "[1] Standard Errors assume that the covariance matrix of the errors is correctly specified.\n",
       "[2] The condition number is large, 1.17e+05. This might indicate that there are\n",
       "strong multicollinearity or other numerical problems.\n",
       "\"\"\""
      ]
     },
     "execution_count": 793,
     "metadata": {},
     "output_type": "execute_result"
    }
   ],
   "source": [
    "results_3.summary()"
   ]
  },
  {
   "cell_type": "code",
   "execution_count": 794,
   "metadata": {
    "collapsed": true
   },
   "outputs": [],
   "source": [
    "y3_pred_test = results_3.predict(X3_test)"
   ]
  },
  {
   "cell_type": "code",
   "execution_count": 795,
   "metadata": {
    "collapsed": false
   },
   "outputs": [
    {
     "data": {
      "text/plain": [
       "0.22845410242627051"
      ]
     },
     "execution_count": 795,
     "metadata": {},
     "output_type": "execute_result"
    }
   ],
   "source": [
    "r2_3 = r2_score(y3_test, y3_pred_test)\n",
    "r2_3"
   ]
  },
  {
   "cell_type": "code",
   "execution_count": 796,
   "metadata": {
    "collapsed": false
   },
   "outputs": [
    {
     "data": {
      "text/plain": [
       "0.22845410242627051"
      ]
     },
     "execution_count": 796,
     "metadata": {},
     "output_type": "execute_result"
    }
   ],
   "source": [
    "adjr2_3 = 1 - (1 - r2_3) * ((len(y3_test) - 1) / (len(y3_test) - len(X3_test.columns) - 1))\n",
    "adjr2_3"
   ]
  },
  {
   "cell_type": "markdown",
   "metadata": {},
   "source": [
    "### Fourth Model: num_theaters, runtime, month"
   ]
  },
  {
   "cell_type": "code",
   "execution_count": 797,
   "metadata": {
    "collapsed": true
   },
   "outputs": [],
   "source": [
    "features_4 = ['num_theaters','runtime','C(month)']\n",
    "y4_train, X4_train = create_Xy(X_train,'decay',features_4, intercept=False)\n",
    "y4_test, X4_test = create_Xy(X_train,'decay',features_4, intercept=False)\n",
    "y4_report, X4_report = create_Xy(X_train,'decay',features_4, intercept=False)"
   ]
  },
  {
   "cell_type": "code",
   "execution_count": 798,
   "metadata": {
    "collapsed": true
   },
   "outputs": [],
   "source": [
    "model_4 = sm.OLS(y4_train, X4_train)\n",
    "results_4 = model_4.fit()"
   ]
  },
  {
   "cell_type": "code",
   "execution_count": 799,
   "metadata": {
    "collapsed": false
   },
   "outputs": [
    {
     "data": {
      "text/html": [
       "<table class=\"simpletable\">\n",
       "<caption>OLS Regression Results</caption>\n",
       "<tr>\n",
       "  <th>Dep. Variable:</th>          <td>decay</td>      <th>  R-squared:         </th> <td>   0.148</td>\n",
       "</tr>\n",
       "<tr>\n",
       "  <th>Model:</th>                   <td>OLS</td>       <th>  Adj. R-squared:    </th> <td>   0.141</td>\n",
       "</tr>\n",
       "<tr>\n",
       "  <th>Method:</th>             <td>Least Squares</td>  <th>  F-statistic:       </th> <td>   20.03</td>\n",
       "</tr>\n",
       "<tr>\n",
       "  <th>Date:</th>             <td>Mon, 18 Apr 2016</td> <th>  Prob (F-statistic):</th> <td>4.80e-44</td>\n",
       "</tr>\n",
       "<tr>\n",
       "  <th>Time:</th>                 <td>17:38:43</td>     <th>  Log-Likelihood:    </th> <td>  6.2341</td>\n",
       "</tr>\n",
       "<tr>\n",
       "  <th>No. Observations:</th>      <td>  1511</td>      <th>  AIC:               </th> <td>   15.53</td>\n",
       "</tr>\n",
       "<tr>\n",
       "  <th>Df Residuals:</th>          <td>  1497</td>      <th>  BIC:               </th> <td>   90.02</td>\n",
       "</tr>\n",
       "<tr>\n",
       "  <th>Df Model:</th>              <td>    13</td>      <th>                     </th>     <td> </td>   \n",
       "</tr>\n",
       "<tr>\n",
       "  <th>Covariance Type:</th>      <td>nonrobust</td>    <th>                     </th>     <td> </td>   \n",
       "</tr>\n",
       "</table>\n",
       "<table class=\"simpletable\">\n",
       "<tr>\n",
       "         <td></td>           <th>coef</th>     <th>std err</th>      <th>t</th>      <th>P>|t|</th> <th>[95.0% Conf. Int.]</th> \n",
       "</tr>\n",
       "<tr>\n",
       "  <th>C(month)[1.0]</th>  <td>   -0.4463</td> <td>    0.048</td> <td>   -9.341</td> <td> 0.000</td> <td>   -0.540    -0.353</td>\n",
       "</tr>\n",
       "<tr>\n",
       "  <th>C(month)[2.0]</th>  <td>   -0.3722</td> <td>    0.046</td> <td>   -8.142</td> <td> 0.000</td> <td>   -0.462    -0.283</td>\n",
       "</tr>\n",
       "<tr>\n",
       "  <th>C(month)[3.0]</th>  <td>   -0.3257</td> <td>    0.045</td> <td>   -7.307</td> <td> 0.000</td> <td>   -0.413    -0.238</td>\n",
       "</tr>\n",
       "<tr>\n",
       "  <th>C(month)[4.0]</th>  <td>   -0.3679</td> <td>    0.045</td> <td>   -8.110</td> <td> 0.000</td> <td>   -0.457    -0.279</td>\n",
       "</tr>\n",
       "<tr>\n",
       "  <th>C(month)[5.0]</th>  <td>   -0.2783</td> <td>    0.050</td> <td>   -5.621</td> <td> 0.000</td> <td>   -0.375    -0.181</td>\n",
       "</tr>\n",
       "<tr>\n",
       "  <th>C(month)[6.0]</th>  <td>   -0.3116</td> <td>    0.047</td> <td>   -6.689</td> <td> 0.000</td> <td>   -0.403    -0.220</td>\n",
       "</tr>\n",
       "<tr>\n",
       "  <th>C(month)[7.0]</th>  <td>   -0.3835</td> <td>    0.046</td> <td>   -8.404</td> <td> 0.000</td> <td>   -0.473    -0.294</td>\n",
       "</tr>\n",
       "<tr>\n",
       "  <th>C(month)[8.0]</th>  <td>   -0.4044</td> <td>    0.044</td> <td>   -9.118</td> <td> 0.000</td> <td>   -0.491    -0.317</td>\n",
       "</tr>\n",
       "<tr>\n",
       "  <th>C(month)[9.0]</th>  <td>   -0.3881</td> <td>    0.048</td> <td>   -8.161</td> <td> 0.000</td> <td>   -0.481    -0.295</td>\n",
       "</tr>\n",
       "<tr>\n",
       "  <th>C(month)[10.0]</th> <td>   -0.3776</td> <td>    0.046</td> <td>   -8.154</td> <td> 0.000</td> <td>   -0.468    -0.287</td>\n",
       "</tr>\n",
       "<tr>\n",
       "  <th>C(month)[11.0]</th> <td>   -0.3458</td> <td>    0.047</td> <td>   -7.320</td> <td> 0.000</td> <td>   -0.438    -0.253</td>\n",
       "</tr>\n",
       "<tr>\n",
       "  <th>C(month)[12.0]</th> <td>   -0.2282</td> <td>    0.047</td> <td>   -4.806</td> <td> 0.000</td> <td>   -0.321    -0.135</td>\n",
       "</tr>\n",
       "<tr>\n",
       "  <th>num_theaters</th>   <td>-7.795e-05</td> <td> 6.88e-06</td> <td>  -11.331</td> <td> 0.000</td> <td>-9.14e-05 -6.45e-05</td>\n",
       "</tr>\n",
       "<tr>\n",
       "  <th>runtime</th>        <td>    0.0012</td> <td>    0.000</td> <td>    3.318</td> <td> 0.001</td> <td>    0.000     0.002</td>\n",
       "</tr>\n",
       "</table>\n",
       "<table class=\"simpletable\">\n",
       "<tr>\n",
       "  <th>Omnibus:</th>       <td>966.938</td> <th>  Durbin-Watson:     </th> <td>   2.040</td> \n",
       "</tr>\n",
       "<tr>\n",
       "  <th>Prob(Omnibus):</th> <td> 0.000</td>  <th>  Jarque-Bera (JB):  </th> <td>23168.684</td>\n",
       "</tr>\n",
       "<tr>\n",
       "  <th>Skew:</th>          <td>-2.576</td>  <th>  Prob(JB):          </th> <td>    0.00</td> \n",
       "</tr>\n",
       "<tr>\n",
       "  <th>Kurtosis:</th>      <td>21.479</td>  <th>  Cond. No.          </th> <td>5.63e+04</td> \n",
       "</tr>\n",
       "</table>"
      ],
      "text/plain": [
       "<class 'statsmodels.iolib.summary.Summary'>\n",
       "\"\"\"\n",
       "                            OLS Regression Results                            \n",
       "==============================================================================\n",
       "Dep. Variable:                  decay   R-squared:                       0.148\n",
       "Model:                            OLS   Adj. R-squared:                  0.141\n",
       "Method:                 Least Squares   F-statistic:                     20.03\n",
       "Date:                Mon, 18 Apr 2016   Prob (F-statistic):           4.80e-44\n",
       "Time:                        17:38:43   Log-Likelihood:                 6.2341\n",
       "No. Observations:                1511   AIC:                             15.53\n",
       "Df Residuals:                    1497   BIC:                             90.02\n",
       "Df Model:                          13                                         \n",
       "Covariance Type:            nonrobust                                         \n",
       "==================================================================================\n",
       "                     coef    std err          t      P>|t|      [95.0% Conf. Int.]\n",
       "----------------------------------------------------------------------------------\n",
       "C(month)[1.0]     -0.4463      0.048     -9.341      0.000        -0.540    -0.353\n",
       "C(month)[2.0]     -0.3722      0.046     -8.142      0.000        -0.462    -0.283\n",
       "C(month)[3.0]     -0.3257      0.045     -7.307      0.000        -0.413    -0.238\n",
       "C(month)[4.0]     -0.3679      0.045     -8.110      0.000        -0.457    -0.279\n",
       "C(month)[5.0]     -0.2783      0.050     -5.621      0.000        -0.375    -0.181\n",
       "C(month)[6.0]     -0.3116      0.047     -6.689      0.000        -0.403    -0.220\n",
       "C(month)[7.0]     -0.3835      0.046     -8.404      0.000        -0.473    -0.294\n",
       "C(month)[8.0]     -0.4044      0.044     -9.118      0.000        -0.491    -0.317\n",
       "C(month)[9.0]     -0.3881      0.048     -8.161      0.000        -0.481    -0.295\n",
       "C(month)[10.0]    -0.3776      0.046     -8.154      0.000        -0.468    -0.287\n",
       "C(month)[11.0]    -0.3458      0.047     -7.320      0.000        -0.438    -0.253\n",
       "C(month)[12.0]    -0.2282      0.047     -4.806      0.000        -0.321    -0.135\n",
       "num_theaters   -7.795e-05   6.88e-06    -11.331      0.000     -9.14e-05 -6.45e-05\n",
       "runtime            0.0012      0.000      3.318      0.001         0.000     0.002\n",
       "==============================================================================\n",
       "Omnibus:                      966.938   Durbin-Watson:                   2.040\n",
       "Prob(Omnibus):                  0.000   Jarque-Bera (JB):            23168.684\n",
       "Skew:                          -2.576   Prob(JB):                         0.00\n",
       "Kurtosis:                      21.479   Cond. No.                     5.63e+04\n",
       "==============================================================================\n",
       "\n",
       "Warnings:\n",
       "[1] Standard Errors assume that the covariance matrix of the errors is correctly specified.\n",
       "[2] The condition number is large, 5.63e+04. This might indicate that there are\n",
       "strong multicollinearity or other numerical problems.\n",
       "\"\"\""
      ]
     },
     "execution_count": 799,
     "metadata": {},
     "output_type": "execute_result"
    }
   ],
   "source": [
    "results_4.summary()"
   ]
  },
  {
   "cell_type": "code",
   "execution_count": 800,
   "metadata": {
    "collapsed": true
   },
   "outputs": [],
   "source": [
    "y4_pred_test = results_4.predict(X4_test)"
   ]
  },
  {
   "cell_type": "code",
   "execution_count": 801,
   "metadata": {
    "collapsed": false
   },
   "outputs": [
    {
     "data": {
      "text/plain": [
       "0.14818301332619732"
      ]
     },
     "execution_count": 801,
     "metadata": {},
     "output_type": "execute_result"
    }
   ],
   "source": [
    "r2_4 = r2_score(y4_test, y4_pred_test)\n",
    "r2_4"
   ]
  },
  {
   "cell_type": "code",
   "execution_count": 802,
   "metadata": {
    "collapsed": false
   },
   "outputs": [
    {
     "data": {
      "text/plain": [
       "0.14818301332619732"
      ]
     },
     "execution_count": 802,
     "metadata": {},
     "output_type": "execute_result"
    }
   ],
   "source": [
    "adjr2_4 = 1 - (1 - r2_4) * ((len(y4_test) - 1) / (len(y4_test) - len(X4_test.columns) - 1))\n",
    "adjr2_4"
   ]
  },
  {
   "cell_type": "markdown",
   "metadata": {},
   "source": [
    "## Create Minimum Viable Product Graphs"
   ]
  },
  {
   "cell_type": "code",
   "execution_count": 807,
   "metadata": {
    "collapsed": false
   },
   "outputs": [],
   "source": [
    "# Best model so far is Model 3\n",
    "# fig = plt.figure(figsize=(10,100))\n",
    "# fig = sm.graphics.plot_partregress_grid(results_3, fig=fig)"
   ]
  },
  {
   "cell_type": "code",
   "execution_count": 806,
   "metadata": {
    "collapsed": false
   },
   "outputs": [],
   "source": [
    "# fig, ax = plt.subplots(figsize=(10,100))\n",
    "# fig = sm.graphics.plot_ccpr_grid(results_3, fig=fig)"
   ]
  },
  {
   "cell_type": "code",
   "execution_count": null,
   "metadata": {
    "collapsed": true
   },
   "outputs": [],
   "source": []
  }
 ],
 "metadata": {
  "kernelspec": {
   "display_name": "Python 2",
   "language": "python",
   "name": "python2"
  },
  "language_info": {
   "codemirror_mode": {
    "name": "ipython",
    "version": 2
   },
   "file_extension": ".py",
   "mimetype": "text/x-python",
   "name": "python",
   "nbconvert_exporter": "python",
   "pygments_lexer": "ipython2",
   "version": "2.7.11"
  }
 },
 "nbformat": 4,
 "nbformat_minor": 0
}
